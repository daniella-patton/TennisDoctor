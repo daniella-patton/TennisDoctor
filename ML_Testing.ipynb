{
 "cells": [
  {
   "cell_type": "markdown",
   "metadata": {},
   "source": [
    "# Testing Various Machine Learning Models\n",
    "\n",
    "I would like to create model that can identify individuals at the greatest risk of injury three months prior to when it occurs. In order to do this, I will first complete feature selection using a step-forward approach to optimize recall. Then I will complete some basic EDA. How imablaneced is the data? Are the features selected correlated? Next, I tested various machine learnign models and balenced thate data using to oversampling"
   ]
  },
  {
   "cell_type": "code",
   "execution_count": 1,
   "metadata": {},
   "outputs": [
    {
     "data": {
      "application/javascript": [
       "\n",
       "            setTimeout(function() {\n",
       "                var nbb_cell_id = 1;\n",
       "                var nbb_unformatted_code = \"# Machine Learning Model Tests\\n%load_ext nb_black\";\n",
       "                var nbb_formatted_code = \"# Machine Learning Model Tests\\n%load_ext nb_black\";\n",
       "                var nbb_cells = Jupyter.notebook.get_cells();\n",
       "                for (var i = 0; i < nbb_cells.length; ++i) {\n",
       "                    if (nbb_cells[i].input_prompt_number == nbb_cell_id) {\n",
       "                        if (nbb_cells[i].get_text() == nbb_unformatted_code) {\n",
       "                             nbb_cells[i].set_text(nbb_formatted_code);\n",
       "                        }\n",
       "                        break;\n",
       "                    }\n",
       "                }\n",
       "            }, 500);\n",
       "            "
      ],
      "text/plain": [
       "<IPython.core.display.Javascript object>"
      ]
     },
     "metadata": {},
     "output_type": "display_data"
    }
   ],
   "source": [
    "# Machine Learning Model Tests\n",
    "%load_ext nb_black"
   ]
  },
  {
   "cell_type": "code",
   "execution_count": 2,
   "metadata": {},
   "outputs": [
    {
     "data": {
      "application/javascript": [
       "\n",
       "            setTimeout(function() {\n",
       "                var nbb_cell_id = 2;\n",
       "                var nbb_unformatted_code = \"######FINAL COPY\\n#ML 2010\\n# Reading in the pachages used for this part of analysis\\nimport pandas as pd\\nimport numpy as np\\nfrom numpy import cov\\nfrom scipy.stats import pearsonr\\nfrom datetime import date\\nimport datetime\\nfrom dateutil.relativedelta import relativedelta\\nfrom dateutil import parser\\nfrom collections import Counter\\nfrom datetime import datetime\\nfrom dateutil.parser import parse\\nimport datetime\\nfrom sklearn.linear_model import LogisticRegression\\nfrom sklearn.model_selection import train_test_split\\nimport seaborn as sns\\nfrom dateutil import parser\\nimport random\\nimport os\\nimport os.path\\nfrom collections import Counter\\nimport sklearn\\n\\nimport matplotlib.pyplot as plt\\nfrom matplotlib import colors\\nfrom matplotlib.ticker import PercentFormatter\\n\\nfrom pandas.plotting import scatter_matrix\\nfrom sklearn.preprocessing import StandardScaler\\nfrom sklearn import linear_model\\n\\nfrom xgboost import XGBClassifier\\n\\nimport pandas  as pd \\nimport matplotlib.pyplot as plt \\nimport numpy as np \\nfrom sklearn.linear_model import LogisticRegression \\nfrom sklearn.preprocessing import StandardScaler \\nfrom sklearn.metrics import confusion_matrix, classification_report \\n\\nimport matplotlib.pyplot as plt\\nfrom sklearn import model_selection\\nfrom sklearn.linear_model import LogisticRegression\\nfrom sklearn.tree import DecisionTreeClassifier\\nfrom sklearn.neighbors import KNeighborsClassifier\\nfrom sklearn.discriminant_analysis import LinearDiscriminantAnalysis\\nfrom sklearn.naive_bayes import GaussianNB\\nfrom sklearn.svm import SVC\\nfrom sklearn.ensemble import RandomForestClassifier \\n\\n\\nfrom imblearn.over_sampling import SMOTE \\nfrom imblearn.pipeline import make_pipeline\";\n",
       "                var nbb_formatted_code = \"######FINAL COPY\\n# ML 2010\\n# Reading in the pachages used for this part of analysis\\nimport pandas as pd\\nimport numpy as np\\nfrom numpy import cov\\nfrom scipy.stats import pearsonr\\nfrom datetime import date\\nimport datetime\\nfrom dateutil.relativedelta import relativedelta\\nfrom dateutil import parser\\nfrom collections import Counter\\nfrom datetime import datetime\\nfrom dateutil.parser import parse\\nimport datetime\\nfrom sklearn.linear_model import LogisticRegression\\nfrom sklearn.model_selection import train_test_split\\nimport seaborn as sns\\nfrom dateutil import parser\\nimport random\\nimport os\\nimport os.path\\nfrom collections import Counter\\nimport sklearn\\n\\nimport matplotlib.pyplot as plt\\nfrom matplotlib import colors\\nfrom matplotlib.ticker import PercentFormatter\\n\\nfrom pandas.plotting import scatter_matrix\\nfrom sklearn.preprocessing import StandardScaler\\nfrom sklearn import linear_model\\n\\nfrom xgboost import XGBClassifier\\n\\nimport pandas as pd\\nimport matplotlib.pyplot as plt\\nimport numpy as np\\nfrom sklearn.linear_model import LogisticRegression\\nfrom sklearn.preprocessing import StandardScaler\\nfrom sklearn.metrics import confusion_matrix, classification_report\\n\\nimport matplotlib.pyplot as plt\\nfrom sklearn import model_selection\\nfrom sklearn.linear_model import LogisticRegression\\nfrom sklearn.tree import DecisionTreeClassifier\\nfrom sklearn.neighbors import KNeighborsClassifier\\nfrom sklearn.discriminant_analysis import LinearDiscriminantAnalysis\\nfrom sklearn.naive_bayes import GaussianNB\\nfrom sklearn.svm import SVC\\nfrom sklearn.ensemble import RandomForestClassifier\\n\\n\\nfrom imblearn.over_sampling import SMOTE\\nfrom imblearn.pipeline import make_pipeline\";\n",
       "                var nbb_cells = Jupyter.notebook.get_cells();\n",
       "                for (var i = 0; i < nbb_cells.length; ++i) {\n",
       "                    if (nbb_cells[i].input_prompt_number == nbb_cell_id) {\n",
       "                        if (nbb_cells[i].get_text() == nbb_unformatted_code) {\n",
       "                             nbb_cells[i].set_text(nbb_formatted_code);\n",
       "                        }\n",
       "                        break;\n",
       "                    }\n",
       "                }\n",
       "            }, 500);\n",
       "            "
      ],
      "text/plain": [
       "<IPython.core.display.Javascript object>"
      ]
     },
     "metadata": {},
     "output_type": "display_data"
    }
   ],
   "source": [
    "######FINAL COPY\n",
    "# ML 2010\n",
    "# Reading in the pachages used for this part of analysis\n",
    "import pandas as pd\n",
    "import numpy as np\n",
    "from numpy import cov\n",
    "from scipy.stats import pearsonr\n",
    "from datetime import date\n",
    "import datetime\n",
    "from dateutil.relativedelta import relativedelta\n",
    "from dateutil import parser\n",
    "from collections import Counter\n",
    "from datetime import datetime\n",
    "from dateutil.parser import parse\n",
    "import datetime\n",
    "from sklearn.linear_model import LogisticRegression\n",
    "from sklearn.model_selection import train_test_split\n",
    "import seaborn as sns\n",
    "from dateutil import parser\n",
    "import random\n",
    "import os\n",
    "import os.path\n",
    "from collections import Counter\n",
    "import sklearn\n",
    "\n",
    "import matplotlib.pyplot as plt\n",
    "from matplotlib import colors\n",
    "from matplotlib.ticker import PercentFormatter\n",
    "\n",
    "from pandas.plotting import scatter_matrix\n",
    "from sklearn.preprocessing import StandardScaler\n",
    "from sklearn import linear_model\n",
    "\n",
    "from xgboost import XGBClassifier\n",
    "\n",
    "import pandas as pd\n",
    "import matplotlib.pyplot as plt\n",
    "import numpy as np\n",
    "from sklearn.linear_model import LogisticRegression\n",
    "from sklearn.preprocessing import StandardScaler\n",
    "from sklearn.metrics import confusion_matrix, classification_report\n",
    "\n",
    "import matplotlib.pyplot as plt\n",
    "from sklearn import model_selection\n",
    "from sklearn.linear_model import LogisticRegression\n",
    "from sklearn.tree import DecisionTreeClassifier\n",
    "from sklearn.neighbors import KNeighborsClassifier\n",
    "from sklearn.discriminant_analysis import LinearDiscriminantAnalysis\n",
    "from sklearn.naive_bayes import GaussianNB\n",
    "from sklearn.svm import SVC\n",
    "from sklearn.ensemble import RandomForestClassifier\n",
    "import matplotlib.pyplot as plt\n",
    "\n",
    "from imblearn.over_sampling import SMOTE\n",
    "from imblearn.pipeline import make_pipeline\n",
    "from imblearn.over_sampling import ADASYN \n",
    "import seaborn as sns\n",
    "import matplotlib.pyplot as plt\n",
    "from sklearn import preprocessing\n",
    "import pickle\n",
    "from sklearn import preprocessing\n"
   ]
  },
  {
   "cell_type": "code",
   "execution_count": 3,
   "metadata": {},
   "outputs": [
    {
     "name": "stdout",
     "output_type": "stream",
     "text": [
      "/Users/Owner/Desktop/InsightFellows/Daniella_Patton_Insight_Project/Raw_Data\n"
     ]
    },
    {
     "name": "stderr",
     "output_type": "stream",
     "text": [
      "/Users/Owner/opt/anaconda3/lib/python3.7/site-packages/IPython/core/interactiveshell.py:3058: DtypeWarning: Columns (10,22,34) have mixed types. Specify dtype option on import or set low_memory=False.\n",
      "  interactivity=interactivity, compiler=compiler, result=result)\n"
     ]
    },
    {
     "data": {
      "application/javascript": [
       "\n",
       "            setTimeout(function() {\n",
       "                var nbb_cell_id = 3;\n",
       "                var nbb_unformatted_code = \"# Change the Working Directory\\nos.chdir('/Users/Owner/Desktop/InsightFellows/Daniella_Patton_Insight_Project/Raw_Data')\\nprint(os.getcwd())  # Prints the current working directory\\nml_table2010 = pd.read_csv('ML_filtered_career.csv')\";\n",
       "                var nbb_formatted_code = \"# Change the Working Directory\\nos.chdir(\\\"/Users/Owner/Desktop/InsightFellows/Daniella_Patton_Insight_Project/Raw_Data\\\")\\nprint(os.getcwd())  # Prints the current working directory\\nml_table2010 = pd.read_csv(\\\"ML_filtered_career.csv\\\")\";\n",
       "                var nbb_cells = Jupyter.notebook.get_cells();\n",
       "                for (var i = 0; i < nbb_cells.length; ++i) {\n",
       "                    if (nbb_cells[i].input_prompt_number == nbb_cell_id) {\n",
       "                        if (nbb_cells[i].get_text() == nbb_unformatted_code) {\n",
       "                             nbb_cells[i].set_text(nbb_formatted_code);\n",
       "                        }\n",
       "                        break;\n",
       "                    }\n",
       "                }\n",
       "            }, 500);\n",
       "            "
      ],
      "text/plain": [
       "<IPython.core.display.Javascript object>"
      ]
     },
     "metadata": {},
     "output_type": "display_data"
    }
   ],
   "source": [
    "# Change the Working Directory\n",
    "os.chdir(\"/Users/Owner/Desktop/InsightFellows/Daniella_Patton_Insight_Project/Raw_Data\")\n",
    "print(os.getcwd())  # Prints the current working directory\n",
    "ml_table2010 = pd.read_csv(\"ML_filtered_career.csv\")"
   ]
  },
  {
   "cell_type": "code",
   "execution_count": 4,
   "metadata": {},
   "outputs": [
    {
     "data": {
      "application/javascript": [
       "\n",
       "            setTimeout(function() {\n",
       "                var nbb_cell_id = 4;\n",
       "                var nbb_unformatted_code = \"ml_table2010.head()\\n\\ndef ratio(ml_table2010):\\n    if ml_table2010.Month1DoublesMathces == 0:\\n        x = ml_table2010.Month1SinglesMathces\\n    else: \\n        x = ml_table2010.Month1SinglesMathces/ml_table2010.Month1DoublesMathces\\n    return x\";\n",
       "                var nbb_formatted_code = \"ml_table2010.head()\\n\\n\\ndef ratio(ml_table2010):\\n    if ml_table2010.Month1DoublesMathces == 0:\\n        x = ml_table2010.Month1SinglesMathces\\n    else:\\n        x = ml_table2010.Month1SinglesMathces / ml_table2010.Month1DoublesMathces\\n    return x\";\n",
       "                var nbb_cells = Jupyter.notebook.get_cells();\n",
       "                for (var i = 0; i < nbb_cells.length; ++i) {\n",
       "                    if (nbb_cells[i].input_prompt_number == nbb_cell_id) {\n",
       "                        if (nbb_cells[i].get_text() == nbb_unformatted_code) {\n",
       "                             nbb_cells[i].set_text(nbb_formatted_code);\n",
       "                        }\n",
       "                        break;\n",
       "                    }\n",
       "                }\n",
       "            }, 500);\n",
       "            "
      ],
      "text/plain": [
       "<IPython.core.display.Javascript object>"
      ]
     },
     "metadata": {},
     "output_type": "display_data"
    }
   ],
   "source": [
    "ml_table2010.head()\n",
    "\n",
    "\n",
    "def ratio(ml_table2010):\n",
    "    if ml_table2010.Month1DoublesMathces == 0:\n",
    "        x = ml_table2010.Month1SinglesMathces\n",
    "    else:\n",
    "        x = ml_table2010.Month1SinglesMathces / ml_table2010.Month1DoublesMathces\n",
    "    return x"
   ]
  },
  {
   "cell_type": "code",
   "execution_count": 5,
   "metadata": {},
   "outputs": [
    {
     "data": {
      "application/javascript": [
       "\n",
       "            setTimeout(function() {\n",
       "                var nbb_cell_id = 5;\n",
       "                var nbb_unformatted_code = \"# Hard Code in Yes or No for injury type\\nml_table2010['Injured'] = ml_table2010['Injured'].replace('Y', 1)\\nml_table2010['Injured'] = ml_table2010['Injured'].replace('N',0)\\n# Hard Code in \\nml_table2010['Month1Injured'] = ml_table2010['Month1Injured'].replace('Y', 1)\\nml_table2010['Month1Injured'] = ml_table2010['Month1Injured'].replace('N',0)\\n# Hard Code in \\nml_table2010['Month3Injured'] = ml_table2010['Month3Injured'].replace('Y', 1)\\nml_table2010['Month3Injured'] = ml_table2010['Month3Injured'].replace('N',0)\\n# Hard Code in \\nml_table2010['Month6Injured'] = ml_table2010['Month6Injured'].replace('Y', 1)\\nml_table2010['Month6Injured'] = ml_table2010['Month6Injured'].replace('N',0)\\n# Hard Code in \\nml_table2010['CumInjured'] = ml_table2010['CumInjured'].replace('Y', 1)\\nml_table2010['CumInjured'] = ml_table2010['CumInjured'].replace('N', 0)\";\n",
       "                var nbb_formatted_code = \"# Hard Code in Yes or No for injury type\\nml_table2010[\\\"Injured\\\"] = ml_table2010[\\\"Injured\\\"].replace(\\\"Y\\\", 1)\\nml_table2010[\\\"Injured\\\"] = ml_table2010[\\\"Injured\\\"].replace(\\\"N\\\", 0)\\n# Hard Code in\\nml_table2010[\\\"Month1Injured\\\"] = ml_table2010[\\\"Month1Injured\\\"].replace(\\\"Y\\\", 1)\\nml_table2010[\\\"Month1Injured\\\"] = ml_table2010[\\\"Month1Injured\\\"].replace(\\\"N\\\", 0)\\n# Hard Code in\\nml_table2010[\\\"Month3Injured\\\"] = ml_table2010[\\\"Month3Injured\\\"].replace(\\\"Y\\\", 1)\\nml_table2010[\\\"Month3Injured\\\"] = ml_table2010[\\\"Month3Injured\\\"].replace(\\\"N\\\", 0)\\n# Hard Code in\\nml_table2010[\\\"Month6Injured\\\"] = ml_table2010[\\\"Month6Injured\\\"].replace(\\\"Y\\\", 1)\\nml_table2010[\\\"Month6Injured\\\"] = ml_table2010[\\\"Month6Injured\\\"].replace(\\\"N\\\", 0)\\n# Hard Code in\\nml_table2010[\\\"CumInjured\\\"] = ml_table2010[\\\"CumInjured\\\"].replace(\\\"Y\\\", 1)\\nml_table2010[\\\"CumInjured\\\"] = ml_table2010[\\\"CumInjured\\\"].replace(\\\"N\\\", 0)\";\n",
       "                var nbb_cells = Jupyter.notebook.get_cells();\n",
       "                for (var i = 0; i < nbb_cells.length; ++i) {\n",
       "                    if (nbb_cells[i].input_prompt_number == nbb_cell_id) {\n",
       "                        if (nbb_cells[i].get_text() == nbb_unformatted_code) {\n",
       "                             nbb_cells[i].set_text(nbb_formatted_code);\n",
       "                        }\n",
       "                        break;\n",
       "                    }\n",
       "                }\n",
       "            }, 500);\n",
       "            "
      ],
      "text/plain": [
       "<IPython.core.display.Javascript object>"
      ]
     },
     "metadata": {},
     "output_type": "display_data"
    }
   ],
   "source": [
    "# Hard Code in Yes or No for injury type\n",
    "ml_table2010[\"Injured\"] = ml_table2010[\"Injured\"].replace(\"Y\", 1)\n",
    "ml_table2010[\"Injured\"] = ml_table2010[\"Injured\"].replace(\"N\", 0)\n",
    "# Hard Code in\n",
    "ml_table2010[\"Month1Injured\"] = ml_table2010[\"Month1Injured\"].replace(\"Y\", 1)\n",
    "ml_table2010[\"Month1Injured\"] = ml_table2010[\"Month1Injured\"].replace(\"N\", 0)\n",
    "# Hard Code in\n",
    "ml_table2010[\"Month3Injured\"] = ml_table2010[\"Month3Injured\"].replace(\"Y\", 1)\n",
    "ml_table2010[\"Month3Injured\"] = ml_table2010[\"Month3Injured\"].replace(\"N\", 0)\n",
    "# Hard Code in\n",
    "ml_table2010[\"Month6Injured\"] = ml_table2010[\"Month6Injured\"].replace(\"Y\", 1)\n",
    "ml_table2010[\"Month6Injured\"] = ml_table2010[\"Month6Injured\"].replace(\"N\", 0)\n",
    "# Hard Code in\n",
    "ml_table2010[\"CumInjured\"] = ml_table2010[\"CumInjured\"].replace(\"Y\", 1)\n",
    "ml_table2010[\"CumInjured\"] = ml_table2010[\"CumInjured\"].replace(\"N\", 0)"
   ]
  },
  {
   "cell_type": "code",
   "execution_count": 6,
   "metadata": {},
   "outputs": [
    {
     "data": {
      "application/javascript": [
       "\n",
       "            setTimeout(function() {\n",
       "                var nbb_cell_id = 6;\n",
       "                var nbb_unformatted_code = \"# GET DUMMIES FOR THE REST\\n# Drop the name\\nml_table2010 = pd.get_dummies(ml_table2010, columns=[\\\"Country\\\",'Month1InjuredType', 'Month3InjuredType',\\n                                                    'Month6InjuredType', 'CumInjuredType'])\";\n",
       "                var nbb_formatted_code = \"# GET DUMMIES FOR THE REST\\n# Drop the name\\nml_table2010 = pd.get_dummies(\\n    ml_table2010,\\n    columns=[\\n        \\\"Country\\\",\\n        \\\"Month1InjuredType\\\",\\n        \\\"Month3InjuredType\\\",\\n        \\\"Month6InjuredType\\\",\\n        \\\"CumInjuredType\\\",\\n    ],\\n)\";\n",
       "                var nbb_cells = Jupyter.notebook.get_cells();\n",
       "                for (var i = 0; i < nbb_cells.length; ++i) {\n",
       "                    if (nbb_cells[i].input_prompt_number == nbb_cell_id) {\n",
       "                        if (nbb_cells[i].get_text() == nbb_unformatted_code) {\n",
       "                             nbb_cells[i].set_text(nbb_formatted_code);\n",
       "                        }\n",
       "                        break;\n",
       "                    }\n",
       "                }\n",
       "            }, 500);\n",
       "            "
      ],
      "text/plain": [
       "<IPython.core.display.Javascript object>"
      ]
     },
     "metadata": {},
     "output_type": "display_data"
    }
   ],
   "source": [
    "# GET DUMMIES FOR THE REST\n",
    "# Drop the name\n",
    "ml_table2010 = pd.get_dummies(\n",
    "    ml_table2010,\n",
    "    columns=[\n",
    "        \"Country\",\n",
    "        \"Month1InjuredType\",\n",
    "        \"Month3InjuredType\",\n",
    "        \"Month6InjuredType\",\n",
    "        \"CumInjuredType\",\n",
    "    ],\n",
    ")"
   ]
  },
  {
   "cell_type": "code",
   "execution_count": 7,
   "metadata": {},
   "outputs": [
    {
     "data": {
      "text/plain": [
       "StartDate                      object\n",
       "PlayerName                     object\n",
       "Age                             int64\n",
       "Injured                         int64\n",
       "Singles_Ranking               float64\n",
       "                               ...   \n",
       "Month6InjuredType_Moderate      uint8\n",
       "Month6InjuredType_Severe        uint8\n",
       "CumInjuredType_Mild             uint8\n",
       "CumInjuredType_Moderate         uint8\n",
       "CumInjuredType_Severe           uint8\n",
       "Length: 116, dtype: object"
      ]
     },
     "execution_count": 7,
     "metadata": {},
     "output_type": "execute_result"
    },
    {
     "data": {
      "application/javascript": [
       "\n",
       "            setTimeout(function() {\n",
       "                var nbb_cell_id = 7;\n",
       "                var nbb_unformatted_code = \"ml_table2010 = ml_table2010.drop(['EndDate'], axis=1)\\nml_table2010.dtypes\";\n",
       "                var nbb_formatted_code = \"ml_table2010 = ml_table2010.drop([\\\"EndDate\\\"], axis=1)\\nml_table2010.dtypes\";\n",
       "                var nbb_cells = Jupyter.notebook.get_cells();\n",
       "                for (var i = 0; i < nbb_cells.length; ++i) {\n",
       "                    if (nbb_cells[i].input_prompt_number == nbb_cell_id) {\n",
       "                        if (nbb_cells[i].get_text() == nbb_unformatted_code) {\n",
       "                             nbb_cells[i].set_text(nbb_formatted_code);\n",
       "                        }\n",
       "                        break;\n",
       "                    }\n",
       "                }\n",
       "            }, 500);\n",
       "            "
      ],
      "text/plain": [
       "<IPython.core.display.Javascript object>"
      ]
     },
     "metadata": {},
     "output_type": "display_data"
    }
   ],
   "source": [
    "ml_table2010 = ml_table2010.drop([\"EndDate\"], axis=1)\n",
    "ml_table2010.dtypes"
   ]
  },
  {
   "cell_type": "code",
   "execution_count": 8,
   "metadata": {},
   "outputs": [
    {
     "data": {
      "application/javascript": [
       "\n",
       "            setTimeout(function() {\n",
       "                var nbb_cell_id = 8;\n",
       "                var nbb_unformatted_code = \"# Getting all of the data in the collumn filtered by startdate so \\nml_table2010['StartDate'] = ml_table2010['StartDate'].apply(lambda x: parser.parse(x).date())\";\n",
       "                var nbb_formatted_code = \"# Getting all of the data in the collumn filtered by startdate so\\nml_table2010[\\\"StartDate\\\"] = ml_table2010[\\\"StartDate\\\"].apply(\\n    lambda x: parser.parse(x).date()\\n)\";\n",
       "                var nbb_cells = Jupyter.notebook.get_cells();\n",
       "                for (var i = 0; i < nbb_cells.length; ++i) {\n",
       "                    if (nbb_cells[i].input_prompt_number == nbb_cell_id) {\n",
       "                        if (nbb_cells[i].get_text() == nbb_unformatted_code) {\n",
       "                             nbb_cells[i].set_text(nbb_formatted_code);\n",
       "                        }\n",
       "                        break;\n",
       "                    }\n",
       "                }\n",
       "            }, 500);\n",
       "            "
      ],
      "text/plain": [
       "<IPython.core.display.Javascript object>"
      ]
     },
     "metadata": {},
     "output_type": "display_data"
    }
   ],
   "source": [
    "# Getting all of the data in the collumn filtered by startdate so\n",
    "ml_table2010[\"StartDate\"] = ml_table2010[\"StartDate\"].apply(\n",
    "    lambda x: parser.parse(x).date()\n",
    ")"
   ]
  },
  {
   "cell_type": "code",
   "execution_count": 9,
   "metadata": {
    "scrolled": true
   },
   "outputs": [
    {
     "name": "stdout",
     "output_type": "stream",
     "text": [
      "0    13687\n",
      "1     2698\n",
      "Name: Injured, dtype: int64\n",
      "0.19712135603127054\n"
     ]
    },
    {
     "data": {
      "image/png": "[encoded data removed]",
      "text/plain": [
       "<Figure size 360x360 with 1 Axes>"
      ]
     },
     "metadata": {
      "needs_background": "light"
     },
     "output_type": "display_data"
    },
    {
     "data": {
      "application/javascript": [
       "\n",
       "            setTimeout(function() {\n",
       "                var nbb_cell_id = 9;\n",
       "                var nbb_unformatted_code = \"# Chacked for Unbalenced Classes\\nsns.catplot(x=\\\"Injured\\\", kind=\\\"count\\\", palette=\\\"ch:.25\\\", data=ml_table2010);\\nprint(ml_table2010['Injured'].value_counts())\\nprint(2698/13687)\";\n",
       "                var nbb_formatted_code = \"# Chacked for Unbalenced Classes\\nsns.catplot(x=\\\"Injured\\\", kind=\\\"count\\\", palette=\\\"ch:.25\\\", data=ml_table2010)\\nprint(ml_table2010[\\\"Injured\\\"].value_counts())\\nprint(2698 / 13687)\";\n",
       "                var nbb_cells = Jupyter.notebook.get_cells();\n",
       "                for (var i = 0; i < nbb_cells.length; ++i) {\n",
       "                    if (nbb_cells[i].input_prompt_number == nbb_cell_id) {\n",
       "                        if (nbb_cells[i].get_text() == nbb_unformatted_code) {\n",
       "                             nbb_cells[i].set_text(nbb_formatted_code);\n",
       "                        }\n",
       "                        break;\n",
       "                    }\n",
       "                }\n",
       "            }, 500);\n",
       "            "
      ],
      "text/plain": [
       "<IPython.core.display.Javascript object>"
      ]
     },
     "metadata": {},
     "output_type": "display_data"
    }
   ],
   "source": [
    "# Chacked for Unbalenced Classes\n",
    "sns.catplot(x=\"Injured\", kind=\"count\", palette=\"ch:.25\", data=ml_table2010)\n",
    "print(ml_table2010[\"Injured\"].value_counts())\n",
    "print(2698 / 13687)"
   ]
  },
  {
   "cell_type": "code",
   "execution_count": 10,
   "metadata": {},
   "outputs": [
    {
     "data": {
      "application/javascript": [
       "\n",
       "            setTimeout(function() {\n",
       "                var nbb_cell_id = 10;\n",
       "                var nbb_unformatted_code = \"# Use 2010 - 2018 data to train\\nTraining = ml_table2010[ml_table2010['StartDate'] < datetime.date(2018,1,1)]\\nX_train = Training.drop(['Injured', 'StartDate', 'PlayerName'], axis=1) \\nY_train = Training['Injured']\\n\\n# Use 2019 data to test how accurate the model predictions are\\n# Testing Set\\nTesting = ml_table2010[(ml_table2010['StartDate'] >= datetime.date(2018,1,1)) &\\n                      (ml_table2010['StartDate'] < datetime.date(2019,6,1))]\\nX_test = Testing.drop(['Injured', 'StartDate', 'PlayerName'], axis=1)\\nY_test = Testing['Injured']\";\n",
       "                var nbb_formatted_code = \"# Use 2010 - 2018 data to train\\nTraining = ml_table2010[ml_table2010[\\\"StartDate\\\"] < datetime.date(2018, 1, 1)]\\nX_train = Training.drop([\\\"Injured\\\", \\\"StartDate\\\", \\\"PlayerName\\\"], axis=1)\\nY_train = Training[\\\"Injured\\\"]\\n\\n# Use 2019 data to test how accurate the model predictions are\\n# Testing Set\\nTesting = ml_table2010[\\n    (ml_table2010[\\\"StartDate\\\"] >= datetime.date(2018, 1, 1))\\n    & (ml_table2010[\\\"StartDate\\\"] < datetime.date(2019, 6, 1))\\n]\\nX_test = Testing.drop([\\\"Injured\\\", \\\"StartDate\\\", \\\"PlayerName\\\"], axis=1)\\nY_test = Testing[\\\"Injured\\\"]\";\n",
       "                var nbb_cells = Jupyter.notebook.get_cells();\n",
       "                for (var i = 0; i < nbb_cells.length; ++i) {\n",
       "                    if (nbb_cells[i].input_prompt_number == nbb_cell_id) {\n",
       "                        if (nbb_cells[i].get_text() == nbb_unformatted_code) {\n",
       "                             nbb_cells[i].set_text(nbb_formatted_code);\n",
       "                        }\n",
       "                        break;\n",
       "                    }\n",
       "                }\n",
       "            }, 500);\n",
       "            "
      ],
      "text/plain": [
       "<IPython.core.display.Javascript object>"
      ]
     },
     "metadata": {},
     "output_type": "display_data"
    }
   ],
   "source": [
    "# Use 2010 - 2018 data to train\n",
    "Training = ml_table2010[ml_table2010[\"StartDate\"] < datetime.date(2018, 1, 1)]\n",
    "X_train = Training.drop([\"Injured\", \"StartDate\", \"PlayerName\"], axis=1)\n",
    "Y_train = Training[\"Injured\"]\n",
    "\n",
    "# Use 2019 data to test how accurate the model predictions are\n",
    "# Testing Set\n",
    "Testing = ml_table2010[\n",
    "    (ml_table2010[\"StartDate\"] >= datetime.date(2018, 1, 1))\n",
    "    & (ml_table2010[\"StartDate\"] < datetime.date(2019, 6, 1))\n",
    "]\n",
    "X_test = Testing.drop([\"Injured\", \"StartDate\", \"PlayerName\"], axis=1)\n",
    "Y_test = Testing[\"Injured\"]"
   ]
  },
  {
   "cell_type": "code",
   "execution_count": 11,
   "metadata": {},
   "outputs": [
    {
     "data": {
      "text/html": [
       "<div>\n",
       "<style scoped>\n",
       "    .dataframe tbody tr th:only-of-type {\n",
       "        vertical-align: middle;\n",
       "    }\n",
       "\n",
       "    .dataframe tbody tr th {\n",
       "        vertical-align: top;\n",
       "    }\n",
       "\n",
       "    .dataframe thead th {\n",
       "        text-align: right;\n",
       "    }\n",
       "</style>\n",
       "<table border=\"1\" class=\"dataframe\">\n",
       "  <thead>\n",
       "    <tr style=\"text-align: right;\">\n",
       "      <th></th>\n",
       "      <th>StartDate</th>\n",
       "      <th>PlayerName</th>\n",
       "      <th>Age</th>\n",
       "      <th>Injured</th>\n",
       "      <th>Singles_Ranking</th>\n",
       "      <th>Doubles_Ranking</th>\n",
       "      <th>Month1Injured</th>\n",
       "      <th>Month1TimeInjured</th>\n",
       "      <th>Month1GamesPlayed</th>\n",
       "      <th>Month1MatchesPlayed</th>\n",
       "      <th>...</th>\n",
       "      <th>Month1InjuredType_Severe</th>\n",
       "      <th>Month3InjuredType_Mild</th>\n",
       "      <th>Month3InjuredType_Moderate</th>\n",
       "      <th>Month3InjuredType_Severe</th>\n",
       "      <th>Month6InjuredType_Mild</th>\n",
       "      <th>Month6InjuredType_Moderate</th>\n",
       "      <th>Month6InjuredType_Severe</th>\n",
       "      <th>CumInjuredType_Mild</th>\n",
       "      <th>CumInjuredType_Moderate</th>\n",
       "      <th>CumInjuredType_Severe</th>\n",
       "    </tr>\n",
       "  </thead>\n",
       "  <tbody>\n",
       "    <tr>\n",
       "      <td>0</td>\n",
       "      <td>2010-04-01</td>\n",
       "      <td>Ashleigh Barty</td>\n",
       "      <td>13</td>\n",
       "      <td>0</td>\n",
       "      <td>175.0</td>\n",
       "      <td>13.0</td>\n",
       "      <td>0</td>\n",
       "      <td>0</td>\n",
       "      <td>0.0</td>\n",
       "      <td>0</td>\n",
       "      <td>...</td>\n",
       "      <td>0</td>\n",
       "      <td>0</td>\n",
       "      <td>0</td>\n",
       "      <td>0</td>\n",
       "      <td>0</td>\n",
       "      <td>0</td>\n",
       "      <td>0</td>\n",
       "      <td>0</td>\n",
       "      <td>0</td>\n",
       "      <td>0</td>\n",
       "    </tr>\n",
       "    <tr>\n",
       "      <td>1</td>\n",
       "      <td>2010-07-01</td>\n",
       "      <td>Ashleigh Barty</td>\n",
       "      <td>14</td>\n",
       "      <td>0</td>\n",
       "      <td>175.0</td>\n",
       "      <td>13.0</td>\n",
       "      <td>0</td>\n",
       "      <td>0</td>\n",
       "      <td>0.0</td>\n",
       "      <td>0</td>\n",
       "      <td>...</td>\n",
       "      <td>0</td>\n",
       "      <td>0</td>\n",
       "      <td>0</td>\n",
       "      <td>0</td>\n",
       "      <td>0</td>\n",
       "      <td>0</td>\n",
       "      <td>0</td>\n",
       "      <td>0</td>\n",
       "      <td>0</td>\n",
       "      <td>0</td>\n",
       "    </tr>\n",
       "    <tr>\n",
       "      <td>2</td>\n",
       "      <td>2010-10-01</td>\n",
       "      <td>Ashleigh Barty</td>\n",
       "      <td>14</td>\n",
       "      <td>0</td>\n",
       "      <td>175.0</td>\n",
       "      <td>13.0</td>\n",
       "      <td>0</td>\n",
       "      <td>0</td>\n",
       "      <td>0.0</td>\n",
       "      <td>0</td>\n",
       "      <td>...</td>\n",
       "      <td>0</td>\n",
       "      <td>0</td>\n",
       "      <td>0</td>\n",
       "      <td>0</td>\n",
       "      <td>0</td>\n",
       "      <td>0</td>\n",
       "      <td>0</td>\n",
       "      <td>0</td>\n",
       "      <td>0</td>\n",
       "      <td>0</td>\n",
       "    </tr>\n",
       "    <tr>\n",
       "      <td>3</td>\n",
       "      <td>2011-01-01</td>\n",
       "      <td>Ashleigh Barty</td>\n",
       "      <td>14</td>\n",
       "      <td>0</td>\n",
       "      <td>500.0</td>\n",
       "      <td>45.0</td>\n",
       "      <td>0</td>\n",
       "      <td>0</td>\n",
       "      <td>0.0</td>\n",
       "      <td>0</td>\n",
       "      <td>...</td>\n",
       "      <td>0</td>\n",
       "      <td>0</td>\n",
       "      <td>0</td>\n",
       "      <td>0</td>\n",
       "      <td>0</td>\n",
       "      <td>0</td>\n",
       "      <td>0</td>\n",
       "      <td>0</td>\n",
       "      <td>0</td>\n",
       "      <td>0</td>\n",
       "    </tr>\n",
       "    <tr>\n",
       "      <td>4</td>\n",
       "      <td>2011-04-01</td>\n",
       "      <td>Ashleigh Barty</td>\n",
       "      <td>14</td>\n",
       "      <td>0</td>\n",
       "      <td>500.0</td>\n",
       "      <td>45.0</td>\n",
       "      <td>0</td>\n",
       "      <td>0</td>\n",
       "      <td>47.0</td>\n",
       "      <td>2</td>\n",
       "      <td>...</td>\n",
       "      <td>0</td>\n",
       "      <td>0</td>\n",
       "      <td>0</td>\n",
       "      <td>0</td>\n",
       "      <td>0</td>\n",
       "      <td>0</td>\n",
       "      <td>0</td>\n",
       "      <td>0</td>\n",
       "      <td>0</td>\n",
       "      <td>0</td>\n",
       "    </tr>\n",
       "  </tbody>\n",
       "</table>\n",
       "<p>5 rows × 116 columns</p>\n",
       "</div>"
      ],
      "text/plain": [
       "    StartDate      PlayerName  Age  Injured  Singles_Ranking  Doubles_Ranking  \\\n",
       "0  2010-04-01  Ashleigh Barty   13        0            175.0             13.0   \n",
       "1  2010-07-01  Ashleigh Barty   14        0            175.0             13.0   \n",
       "2  2010-10-01  Ashleigh Barty   14        0            175.0             13.0   \n",
       "3  2011-01-01  Ashleigh Barty   14        0            500.0             45.0   \n",
       "4  2011-04-01  Ashleigh Barty   14        0            500.0             45.0   \n",
       "\n",
       "   Month1Injured  Month1TimeInjured  Month1GamesPlayed  Month1MatchesPlayed  \\\n",
       "0              0                  0                0.0                    0   \n",
       "1              0                  0                0.0                    0   \n",
       "2              0                  0                0.0                    0   \n",
       "3              0                  0                0.0                    0   \n",
       "4              0                  0               47.0                    2   \n",
       "\n",
       "   ...  Month1InjuredType_Severe  Month3InjuredType_Mild  \\\n",
       "0  ...                         0                       0   \n",
       "1  ...                         0                       0   \n",
       "2  ...                         0                       0   \n",
       "3  ...                         0                       0   \n",
       "4  ...                         0                       0   \n",
       "\n",
       "   Month3InjuredType_Moderate  Month3InjuredType_Severe  \\\n",
       "0                           0                         0   \n",
       "1                           0                         0   \n",
       "2                           0                         0   \n",
       "3                           0                         0   \n",
       "4                           0                         0   \n",
       "\n",
       "   Month6InjuredType_Mild  Month6InjuredType_Moderate  \\\n",
       "0                       0                           0   \n",
       "1                       0                           0   \n",
       "2                       0                           0   \n",
       "3                       0                           0   \n",
       "4                       0                           0   \n",
       "\n",
       "   Month6InjuredType_Severe  CumInjuredType_Mild  CumInjuredType_Moderate  \\\n",
       "0                         0                    0                        0   \n",
       "1                         0                    0                        0   \n",
       "2                         0                    0                        0   \n",
       "3                         0                    0                        0   \n",
       "4                         0                    0                        0   \n",
       "\n",
       "   CumInjuredType_Severe  \n",
       "0                      0  \n",
       "1                      0  \n",
       "2                      0  \n",
       "3                      0  \n",
       "4                      0  \n",
       "\n",
       "[5 rows x 116 columns]"
      ]
     },
     "execution_count": 11,
     "metadata": {},
     "output_type": "execute_result"
    },
    {
     "data": {
      "application/javascript": [
       "\n",
       "            setTimeout(function() {\n",
       "                var nbb_cell_id = 11;\n",
       "                var nbb_unformatted_code = \"ml_table2010.head()\";\n",
       "                var nbb_formatted_code = \"ml_table2010.head()\";\n",
       "                var nbb_cells = Jupyter.notebook.get_cells();\n",
       "                for (var i = 0; i < nbb_cells.length; ++i) {\n",
       "                    if (nbb_cells[i].input_prompt_number == nbb_cell_id) {\n",
       "                        if (nbb_cells[i].get_text() == nbb_unformatted_code) {\n",
       "                             nbb_cells[i].set_text(nbb_formatted_code);\n",
       "                        }\n",
       "                        break;\n",
       "                    }\n",
       "                }\n",
       "            }, 500);\n",
       "            "
      ],
      "text/plain": [
       "<IPython.core.display.Javascript object>"
      ]
     },
     "metadata": {},
     "output_type": "display_data"
    }
   ],
   "source": [
    "ml_table2010.head()"
   ]
  },
  {
   "cell_type": "code",
   "execution_count": 12,
   "metadata": {},
   "outputs": [
    {
     "data": {
      "application/javascript": [
       "\n",
       "            setTimeout(function() {\n",
       "                var nbb_cell_id = 12;\n",
       "                var nbb_unformatted_code = \"#keep last duplicate value\\ndf = ml_table2010.drop_duplicates(subset=['PlayerName'], keep='last')\\n\\ncsv_for_webapp = df[['PlayerName','Month1Carpet', 'CumInjured', 'CumInjuredTimes', 'CumInjuredGames',\\n                 'Country_Argentina', 'Country_Australia', 'Country_Austria',\\n                 'Country_Belarus', 'Country_Brazil', 'Country_Colombia',\\n                 'Country_Egypt', 'Country_Estonia', 'Country_Israel',\\n                 'Country_Kazakhstan', 'Country_Latvia', 'Country_Romania',\\n                 'Country_Russia', 'Country_Serbia', 'Country_South Korea',\\n                 'Country_Sweden', 'Country_Switzerland', 'Country_Thailand',\\n                 'Country_Venezuela', 'Month1InjuredType_Severe',\\n                 'CumInjuredType_Moderate']].copy()\";\n",
       "                var nbb_formatted_code = \"# keep last duplicate value\\ndf = ml_table2010.drop_duplicates(subset=[\\\"PlayerName\\\"], keep=\\\"last\\\")\\n\\ncsv_for_webapp = df[\\n    [\\n        \\\"PlayerName\\\",\\n        \\\"Month1Carpet\\\",\\n        \\\"CumInjured\\\",\\n        \\\"CumInjuredTimes\\\",\\n        \\\"CumInjuredGames\\\",\\n        \\\"Country_Argentina\\\",\\n        \\\"Country_Australia\\\",\\n        \\\"Country_Austria\\\",\\n        \\\"Country_Belarus\\\",\\n        \\\"Country_Brazil\\\",\\n        \\\"Country_Colombia\\\",\\n        \\\"Country_Egypt\\\",\\n        \\\"Country_Estonia\\\",\\n        \\\"Country_Israel\\\",\\n        \\\"Country_Kazakhstan\\\",\\n        \\\"Country_Latvia\\\",\\n        \\\"Country_Romania\\\",\\n        \\\"Country_Russia\\\",\\n        \\\"Country_Serbia\\\",\\n        \\\"Country_South Korea\\\",\\n        \\\"Country_Sweden\\\",\\n        \\\"Country_Switzerland\\\",\\n        \\\"Country_Thailand\\\",\\n        \\\"Country_Venezuela\\\",\\n        \\\"Month1InjuredType_Severe\\\",\\n        \\\"CumInjuredType_Moderate\\\",\\n    ]\\n].copy()\";\n",
       "                var nbb_cells = Jupyter.notebook.get_cells();\n",
       "                for (var i = 0; i < nbb_cells.length; ++i) {\n",
       "                    if (nbb_cells[i].input_prompt_number == nbb_cell_id) {\n",
       "                        if (nbb_cells[i].get_text() == nbb_unformatted_code) {\n",
       "                             nbb_cells[i].set_text(nbb_formatted_code);\n",
       "                        }\n",
       "                        break;\n",
       "                    }\n",
       "                }\n",
       "            }, 500);\n",
       "            "
      ],
      "text/plain": [
       "<IPython.core.display.Javascript object>"
      ]
     },
     "metadata": {},
     "output_type": "display_data"
    }
   ],
   "source": [
    "# keep last duplicate value\n",
    "df = ml_table2010.drop_duplicates(subset=[\"PlayerName\"], keep=\"last\")\n",
    "\n",
    "csv_for_webapp = df[\n",
    "    [\n",
    "        \"PlayerName\",\n",
    "        \"Month1Carpet\",\n",
    "        \"CumInjured\",\n",
    "        \"CumInjuredTimes\",\n",
    "        \"CumInjuredGames\",\n",
    "        \"Country_Argentina\",\n",
    "        \"Country_Australia\",\n",
    "        \"Country_Austria\",\n",
    "        \"Country_Belarus\",\n",
    "        \"Country_Brazil\",\n",
    "        \"Country_Colombia\",\n",
    "        \"Country_Egypt\",\n",
    "        \"Country_Estonia\",\n",
    "        \"Country_Israel\",\n",
    "        \"Country_Kazakhstan\",\n",
    "        \"Country_Latvia\",\n",
    "        \"Country_Romania\",\n",
    "        \"Country_Russia\",\n",
    "        \"Country_Serbia\",\n",
    "        \"Country_South Korea\",\n",
    "        \"Country_Sweden\",\n",
    "        \"Country_Switzerland\",\n",
    "        \"Country_Thailand\",\n",
    "        \"Country_Venezuela\",\n",
    "        \"Month1InjuredType_Severe\",\n",
    "        \"CumInjuredType_Moderate\",\n",
    "    ]\n",
    "].copy()"
   ]
  },
  {
   "cell_type": "code",
   "execution_count": 13,
   "metadata": {},
   "outputs": [
    {
     "data": {
      "application/javascript": [
       "\n",
       "            setTimeout(function() {\n",
       "                var nbb_cell_id = 13;\n",
       "                var nbb_unformatted_code = \"csv_for_webapp.head()\\ncsv_for_webapp.to_csv('Current_Player_Info.csv')\";\n",
       "                var nbb_formatted_code = \"csv_for_webapp.head()\\ncsv_for_webapp.to_csv(\\\"Current_Player_Info.csv\\\")\";\n",
       "                var nbb_cells = Jupyter.notebook.get_cells();\n",
       "                for (var i = 0; i < nbb_cells.length; ++i) {\n",
       "                    if (nbb_cells[i].input_prompt_number == nbb_cell_id) {\n",
       "                        if (nbb_cells[i].get_text() == nbb_unformatted_code) {\n",
       "                             nbb_cells[i].set_text(nbb_formatted_code);\n",
       "                        }\n",
       "                        break;\n",
       "                    }\n",
       "                }\n",
       "            }, 500);\n",
       "            "
      ],
      "text/plain": [
       "<IPython.core.display.Javascript object>"
      ]
     },
     "metadata": {},
     "output_type": "display_data"
    }
   ],
   "source": [
    "csv_for_webapp.head()\n",
    "csv_for_webapp.to_csv(\"Current_Player_Info.csv\")"
   ]
  },
  {
   "cell_type": "markdown",
   "metadata": {},
   "source": [
    "# First Pass Random Forest with unbalenced data for model selections"
   ]
  },
  {
   "cell_type": "code",
   "execution_count": 14,
   "metadata": {},
   "outputs": [
    {
     "data": {
      "application/javascript": [
       "\n",
       "            setTimeout(function() {\n",
       "                var nbb_cell_id = 14;\n",
       "                var nbb_unformatted_code = \"from imblearn.pipeline import Pipeline, make_pipeline\\nfrom sklearn.model_selection import KFold # import KFold\\nfrom imblearn.over_sampling import SMOTE \\n# Import the model we are using\\nfrom sklearn.ensemble import RandomForestClassifier\\nfrom sklearn.metrics import confusion_matrix\\nfrom sklearn import metrics\\nfrom sklearn.model_selection import KFold, cross_val_score\\n# Build RF classifier to use in feature selection\\nfrom mlxtend.feature_selection import SequentialFeatureSelector as sfs\";\n",
       "                var nbb_formatted_code = \"from imblearn.pipeline import Pipeline, make_pipeline\\nfrom sklearn.model_selection import KFold  # import KFold\\nfrom imblearn.over_sampling import SMOTE\\n\\n# Import the model we are using\\nfrom sklearn.ensemble import RandomForestClassifier\\nfrom sklearn.metrics import confusion_matrix\\nfrom sklearn import metrics\\nfrom sklearn.model_selection import KFold, cross_val_score\\n\\n# Build RF classifier to use in feature selection\\nfrom mlxtend.feature_selection import SequentialFeatureSelector as sfs\";\n",
       "                var nbb_cells = Jupyter.notebook.get_cells();\n",
       "                for (var i = 0; i < nbb_cells.length; ++i) {\n",
       "                    if (nbb_cells[i].input_prompt_number == nbb_cell_id) {\n",
       "                        if (nbb_cells[i].get_text() == nbb_unformatted_code) {\n",
       "                             nbb_cells[i].set_text(nbb_formatted_code);\n",
       "                        }\n",
       "                        break;\n",
       "                    }\n",
       "                }\n",
       "            }, 500);\n",
       "            "
      ],
      "text/plain": [
       "<IPython.core.display.Javascript object>"
      ]
     },
     "metadata": {},
     "output_type": "display_data"
    }
   ],
   "source": [
    "from imblearn.pipeline import Pipeline, make_pipeline\n",
    "from sklearn.model_selection import KFold  # import KFold\n",
    "from imblearn.over_sampling import SMOTE\n",
    "\n",
    "# Import the model we are using\n",
    "from sklearn.ensemble import RandomForestClassifier\n",
    "from sklearn.metrics import confusion_matrix\n",
    "from sklearn import metrics\n",
    "from sklearn.model_selection import KFold, cross_val_score\n",
    "\n",
    "# Build RF classifier to use in feature selection\n",
    "from mlxtend.feature_selection import SequentialFeatureSelector as sfs"
   ]
  },
  {
   "cell_type": "code",
   "execution_count": 15,
   "metadata": {},
   "outputs": [
    {
     "name": "stdout",
     "output_type": "stream",
     "text": [
      "[[1775   15]\n",
      " [ 394   10]]\n",
      "Accuracy of random forest on test set: 0.81\n",
      "Precision: 0.4\n",
      "Recall: 0.024752475247524754\n",
      "F1: 0.046620046620046623\n"
     ]
    },
    {
     "data": {
      "application/javascript": [
       "\n",
       "            setTimeout(function() {\n",
       "                var nbb_cell_id = 15;\n",
       "                var nbb_unformatted_code = \"# First Pass Random Forest \\nrf = RandomForestClassifier()\\n    \\nrf.fit(X_train, Y_train)\\n\\ny_pred = rf.predict(X_test)\\ny_pred = pd.Series(y_pred)\\n# Train the model on training data\\ncm = confusion_matrix(Y_test, y_pred)\\nprint(cm)\\n\\n# First pass run is not awful, but courld use improvement and hyperperamter model\\n# optimization\\nprint('Accuracy of random forest on test set: {:.2f}'.format(rf.score(X_test, Y_test)))\\nprint(\\\"Precision:\\\",metrics.precision_score(Y_test, y_pred))\\nprint(\\\"Recall:\\\",metrics.recall_score(Y_test, y_pred))\\nprint(\\\"F1:\\\",metrics.f1_score(Y_test, y_pred))   \";\n",
       "                var nbb_formatted_code = \"# First Pass Random Forest\\nrf = RandomForestClassifier()\\n\\nrf.fit(X_train, Y_train)\\n\\ny_pred = rf.predict(X_test)\\ny_pred = pd.Series(y_pred)\\n# Train the model on training data\\ncm = confusion_matrix(Y_test, y_pred)\\nprint(cm)\\n\\n# First pass run is not awful, but courld use improvement and hyperperamter model\\n# optimization\\nprint(\\\"Accuracy of random forest on test set: {:.2f}\\\".format(rf.score(X_test, Y_test)))\\nprint(\\\"Precision:\\\", metrics.precision_score(Y_test, y_pred))\\nprint(\\\"Recall:\\\", metrics.recall_score(Y_test, y_pred))\\nprint(\\\"F1:\\\", metrics.f1_score(Y_test, y_pred))\";\n",
       "                var nbb_cells = Jupyter.notebook.get_cells();\n",
       "                for (var i = 0; i < nbb_cells.length; ++i) {\n",
       "                    if (nbb_cells[i].input_prompt_number == nbb_cell_id) {\n",
       "                        if (nbb_cells[i].get_text() == nbb_unformatted_code) {\n",
       "                             nbb_cells[i].set_text(nbb_formatted_code);\n",
       "                        }\n",
       "                        break;\n",
       "                    }\n",
       "                }\n",
       "            }, 500);\n",
       "            "
      ],
      "text/plain": [
       "<IPython.core.display.Javascript object>"
      ]
     },
     "metadata": {},
     "output_type": "display_data"
    }
   ],
   "source": [
    "# First Pass Random Forest\n",
    "rf = RandomForestClassifier()\n",
    "\n",
    "rf.fit(X_train, Y_train)\n",
    "\n",
    "y_pred = rf.predict(X_test)\n",
    "y_pred = pd.Series(y_pred)\n",
    "# Train the model on training data\n",
    "cm = confusion_matrix(Y_test, y_pred)\n",
    "print(cm)\n",
    "\n",
    "# First pass run is not awful, but courld use improvement and hyperperamter model\n",
    "# optimization\n",
    "print(\"Accuracy of random forest on test set: {:.2f}\".format(rf.score(X_test, Y_test)))\n",
    "print(\"Precision:\", metrics.precision_score(Y_test, y_pred))\n",
    "print(\"Recall:\", metrics.recall_score(Y_test, y_pred))\n",
    "print(\"F1:\", metrics.f1_score(Y_test, y_pred))"
   ]
  },
  {
   "cell_type": "code",
   "execution_count": 47,
   "metadata": {},
   "outputs": [
    {
     "name": "stderr",
     "output_type": "stream",
     "text": [
      "[Parallel(n_jobs=1)]: Using backend SequentialBackend with 1 concurrent workers.\n",
      "[Parallel(n_jobs=1)]: Done   1 out of   1 | elapsed:    3.4s remaining:    0.0s\n",
      "[Parallel(n_jobs=1)]: Done 113 out of 113 | elapsed:  3.6min finished\n",
      "\n",
      "[2020-02-06 11:56:02] Features: 1/15 -- score: 0.12790608469148354[Parallel(n_jobs=1)]: Using backend SequentialBackend with 1 concurrent workers.\n",
      "[Parallel(n_jobs=1)]: Done   1 out of   1 | elapsed:    4.2s remaining:    0.0s\n",
      "[Parallel(n_jobs=1)]: Done 112 out of 112 | elapsed: 10.4min finished\n",
      "\n",
      "[2020-02-06 12:06:25] Features: 2/15 -- score: 0.19121684909144435[Parallel(n_jobs=1)]: Using backend SequentialBackend with 1 concurrent workers.\n",
      "[Parallel(n_jobs=1)]: Done   1 out of   1 | elapsed:    4.2s remaining:    0.0s\n",
      "[Parallel(n_jobs=1)]: Done 111 out of 111 | elapsed:  8.0min finished\n",
      "\n",
      "[2020-02-06 12:14:24] Features: 3/15 -- score: 0.20472966342851534[Parallel(n_jobs=1)]: Using backend SequentialBackend with 1 concurrent workers.\n",
      "[Parallel(n_jobs=1)]: Done   1 out of   1 | elapsed:    4.1s remaining:    0.0s\n",
      "[Parallel(n_jobs=1)]: Done 110 out of 110 | elapsed:  7.8min finished\n",
      "\n",
      "[2020-02-06 12:22:14] Features: 4/15 -- score: 0.21148250238624094[Parallel(n_jobs=1)]: Using backend SequentialBackend with 1 concurrent workers.\n",
      "[Parallel(n_jobs=1)]: Done   1 out of   1 | elapsed:    4.0s remaining:    0.0s\n",
      "[Parallel(n_jobs=1)]: Done 109 out of 109 | elapsed:  7.5min finished\n",
      "\n",
      "[2020-02-06 12:29:45] Features: 5/15 -- score: 0.21401325590315876[Parallel(n_jobs=1)]: Using backend SequentialBackend with 1 concurrent workers.\n",
      "[Parallel(n_jobs=1)]: Done   1 out of   1 | elapsed:    4.0s remaining:    0.0s\n",
      "[Parallel(n_jobs=1)]: Done 108 out of 108 | elapsed: 10.0min finished\n",
      "\n",
      "[2020-02-06 12:39:43] Features: 6/15 -- score: 0.21570012756353646[Parallel(n_jobs=1)]: Using backend SequentialBackend with 1 concurrent workers.\n",
      "[Parallel(n_jobs=1)]: Done   1 out of   1 | elapsed:   12.2s remaining:    0.0s\n",
      "[Parallel(n_jobs=1)]: Done 107 out of 107 | elapsed:  9.2min finished\n",
      "\n",
      "[2020-02-06 12:48:57] Features: 7/15 -- score: 0.22034058572180443[Parallel(n_jobs=1)]: Using backend SequentialBackend with 1 concurrent workers.\n",
      "[Parallel(n_jobs=1)]: Done   1 out of   1 | elapsed:    4.2s remaining:    0.0s\n",
      "[Parallel(n_jobs=1)]: Done 106 out of 106 | elapsed:  7.6min finished\n",
      "\n",
      "[2020-02-06 12:56:31] Features: 8/15 -- score: 0.22245207446855958[Parallel(n_jobs=1)]: Using backend SequentialBackend with 1 concurrent workers.\n",
      "[Parallel(n_jobs=1)]: Done   1 out of   1 | elapsed:    4.1s remaining:    0.0s\n",
      "[Parallel(n_jobs=1)]: Done 105 out of 105 | elapsed:  7.8min finished\n",
      "\n",
      "[2020-02-06 13:04:22] Features: 9/15 -- score: 0.21949670386526435[Parallel(n_jobs=1)]: Using backend SequentialBackend with 1 concurrent workers.\n",
      "[Parallel(n_jobs=1)]: Done   1 out of   1 | elapsed:    4.1s remaining:    0.0s\n",
      "[Parallel(n_jobs=1)]: Done 104 out of 104 | elapsed:  7.3min finished\n",
      "\n",
      "[2020-02-06 13:11:37] Features: 10/15 -- score: 0.22456713142612467[Parallel(n_jobs=1)]: Using backend SequentialBackend with 1 concurrent workers.\n",
      "[Parallel(n_jobs=1)]: Done   1 out of   1 | elapsed:    4.0s remaining:    0.0s\n",
      "[Parallel(n_jobs=1)]: Done 103 out of 103 | elapsed:  7.1min finished\n",
      "\n",
      "[2020-02-06 13:18:45] Features: 11/15 -- score: 0.2279480111684998[Parallel(n_jobs=1)]: Using backend SequentialBackend with 1 concurrent workers.\n",
      "[Parallel(n_jobs=1)]: Done   1 out of   1 | elapsed:    4.3s remaining:    0.0s\n",
      "[Parallel(n_jobs=1)]: Done 102 out of 102 | elapsed:  7.1min finished\n",
      "\n",
      "[2020-02-06 13:25:53] Features: 12/15 -- score: 0.22836816799136495[Parallel(n_jobs=1)]: Using backend SequentialBackend with 1 concurrent workers.\n",
      "[Parallel(n_jobs=1)]: Done   1 out of   1 | elapsed:    4.1s remaining:    0.0s\n",
      "[Parallel(n_jobs=1)]: Done 101 out of 101 | elapsed:  7.0min finished\n",
      "\n",
      "[2020-02-06 13:32:56] Features: 13/15 -- score: 0.2304823328962275[Parallel(n_jobs=1)]: Using backend SequentialBackend with 1 concurrent workers.\n",
      "[Parallel(n_jobs=1)]: Done   1 out of   1 | elapsed:    4.1s remaining:    0.0s\n",
      "[Parallel(n_jobs=1)]: Done 100 out of 100 | elapsed:  7.0min finished\n",
      "\n",
      "[2020-02-06 13:39:55] Features: 14/15 -- score: 0.23132086243655275[Parallel(n_jobs=1)]: Using backend SequentialBackend with 1 concurrent workers.\n",
      "[Parallel(n_jobs=1)]: Done   1 out of   1 | elapsed:    4.2s remaining:    0.0s\n",
      "[Parallel(n_jobs=1)]: Done  99 out of  99 | elapsed:  7.0min finished\n",
      "\n",
      "[2020-02-06 13:46:56] Features: 15/15 -- score: 0.2321665283984978"
     ]
    }
   ],
   "source": [
    "# Step Foward for Precision\n",
    "clf = RandomForestClassifier(n_estimators=100, n_jobs=-1)\n",
    "#clf = LogisticRegression(solver='liblinear', max_iter=1, class_weight='balanced')\n",
    "# Build step forward feature selection\n",
    "sfs = sfs(clf,\n",
    "           k_features=25,\n",
    "           forward=True,\n",
    "           floating=False,\n",
    "           verbose=2,\n",
    "           scoring='recall',\n",
    "           cv=5)\n",
    "\n",
    "# Perform SFFS\n",
    "sfs1 = sfs1.fit(X_train, Y_train)"
   ]
  },
  {
   "cell_type": "code",
   "execution_count": 16,
   "metadata": {},
   "outputs": [
    {
     "ename": "NameError",
     "evalue": "name 'sfs1' is not defined",
     "output_type": "error",
     "traceback": [
      "\u001b[0;31m---------------------------------------------------------------------------\u001b[0m",
      "\u001b[0;31mNameError\u001b[0m                                 Traceback (most recent call last)",
      "\u001b[0;32m<ipython-input-16-3aec7472c217>\u001b[0m in \u001b[0;36m<module>\u001b[0;34m\u001b[0m\n\u001b[1;32m      1\u001b[0m \u001b[0;31m# Which features?\u001b[0m\u001b[0;34m\u001b[0m\u001b[0;34m\u001b[0m\u001b[0;34m\u001b[0m\u001b[0m\n\u001b[0;32m----> 2\u001b[0;31m \u001b[0mfeat_cols\u001b[0m \u001b[0;34m=\u001b[0m \u001b[0mlist\u001b[0m\u001b[0;34m(\u001b[0m\u001b[0msfs1\u001b[0m\u001b[0;34m.\u001b[0m\u001b[0mk_feature_idx_\u001b[0m\u001b[0;34m)\u001b[0m\u001b[0;34m\u001b[0m\u001b[0;34m\u001b[0m\u001b[0m\n\u001b[0m\u001b[1;32m      3\u001b[0m \u001b[0;31m# Random Forest Classifired Index [37, 38, 47, 49, 51, 74, 84, 92, 96, 110]\u001b[0m\u001b[0;34m\u001b[0m\u001b[0;34m\u001b[0m\u001b[0;34m\u001b[0m\u001b[0m\n\u001b[1;32m      4\u001b[0m \u001b[0;31m# Logistic Regression Index [10, 37, 38, 48, 56, 73, 75, 77, 84, 85, 92, 93, 98, 104, 111]\u001b[0m\u001b[0;34m\u001b[0m\u001b[0;34m\u001b[0m\u001b[0;34m\u001b[0m\u001b[0m\n",
      "\u001b[0;31mNameError\u001b[0m: name 'sfs1' is not defined"
     ]
    },
    {
     "data": {
      "application/javascript": [
       "\n",
       "            setTimeout(function() {\n",
       "                var nbb_cell_id = 16;\n",
       "                var nbb_unformatted_code = \"# Which features?\\nfeat_cols = list(sfs1.k_feature_idx_)\\n# Random Forest Classifired Index [37, 38, 47, 49, 51, 74, 84, 92, 96, 110]\\n# Logistic Regression Index [10, 37, 38, 48, 56, 73, 75, 77, 84, 85, 92, 93, 98, 104, 111]\";\n",
       "                var nbb_formatted_code = \"# Which features?\\nfeat_cols = list(sfs1.k_feature_idx_)\\n# Random Forest Classifired Index [37, 38, 47, 49, 51, 74, 84, 92, 96, 110]\\n# Logistic Regression Index [10, 37, 38, 48, 56, 73, 75, 77, 84, 85, 92, 93, 98, 104, 111]\";\n",
       "                var nbb_cells = Jupyter.notebook.get_cells();\n",
       "                for (var i = 0; i < nbb_cells.length; ++i) {\n",
       "                    if (nbb_cells[i].input_prompt_number == nbb_cell_id) {\n",
       "                        if (nbb_cells[i].get_text() == nbb_unformatted_code) {\n",
       "                             nbb_cells[i].set_text(nbb_formatted_code);\n",
       "                        }\n",
       "                        break;\n",
       "                    }\n",
       "                }\n",
       "            }, 500);\n",
       "            "
      ],
      "text/plain": [
       "<IPython.core.display.Javascript object>"
      ]
     },
     "metadata": {},
     "output_type": "display_data"
    }
   ],
   "source": [
    "# Which features?\n",
    "feat_cols = list(sfs1.k_feature_idx_)\n",
    "# Random Forest Classifired Index [37, 38, 47, 49, 51, 74, 84, 92, 96, 110]\n",
    "# Logistic Regression Index [10, 37, 38, 48, 56, 73, 75, 77, 84, 85, 92, 93, 98, 104, 111]"
   ]
  },
  {
   "cell_type": "code",
   "execution_count": 17,
   "metadata": {},
   "outputs": [
    {
     "data": {
      "application/javascript": [
       "\n",
       "            setTimeout(function() {\n",
       "                var nbb_cell_id = 17;\n",
       "                var nbb_unformatted_code = \"X_train.head(20)\\n#colnames = X_train.columns[feat_cols]\\n#print(colnames)\\n\\n\\n#X_train.head()\\n\\n#X_train = X_train[colnames]\\n#X_test = X_test[colnames]\\n\\nX_train = X_train[['Month1GamesPlayed','Month1Carpet', 'CumInjured', 'CumInjuredTimes', 'CumInjuredGames',\\n                  'Country_Argentina', 'Country_Australia', 'Country_Austria',\\n                  'Country_Belarus', 'Country_Brazil', 'Country_Colombia',\\n                  'Country_Egypt', 'Country_Estonia', 'Country_Israel',\\n                  'Country_Kazakhstan', 'Country_Latvia', 'Country_Romania',\\n                  'Country_Russia', 'Country_Serbia', 'Country_South Korea',\\n                  'Country_Sweden', 'Country_Switzerland', 'Country_Thailand',\\n                  'Country_Venezuela', 'Month1InjuredType_Severe',\\n                  'CumInjuredType_Moderate']]\\n\\n\\nX_test = X_test[['Month1GamesPlayed','Month1Carpet', 'CumInjured', 'CumInjuredTimes', 'CumInjuredGames',\\n                 'Country_Argentina', 'Country_Australia', 'Country_Austria',\\n                 'Country_Belarus', 'Country_Brazil', 'Country_Colombia',\\n                 'Country_Egypt', 'Country_Estonia', 'Country_Israel',\\n                 'Country_Kazakhstan', 'Country_Latvia', 'Country_Romania',\\n                 'Country_Russia', 'Country_Serbia', 'Country_South Korea',\\n                 'Country_Sweden', 'Country_Switzerland', 'Country_Thailand',\\n                 'Country_Venezuela', 'Month1InjuredType_Severe',\\n                 'CumInjuredType_Moderate']]\";\n",
       "                var nbb_formatted_code = \"X_train.head(20)\\n# colnames = X_train.columns[feat_cols]\\n# print(colnames)\\n\\n\\n# X_train.head()\\n\\n# X_train = X_train[colnames]\\n# X_test = X_test[colnames]\\n\\nX_train = X_train[\\n    [\\n        \\\"Month1GamesPlayed\\\",\\n        \\\"Month1Carpet\\\",\\n        \\\"CumInjured\\\",\\n        \\\"CumInjuredTimes\\\",\\n        \\\"CumInjuredGames\\\",\\n        \\\"Country_Argentina\\\",\\n        \\\"Country_Australia\\\",\\n        \\\"Country_Austria\\\",\\n        \\\"Country_Belarus\\\",\\n        \\\"Country_Brazil\\\",\\n        \\\"Country_Colombia\\\",\\n        \\\"Country_Egypt\\\",\\n        \\\"Country_Estonia\\\",\\n        \\\"Country_Israel\\\",\\n        \\\"Country_Kazakhstan\\\",\\n        \\\"Country_Latvia\\\",\\n        \\\"Country_Romania\\\",\\n        \\\"Country_Russia\\\",\\n        \\\"Country_Serbia\\\",\\n        \\\"Country_South Korea\\\",\\n        \\\"Country_Sweden\\\",\\n        \\\"Country_Switzerland\\\",\\n        \\\"Country_Thailand\\\",\\n        \\\"Country_Venezuela\\\",\\n        \\\"Month1InjuredType_Severe\\\",\\n        \\\"CumInjuredType_Moderate\\\",\\n    ]\\n]\\n\\n\\nX_test = X_test[\\n    [\\n        \\\"Month1GamesPlayed\\\",\\n        \\\"Month1Carpet\\\",\\n        \\\"CumInjured\\\",\\n        \\\"CumInjuredTimes\\\",\\n        \\\"CumInjuredGames\\\",\\n        \\\"Country_Argentina\\\",\\n        \\\"Country_Australia\\\",\\n        \\\"Country_Austria\\\",\\n        \\\"Country_Belarus\\\",\\n        \\\"Country_Brazil\\\",\\n        \\\"Country_Colombia\\\",\\n        \\\"Country_Egypt\\\",\\n        \\\"Country_Estonia\\\",\\n        \\\"Country_Israel\\\",\\n        \\\"Country_Kazakhstan\\\",\\n        \\\"Country_Latvia\\\",\\n        \\\"Country_Romania\\\",\\n        \\\"Country_Russia\\\",\\n        \\\"Country_Serbia\\\",\\n        \\\"Country_South Korea\\\",\\n        \\\"Country_Sweden\\\",\\n        \\\"Country_Switzerland\\\",\\n        \\\"Country_Thailand\\\",\\n        \\\"Country_Venezuela\\\",\\n        \\\"Month1InjuredType_Severe\\\",\\n        \\\"CumInjuredType_Moderate\\\",\\n    ]\\n]\";\n",
       "                var nbb_cells = Jupyter.notebook.get_cells();\n",
       "                for (var i = 0; i < nbb_cells.length; ++i) {\n",
       "                    if (nbb_cells[i].input_prompt_number == nbb_cell_id) {\n",
       "                        if (nbb_cells[i].get_text() == nbb_unformatted_code) {\n",
       "                             nbb_cells[i].set_text(nbb_formatted_code);\n",
       "                        }\n",
       "                        break;\n",
       "                    }\n",
       "                }\n",
       "            }, 500);\n",
       "            "
      ],
      "text/plain": [
       "<IPython.core.display.Javascript object>"
      ]
     },
     "metadata": {},
     "output_type": "display_data"
    }
   ],
   "source": [
    "X_train.head(20)\n",
    "# colnames = X_train.columns[feat_cols]\n",
    "# print(colnames)\n",
    "\n",
    "\n",
    "# X_train.head()\n",
    "\n",
    "# X_train = X_train[colnames]\n",
    "# X_test = X_test[colnames]\n",
    "\n",
    "X_train = X_train[\n",
    "    [\n",
    "        \"Month1GamesPlayed\",\n",
    "        \"Month1Carpet\",\n",
    "        \"CumInjured\",\n",
    "        \"CumInjuredTimes\",\n",
    "        \"CumInjuredGames\",\n",
    "        \"Country_Argentina\",\n",
    "        \"Country_Australia\",\n",
    "        \"Country_Austria\",\n",
    "        \"Country_Belarus\",\n",
    "        \"Country_Brazil\",\n",
    "        \"Country_Colombia\",\n",
    "        \"Country_Egypt\",\n",
    "        \"Country_Estonia\",\n",
    "        \"Country_Israel\",\n",
    "        \"Country_Kazakhstan\",\n",
    "        \"Country_Latvia\",\n",
    "        \"Country_Romania\",\n",
    "        \"Country_Russia\",\n",
    "        \"Country_Serbia\",\n",
    "        \"Country_South Korea\",\n",
    "        \"Country_Sweden\",\n",
    "        \"Country_Switzerland\",\n",
    "        \"Country_Thailand\",\n",
    "        \"Country_Venezuela\",\n",
    "        \"Month1InjuredType_Severe\",\n",
    "        \"CumInjuredType_Moderate\",\n",
    "    ]\n",
    "]\n",
    "\n",
    "\n",
    "X_test = X_test[\n",
    "    [\n",
    "        \"Month1GamesPlayed\",\n",
    "        \"Month1Carpet\",\n",
    "        \"CumInjured\",\n",
    "        \"CumInjuredTimes\",\n",
    "        \"CumInjuredGames\",\n",
    "        \"Country_Argentina\",\n",
    "        \"Country_Australia\",\n",
    "        \"Country_Austria\",\n",
    "        \"Country_Belarus\",\n",
    "        \"Country_Brazil\",\n",
    "        \"Country_Colombia\",\n",
    "        \"Country_Egypt\",\n",
    "        \"Country_Estonia\",\n",
    "        \"Country_Israel\",\n",
    "        \"Country_Kazakhstan\",\n",
    "        \"Country_Latvia\",\n",
    "        \"Country_Romania\",\n",
    "        \"Country_Russia\",\n",
    "        \"Country_Serbia\",\n",
    "        \"Country_South Korea\",\n",
    "        \"Country_Sweden\",\n",
    "        \"Country_Switzerland\",\n",
    "        \"Country_Thailand\",\n",
    "        \"Country_Venezuela\",\n",
    "        \"Month1InjuredType_Severe\",\n",
    "        \"CumInjuredType_Moderate\",\n",
    "    ]\n",
    "]"
   ]
  },
  {
   "cell_type": "code",
   "execution_count": 18,
   "metadata": {},
   "outputs": [
    {
     "name": "stdout",
     "output_type": "stream",
     "text": [
      "[[1694   96]\n",
      " [ 372   32]]\n",
      "Accuracy of random forest on test set: 0.79\n",
      "Precision: 0.25\n",
      "Recall: 0.07920792079207921\n",
      "F1: 0.12030075187969924\n"
     ]
    },
    {
     "data": {
      "application/javascript": [
       "\n",
       "            setTimeout(function() {\n",
       "                var nbb_cell_id = 18;\n",
       "                var nbb_unformatted_code = \"# Instantiate model with 1000 decision trees\\n# Imporvement to model, so using these variable movni foward\\nrf = RandomForestClassifier(class_weight = 'balanced')\\nrf.fit(X_train, Y_train)\\n\\ny_pred = rf.predict(X_test)\\ny_pred = pd.Series(y_pred)\\n# Train the model on training data\\ncm = confusion_matrix(Y_test, y_pred)\\nprint(cm)\\n\\n# First pass run is not awful, but courld use improvement and hyperperamter model\\n# optimization\\nprint('Accuracy of random forest on test set: {:.2f}'.format(rf.score(X_test, Y_test)))\\nprint(\\\"Precision:\\\",metrics.precision_score(Y_test, y_pred))\\nprint(\\\"Recall:\\\",metrics.recall_score(Y_test, y_pred))\\nprint(\\\"F1:\\\",metrics.f1_score(Y_test, y_pred))\";\n",
       "                var nbb_formatted_code = \"# Instantiate model with 1000 decision trees\\n# Imporvement to model, so using these variable movni foward\\nrf = RandomForestClassifier(class_weight=\\\"balanced\\\")\\nrf.fit(X_train, Y_train)\\n\\ny_pred = rf.predict(X_test)\\ny_pred = pd.Series(y_pred)\\n# Train the model on training data\\ncm = confusion_matrix(Y_test, y_pred)\\nprint(cm)\\n\\n# First pass run is not awful, but courld use improvement and hyperperamter model\\n# optimization\\nprint(\\\"Accuracy of random forest on test set: {:.2f}\\\".format(rf.score(X_test, Y_test)))\\nprint(\\\"Precision:\\\", metrics.precision_score(Y_test, y_pred))\\nprint(\\\"Recall:\\\", metrics.recall_score(Y_test, y_pred))\\nprint(\\\"F1:\\\", metrics.f1_score(Y_test, y_pred))\";\n",
       "                var nbb_cells = Jupyter.notebook.get_cells();\n",
       "                for (var i = 0; i < nbb_cells.length; ++i) {\n",
       "                    if (nbb_cells[i].input_prompt_number == nbb_cell_id) {\n",
       "                        if (nbb_cells[i].get_text() == nbb_unformatted_code) {\n",
       "                             nbb_cells[i].set_text(nbb_formatted_code);\n",
       "                        }\n",
       "                        break;\n",
       "                    }\n",
       "                }\n",
       "            }, 500);\n",
       "            "
      ],
      "text/plain": [
       "<IPython.core.display.Javascript object>"
      ]
     },
     "metadata": {},
     "output_type": "display_data"
    }
   ],
   "source": [
    "# Instantiate model with 1000 decision trees\n",
    "# Imporvement to model, so using these variable movni foward\n",
    "rf = RandomForestClassifier(class_weight=\"balanced\")\n",
    "rf.fit(X_train, Y_train)\n",
    "\n",
    "y_pred = rf.predict(X_test)\n",
    "y_pred = pd.Series(y_pred)\n",
    "# Train the model on training data\n",
    "cm = confusion_matrix(Y_test, y_pred)\n",
    "print(cm)\n",
    "\n",
    "# First pass run is not awful, but courld use improvement and hyperperamter model\n",
    "# optimization\n",
    "print(\"Accuracy of random forest on test set: {:.2f}\".format(rf.score(X_test, Y_test)))\n",
    "print(\"Precision:\", metrics.precision_score(Y_test, y_pred))\n",
    "print(\"Recall:\", metrics.recall_score(Y_test, y_pred))\n",
    "print(\"F1:\", metrics.f1_score(Y_test, y_pred))"
   ]
  },
  {
   "cell_type": "code",
   "execution_count": 19,
   "metadata": {},
   "outputs": [
    {
     "data": {
      "application/javascript": [
       "\n",
       "            setTimeout(function() {\n",
       "                var nbb_cell_id = 19;\n",
       "                var nbb_unformatted_code = \"# Corr Matrix test\\ncorr_mt = X_train.copy()\\ncorr_mt['Injured'] = Y_train\";\n",
       "                var nbb_formatted_code = \"# Corr Matrix test\\ncorr_mt = X_train.copy()\\ncorr_mt[\\\"Injured\\\"] = Y_train\";\n",
       "                var nbb_cells = Jupyter.notebook.get_cells();\n",
       "                for (var i = 0; i < nbb_cells.length; ++i) {\n",
       "                    if (nbb_cells[i].input_prompt_number == nbb_cell_id) {\n",
       "                        if (nbb_cells[i].get_text() == nbb_unformatted_code) {\n",
       "                             nbb_cells[i].set_text(nbb_formatted_code);\n",
       "                        }\n",
       "                        break;\n",
       "                    }\n",
       "                }\n",
       "            }, 500);\n",
       "            "
      ],
      "text/plain": [
       "<IPython.core.display.Javascript object>"
      ]
     },
     "metadata": {},
     "output_type": "display_data"
    }
   ],
   "source": [
    "# Corr Matrix test\n",
    "corr_mt = X_train.copy()\n",
    "corr_mt[\"Injured\"] = Y_train"
   ]
  },
  {
   "cell_type": "code",
   "execution_count": 20,
   "metadata": {},
   "outputs": [
    {
     "data": {
      "image/png": "[encoded data removed]",
      "text/plain": [
       "<Figure size 1368x1080 with 2 Axes>"
      ]
     },
     "metadata": {
      "needs_background": "light"
     },
     "output_type": "display_data"
    },
    {
     "data": {
      "application/javascript": [
       "\n",
       "            setTimeout(function() {\n",
       "                var nbb_cell_id = 20;\n",
       "                var nbb_unformatted_code = \"# Need to Look at correlation matrix and remove highly correlated variables in the\\n# order of most important variabes\\nimport matplotlib.pyplot as plt\\nf = plt.figure(figsize=(19, 15))\\nplt.matshow(corr_mt.corr(), fignum=f.number)\\nplt.xticks(range(corr_mt.shape[1]), corr_mt.columns, fontsize=14, rotation=45)\\nplt.yticks(range(corr_mt.shape[1]), corr_mt.columns, fontsize=14)\\ncb = plt.colorbar()\\ncb.ax.tick_params(labelsize=14)\";\n",
       "                var nbb_formatted_code = \"# Need to Look at correlation matrix and remove highly correlated variables in the\\n# order of most important variabes\\nimport matplotlib.pyplot as plt\\n\\nf = plt.figure(figsize=(19, 15))\\nplt.matshow(corr_mt.corr(), fignum=f.number)\\nplt.xticks(range(corr_mt.shape[1]), corr_mt.columns, fontsize=14, rotation=45)\\nplt.yticks(range(corr_mt.shape[1]), corr_mt.columns, fontsize=14)\\ncb = plt.colorbar()\\ncb.ax.tick_params(labelsize=14)\";\n",
       "                var nbb_cells = Jupyter.notebook.get_cells();\n",
       "                for (var i = 0; i < nbb_cells.length; ++i) {\n",
       "                    if (nbb_cells[i].input_prompt_number == nbb_cell_id) {\n",
       "                        if (nbb_cells[i].get_text() == nbb_unformatted_code) {\n",
       "                             nbb_cells[i].set_text(nbb_formatted_code);\n",
       "                        }\n",
       "                        break;\n",
       "                    }\n",
       "                }\n",
       "            }, 500);\n",
       "            "
      ],
      "text/plain": [
       "<IPython.core.display.Javascript object>"
      ]
     },
     "metadata": {},
     "output_type": "display_data"
    }
   ],
   "source": [
    "# Need to Look at correlation matrix and remove highly correlated variables in the\n",
    "# order of most important variabes\n",
    "\n",
    "f = plt.figure(figsize=(19, 15))\n",
    "plt.matshow(corr_mt.corr(), fignum=f.number)\n",
    "plt.xticks(range(corr_mt.shape[1]), corr_mt.columns, fontsize=14, rotation=45)\n",
    "plt.yticks(range(corr_mt.shape[1]), corr_mt.columns, fontsize=14)\n",
    "cb = plt.colorbar()\n",
    "cb.ax.tick_params(labelsize=14)"
   ]
  },
  {
   "cell_type": "code",
   "execution_count": null,
   "metadata": {},
   "outputs": [],
   "source": [
    "# prepare configuration for cross validation test harness\n",
    "seed = 7\n",
    "kfold = 5\n",
    "# Ratio of injured to non-injured \n",
    "# 2682/13580 = 0.2 (5 x)\n",
    "\n",
    "# prepare models\n",
    "models = []\n",
    "models.append(('LR', LogisticRegression(solver='liblinear', max_iter=100, class_weight='balanced')))\n",
    "models.append(('LDA', LinearDiscriminantAnalysis()))\n",
    "models.append(('KNN', KNeighborsClassifier()))\n",
    "models.append(('CART', DecisionTreeClassifier(class_weight='balanced')))\n",
    "models.append(('NB', GaussianNB()))\n",
    "models.append(('SVM', SVC(class_weight='balanced')))\n",
    "models.append(('RF', RandomForestClassifier(class_weight='balanced')))\n",
    "models.append(('XGBoost', XGBClassifier(scale_pos_weight=4)))\n",
    "\n",
    "# evaluate each model in turn\n",
    "results = []\n",
    "names = []\n",
    "scoring='f1'\n",
    "\n",
    "print('The results with balanced-weighting')\n",
    "for name, model in models:\n",
    "    kfold = model_selection.KFold(n_splits=5)\n",
    "    cv_results = model_selection.cross_val_score(model, X_train, Y_train, cv=kfold, scoring=scoring)\n",
    "    results.append(cv_results)\n",
    "    names.append(name)\n",
    "    msg = \"%s: %f (%f)\" % (name, cv_results.mean(), cv_results.std())\n",
    "    print(msg)\n",
    "    \n",
    "\n",
    "models = []\n",
    "models.append(('LR', LogisticRegression()))\n",
    "models.append(('LDA', LinearDiscriminantAnalysis()))\n",
    "models.append(('KNN', KNeighborsClassifier()))\n",
    "models.append(('CART', DecisionTreeClassifier()))\n",
    "models.append(('NB', GaussianNB()))\n",
    "models.append(('SVM', SVC()))\n",
    "models.append(('RF', RandomForestClassifier()))\n",
    "models.append(('XGBoost', XGBClassifier()))\n",
    "\n",
    "    \n",
    "print('The results with balanced data using SMOTE')\n",
    "results_SMOTE = []\n",
    "names_SMOTE = []\n",
    "\n",
    "for name, model in models:   \n",
    "    kfold = model_selection.KFold(n_splits=5)\n",
    "    imba_pipeline = make_pipeline(SMOTE(random_state=42), model)\n",
    "    cv_results = cross_val_score(imba_pipeline, X_train, Y_train, scoring= scoring, cv=kfold)\n",
    "    results_SMOTE.append(cv_results)\n",
    "    names_SMOTE.append(name)\n",
    "    msg = \"%s: %f (%f)\" % (name, cv_results.mean(), cv_results.std())\n",
    "    print(msg)\n",
    "\n",
    "\n",
    "print('The results with balanced data using ADASYN')\n",
    "results_ADASYN = []\n",
    "names_ADASYN = []\n",
    "\n",
    "for name, model in models:   \n",
    "    kfold = model_selection.KFold(n_splits=5)\n",
    "    imba_pipeline = make_pipeline(ADASYN(random_state=42), model)\n",
    "    cv_results = cross_val_score(imba_pipeline, X_train, Y_train, scoring= scoring, cv=kfold)\n",
    "    results_ADASYN.append(cv_results)\n",
    "    names_ADASYN.append(name)\n",
    "    msg = \"%s: %f (%f)\" % (name, cv_results.mean(), cv_results.std())\n",
    "    print(msg)"
   ]
  },
  {
   "cell_type": "code",
   "execution_count": 22,
   "metadata": {},
   "outputs": [
    {
     "name": "stdout",
     "output_type": "stream",
     "text": [
      "The results with balanced-weighting\n",
      "LR: 0.338619 (0.008997)\n",
      "LDA: 0.072454 (0.035208)\n"
     ]
    },
    {
     "ename": "KeyboardInterrupt",
     "evalue": "",
     "output_type": "error",
     "traceback": [
      "\u001b[0;31m---------------------------------------------------------------------------\u001b[0m",
      "\u001b[0;31mKeyboardInterrupt\u001b[0m                         Traceback (most recent call last)",
      "\u001b[0;32m<ipython-input-22-89ca4680cc1f>\u001b[0m in \u001b[0;36m<module>\u001b[0;34m\u001b[0m\n\u001b[1;32m     21\u001b[0m \u001b[0;32mfor\u001b[0m \u001b[0mname\u001b[0m\u001b[0;34m,\u001b[0m \u001b[0mmodel\u001b[0m \u001b[0;32min\u001b[0m \u001b[0mmodels\u001b[0m\u001b[0;34m:\u001b[0m\u001b[0;34m\u001b[0m\u001b[0;34m\u001b[0m\u001b[0m\n\u001b[1;32m     22\u001b[0m     \u001b[0mkfold\u001b[0m \u001b[0;34m=\u001b[0m \u001b[0mmodel_selection\u001b[0m\u001b[0;34m.\u001b[0m\u001b[0mKFold\u001b[0m\u001b[0;34m(\u001b[0m\u001b[0mn_splits\u001b[0m\u001b[0;34m=\u001b[0m\u001b[0;36m5\u001b[0m\u001b[0;34m)\u001b[0m\u001b[0;34m\u001b[0m\u001b[0;34m\u001b[0m\u001b[0m\n\u001b[0;32m---> 23\u001b[0;31m     \u001b[0mcv_results\u001b[0m \u001b[0;34m=\u001b[0m \u001b[0mmodel_selection\u001b[0m\u001b[0;34m.\u001b[0m\u001b[0mcross_val_score\u001b[0m\u001b[0;34m(\u001b[0m\u001b[0mmodel\u001b[0m\u001b[0;34m,\u001b[0m \u001b[0mX_scaled\u001b[0m\u001b[0;34m,\u001b[0m \u001b[0mY_train\u001b[0m\u001b[0;34m,\u001b[0m \u001b[0mcv\u001b[0m\u001b[0;34m=\u001b[0m\u001b[0mkfold\u001b[0m\u001b[0;34m,\u001b[0m \u001b[0mscoring\u001b[0m\u001b[0;34m=\u001b[0m\u001b[0mscoring\u001b[0m\u001b[0;34m)\u001b[0m\u001b[0;34m\u001b[0m\u001b[0;34m\u001b[0m\u001b[0m\n\u001b[0m\u001b[1;32m     24\u001b[0m     \u001b[0mresults\u001b[0m\u001b[0;34m.\u001b[0m\u001b[0mappend\u001b[0m\u001b[0;34m(\u001b[0m\u001b[0mcv_results\u001b[0m\u001b[0;34m)\u001b[0m\u001b[0;34m\u001b[0m\u001b[0;34m\u001b[0m\u001b[0m\n\u001b[1;32m     25\u001b[0m     \u001b[0mnames\u001b[0m\u001b[0;34m.\u001b[0m\u001b[0mappend\u001b[0m\u001b[0;34m(\u001b[0m\u001b[0mname\u001b[0m\u001b[0;34m)\u001b[0m\u001b[0;34m\u001b[0m\u001b[0;34m\u001b[0m\u001b[0m\n",
      "\u001b[0;32m~/opt/anaconda3/lib/python3.7/site-packages/sklearn/model_selection/_validation.py\u001b[0m in \u001b[0;36mcross_val_score\u001b[0;34m(estimator, X, y, groups, scoring, cv, n_jobs, verbose, fit_params, pre_dispatch, error_score)\u001b[0m\n\u001b[1;32m    388\u001b[0m                                 \u001b[0mfit_params\u001b[0m\u001b[0;34m=\u001b[0m\u001b[0mfit_params\u001b[0m\u001b[0;34m,\u001b[0m\u001b[0;34m\u001b[0m\u001b[0;34m\u001b[0m\u001b[0m\n\u001b[1;32m    389\u001b[0m                                 \u001b[0mpre_dispatch\u001b[0m\u001b[0;34m=\u001b[0m\u001b[0mpre_dispatch\u001b[0m\u001b[0;34m,\u001b[0m\u001b[0;34m\u001b[0m\u001b[0;34m\u001b[0m\u001b[0m\n\u001b[0;32m--> 390\u001b[0;31m                                 error_score=error_score)\n\u001b[0m\u001b[1;32m    391\u001b[0m     \u001b[0;32mreturn\u001b[0m \u001b[0mcv_results\u001b[0m\u001b[0;34m[\u001b[0m\u001b[0;34m'test_score'\u001b[0m\u001b[0;34m]\u001b[0m\u001b[0;34m\u001b[0m\u001b[0;34m\u001b[0m\u001b[0m\n\u001b[1;32m    392\u001b[0m \u001b[0;34m\u001b[0m\u001b[0m\n",
      "\u001b[0;32m~/opt/anaconda3/lib/python3.7/site-packages/sklearn/model_selection/_validation.py\u001b[0m in \u001b[0;36mcross_validate\u001b[0;34m(estimator, X, y, groups, scoring, cv, n_jobs, verbose, fit_params, pre_dispatch, return_train_score, return_estimator, error_score)\u001b[0m\n\u001b[1;32m    234\u001b[0m             \u001b[0mreturn_times\u001b[0m\u001b[0;34m=\u001b[0m\u001b[0;32mTrue\u001b[0m\u001b[0;34m,\u001b[0m \u001b[0mreturn_estimator\u001b[0m\u001b[0;34m=\u001b[0m\u001b[0mreturn_estimator\u001b[0m\u001b[0;34m,\u001b[0m\u001b[0;34m\u001b[0m\u001b[0;34m\u001b[0m\u001b[0m\n\u001b[1;32m    235\u001b[0m             error_score=error_score)\n\u001b[0;32m--> 236\u001b[0;31m         for train, test in cv.split(X, y, groups))\n\u001b[0m\u001b[1;32m    237\u001b[0m \u001b[0;34m\u001b[0m\u001b[0m\n\u001b[1;32m    238\u001b[0m     \u001b[0mzipped_scores\u001b[0m \u001b[0;34m=\u001b[0m \u001b[0mlist\u001b[0m\u001b[0;34m(\u001b[0m\u001b[0mzip\u001b[0m\u001b[0;34m(\u001b[0m\u001b[0;34m*\u001b[0m\u001b[0mscores\u001b[0m\u001b[0;34m)\u001b[0m\u001b[0;34m)\u001b[0m\u001b[0;34m\u001b[0m\u001b[0;34m\u001b[0m\u001b[0m\n",
      "\u001b[0;32m~/opt/anaconda3/lib/python3.7/site-packages/joblib/parallel.py\u001b[0m in \u001b[0;36m__call__\u001b[0;34m(self, iterable)\u001b[0m\n\u001b[1;32m    922\u001b[0m                 \u001b[0mself\u001b[0m\u001b[0;34m.\u001b[0m\u001b[0m_iterating\u001b[0m \u001b[0;34m=\u001b[0m \u001b[0mself\u001b[0m\u001b[0;34m.\u001b[0m\u001b[0m_original_iterator\u001b[0m \u001b[0;32mis\u001b[0m \u001b[0;32mnot\u001b[0m \u001b[0;32mNone\u001b[0m\u001b[0;34m\u001b[0m\u001b[0;34m\u001b[0m\u001b[0m\n\u001b[1;32m    923\u001b[0m \u001b[0;34m\u001b[0m\u001b[0m\n\u001b[0;32m--> 924\u001b[0;31m             \u001b[0;32mwhile\u001b[0m \u001b[0mself\u001b[0m\u001b[0;34m.\u001b[0m\u001b[0mdispatch_one_batch\u001b[0m\u001b[0;34m(\u001b[0m\u001b[0miterator\u001b[0m\u001b[0;34m)\u001b[0m\u001b[0;34m:\u001b[0m\u001b[0;34m\u001b[0m\u001b[0;34m\u001b[0m\u001b[0m\n\u001b[0m\u001b[1;32m    925\u001b[0m                 \u001b[0;32mpass\u001b[0m\u001b[0;34m\u001b[0m\u001b[0;34m\u001b[0m\u001b[0m\n\u001b[1;32m    926\u001b[0m \u001b[0;34m\u001b[0m\u001b[0m\n",
      "\u001b[0;32m~/opt/anaconda3/lib/python3.7/site-packages/joblib/parallel.py\u001b[0m in \u001b[0;36mdispatch_one_batch\u001b[0;34m(self, iterator)\u001b[0m\n\u001b[1;32m    757\u001b[0m                 \u001b[0;32mreturn\u001b[0m \u001b[0;32mFalse\u001b[0m\u001b[0;34m\u001b[0m\u001b[0;34m\u001b[0m\u001b[0m\n\u001b[1;32m    758\u001b[0m             \u001b[0;32melse\u001b[0m\u001b[0;34m:\u001b[0m\u001b[0;34m\u001b[0m\u001b[0;34m\u001b[0m\u001b[0m\n\u001b[0;32m--> 759\u001b[0;31m                 \u001b[0mself\u001b[0m\u001b[0;34m.\u001b[0m\u001b[0m_dispatch\u001b[0m\u001b[0;34m(\u001b[0m\u001b[0mtasks\u001b[0m\u001b[0;34m)\u001b[0m\u001b[0;34m\u001b[0m\u001b[0;34m\u001b[0m\u001b[0m\n\u001b[0m\u001b[1;32m    760\u001b[0m                 \u001b[0;32mreturn\u001b[0m \u001b[0;32mTrue\u001b[0m\u001b[0;34m\u001b[0m\u001b[0;34m\u001b[0m\u001b[0m\n\u001b[1;32m    761\u001b[0m \u001b[0;34m\u001b[0m\u001b[0m\n",
      "\u001b[0;32m~/opt/anaconda3/lib/python3.7/site-packages/joblib/parallel.py\u001b[0m in \u001b[0;36m_dispatch\u001b[0;34m(self, batch)\u001b[0m\n\u001b[1;32m    714\u001b[0m         \u001b[0;32mwith\u001b[0m \u001b[0mself\u001b[0m\u001b[0;34m.\u001b[0m\u001b[0m_lock\u001b[0m\u001b[0;34m:\u001b[0m\u001b[0;34m\u001b[0m\u001b[0;34m\u001b[0m\u001b[0m\n\u001b[1;32m    715\u001b[0m             \u001b[0mjob_idx\u001b[0m \u001b[0;34m=\u001b[0m \u001b[0mlen\u001b[0m\u001b[0;34m(\u001b[0m\u001b[0mself\u001b[0m\u001b[0;34m.\u001b[0m\u001b[0m_jobs\u001b[0m\u001b[0;34m)\u001b[0m\u001b[0;34m\u001b[0m\u001b[0;34m\u001b[0m\u001b[0m\n\u001b[0;32m--> 716\u001b[0;31m             \u001b[0mjob\u001b[0m \u001b[0;34m=\u001b[0m \u001b[0mself\u001b[0m\u001b[0;34m.\u001b[0m\u001b[0m_backend\u001b[0m\u001b[0;34m.\u001b[0m\u001b[0mapply_async\u001b[0m\u001b[0;34m(\u001b[0m\u001b[0mbatch\u001b[0m\u001b[0;34m,\u001b[0m \u001b[0mcallback\u001b[0m\u001b[0;34m=\u001b[0m\u001b[0mcb\u001b[0m\u001b[0;34m)\u001b[0m\u001b[0;34m\u001b[0m\u001b[0;34m\u001b[0m\u001b[0m\n\u001b[0m\u001b[1;32m    717\u001b[0m             \u001b[0;31m# A job can complete so quickly than its callback is\u001b[0m\u001b[0;34m\u001b[0m\u001b[0;34m\u001b[0m\u001b[0;34m\u001b[0m\u001b[0m\n\u001b[1;32m    718\u001b[0m             \u001b[0;31m# called before we get here, causing self._jobs to\u001b[0m\u001b[0;34m\u001b[0m\u001b[0;34m\u001b[0m\u001b[0;34m\u001b[0m\u001b[0m\n",
      "\u001b[0;32m~/opt/anaconda3/lib/python3.7/site-packages/joblib/_parallel_backends.py\u001b[0m in \u001b[0;36mapply_async\u001b[0;34m(self, func, callback)\u001b[0m\n\u001b[1;32m    180\u001b[0m     \u001b[0;32mdef\u001b[0m \u001b[0mapply_async\u001b[0m\u001b[0;34m(\u001b[0m\u001b[0mself\u001b[0m\u001b[0;34m,\u001b[0m \u001b[0mfunc\u001b[0m\u001b[0;34m,\u001b[0m \u001b[0mcallback\u001b[0m\u001b[0;34m=\u001b[0m\u001b[0;32mNone\u001b[0m\u001b[0;34m)\u001b[0m\u001b[0;34m:\u001b[0m\u001b[0;34m\u001b[0m\u001b[0;34m\u001b[0m\u001b[0m\n\u001b[1;32m    181\u001b[0m         \u001b[0;34m\"\"\"Schedule a func to be run\"\"\"\u001b[0m\u001b[0;34m\u001b[0m\u001b[0;34m\u001b[0m\u001b[0m\n\u001b[0;32m--> 182\u001b[0;31m         \u001b[0mresult\u001b[0m \u001b[0;34m=\u001b[0m \u001b[0mImmediateResult\u001b[0m\u001b[0;34m(\u001b[0m\u001b[0mfunc\u001b[0m\u001b[0;34m)\u001b[0m\u001b[0;34m\u001b[0m\u001b[0;34m\u001b[0m\u001b[0m\n\u001b[0m\u001b[1;32m    183\u001b[0m         \u001b[0;32mif\u001b[0m \u001b[0mcallback\u001b[0m\u001b[0;34m:\u001b[0m\u001b[0;34m\u001b[0m\u001b[0;34m\u001b[0m\u001b[0m\n\u001b[1;32m    184\u001b[0m             \u001b[0mcallback\u001b[0m\u001b[0;34m(\u001b[0m\u001b[0mresult\u001b[0m\u001b[0;34m)\u001b[0m\u001b[0;34m\u001b[0m\u001b[0;34m\u001b[0m\u001b[0m\n",
      "\u001b[0;32m~/opt/anaconda3/lib/python3.7/site-packages/joblib/_parallel_backends.py\u001b[0m in \u001b[0;36m__init__\u001b[0;34m(self, batch)\u001b[0m\n\u001b[1;32m    547\u001b[0m         \u001b[0;31m# Don't delay the application, to avoid keeping the input\u001b[0m\u001b[0;34m\u001b[0m\u001b[0;34m\u001b[0m\u001b[0;34m\u001b[0m\u001b[0m\n\u001b[1;32m    548\u001b[0m         \u001b[0;31m# arguments in memory\u001b[0m\u001b[0;34m\u001b[0m\u001b[0;34m\u001b[0m\u001b[0;34m\u001b[0m\u001b[0m\n\u001b[0;32m--> 549\u001b[0;31m         \u001b[0mself\u001b[0m\u001b[0;34m.\u001b[0m\u001b[0mresults\u001b[0m \u001b[0;34m=\u001b[0m \u001b[0mbatch\u001b[0m\u001b[0;34m(\u001b[0m\u001b[0;34m)\u001b[0m\u001b[0;34m\u001b[0m\u001b[0;34m\u001b[0m\u001b[0m\n\u001b[0m\u001b[1;32m    550\u001b[0m \u001b[0;34m\u001b[0m\u001b[0m\n\u001b[1;32m    551\u001b[0m     \u001b[0;32mdef\u001b[0m \u001b[0mget\u001b[0m\u001b[0;34m(\u001b[0m\u001b[0mself\u001b[0m\u001b[0;34m)\u001b[0m\u001b[0;34m:\u001b[0m\u001b[0;34m\u001b[0m\u001b[0;34m\u001b[0m\u001b[0m\n",
      "\u001b[0;32m~/opt/anaconda3/lib/python3.7/site-packages/joblib/parallel.py\u001b[0m in \u001b[0;36m__call__\u001b[0;34m(self)\u001b[0m\n\u001b[1;32m    223\u001b[0m         \u001b[0;32mwith\u001b[0m \u001b[0mparallel_backend\u001b[0m\u001b[0;34m(\u001b[0m\u001b[0mself\u001b[0m\u001b[0;34m.\u001b[0m\u001b[0m_backend\u001b[0m\u001b[0;34m,\u001b[0m \u001b[0mn_jobs\u001b[0m\u001b[0;34m=\u001b[0m\u001b[0mself\u001b[0m\u001b[0;34m.\u001b[0m\u001b[0m_n_jobs\u001b[0m\u001b[0;34m)\u001b[0m\u001b[0;34m:\u001b[0m\u001b[0;34m\u001b[0m\u001b[0;34m\u001b[0m\u001b[0m\n\u001b[1;32m    224\u001b[0m             return [func(*args, **kwargs)\n\u001b[0;32m--> 225\u001b[0;31m                     for func, args, kwargs in self.items]\n\u001b[0m\u001b[1;32m    226\u001b[0m \u001b[0;34m\u001b[0m\u001b[0m\n\u001b[1;32m    227\u001b[0m     \u001b[0;32mdef\u001b[0m \u001b[0m__len__\u001b[0m\u001b[0;34m(\u001b[0m\u001b[0mself\u001b[0m\u001b[0;34m)\u001b[0m\u001b[0;34m:\u001b[0m\u001b[0;34m\u001b[0m\u001b[0;34m\u001b[0m\u001b[0m\n",
      "\u001b[0;32m~/opt/anaconda3/lib/python3.7/site-packages/joblib/parallel.py\u001b[0m in \u001b[0;36m<listcomp>\u001b[0;34m(.0)\u001b[0m\n\u001b[1;32m    223\u001b[0m         \u001b[0;32mwith\u001b[0m \u001b[0mparallel_backend\u001b[0m\u001b[0;34m(\u001b[0m\u001b[0mself\u001b[0m\u001b[0;34m.\u001b[0m\u001b[0m_backend\u001b[0m\u001b[0;34m,\u001b[0m \u001b[0mn_jobs\u001b[0m\u001b[0;34m=\u001b[0m\u001b[0mself\u001b[0m\u001b[0;34m.\u001b[0m\u001b[0m_n_jobs\u001b[0m\u001b[0;34m)\u001b[0m\u001b[0;34m:\u001b[0m\u001b[0;34m\u001b[0m\u001b[0;34m\u001b[0m\u001b[0m\n\u001b[1;32m    224\u001b[0m             return [func(*args, **kwargs)\n\u001b[0;32m--> 225\u001b[0;31m                     for func, args, kwargs in self.items]\n\u001b[0m\u001b[1;32m    226\u001b[0m \u001b[0;34m\u001b[0m\u001b[0m\n\u001b[1;32m    227\u001b[0m     \u001b[0;32mdef\u001b[0m \u001b[0m__len__\u001b[0m\u001b[0;34m(\u001b[0m\u001b[0mself\u001b[0m\u001b[0;34m)\u001b[0m\u001b[0;34m:\u001b[0m\u001b[0;34m\u001b[0m\u001b[0;34m\u001b[0m\u001b[0m\n",
      "\u001b[0;32m~/opt/anaconda3/lib/python3.7/site-packages/sklearn/model_selection/_validation.py\u001b[0m in \u001b[0;36m_fit_and_score\u001b[0;34m(estimator, X, y, scorer, train, test, verbose, parameters, fit_params, return_train_score, return_parameters, return_n_test_samples, return_times, return_estimator, error_score)\u001b[0m\n\u001b[1;32m    542\u001b[0m     \u001b[0;32melse\u001b[0m\u001b[0;34m:\u001b[0m\u001b[0;34m\u001b[0m\u001b[0;34m\u001b[0m\u001b[0m\n\u001b[1;32m    543\u001b[0m         \u001b[0mfit_time\u001b[0m \u001b[0;34m=\u001b[0m \u001b[0mtime\u001b[0m\u001b[0;34m.\u001b[0m\u001b[0mtime\u001b[0m\u001b[0;34m(\u001b[0m\u001b[0;34m)\u001b[0m \u001b[0;34m-\u001b[0m \u001b[0mstart_time\u001b[0m\u001b[0;34m\u001b[0m\u001b[0;34m\u001b[0m\u001b[0m\n\u001b[0;32m--> 544\u001b[0;31m         \u001b[0mtest_scores\u001b[0m \u001b[0;34m=\u001b[0m \u001b[0m_score\u001b[0m\u001b[0;34m(\u001b[0m\u001b[0mestimator\u001b[0m\u001b[0;34m,\u001b[0m \u001b[0mX_test\u001b[0m\u001b[0;34m,\u001b[0m \u001b[0my_test\u001b[0m\u001b[0;34m,\u001b[0m \u001b[0mscorer\u001b[0m\u001b[0;34m)\u001b[0m\u001b[0;34m\u001b[0m\u001b[0;34m\u001b[0m\u001b[0m\n\u001b[0m\u001b[1;32m    545\u001b[0m         \u001b[0mscore_time\u001b[0m \u001b[0;34m=\u001b[0m \u001b[0mtime\u001b[0m\u001b[0;34m.\u001b[0m\u001b[0mtime\u001b[0m\u001b[0;34m(\u001b[0m\u001b[0;34m)\u001b[0m \u001b[0;34m-\u001b[0m \u001b[0mstart_time\u001b[0m \u001b[0;34m-\u001b[0m \u001b[0mfit_time\u001b[0m\u001b[0;34m\u001b[0m\u001b[0;34m\u001b[0m\u001b[0m\n\u001b[1;32m    546\u001b[0m         \u001b[0;32mif\u001b[0m \u001b[0mreturn_train_score\u001b[0m\u001b[0;34m:\u001b[0m\u001b[0;34m\u001b[0m\u001b[0;34m\u001b[0m\u001b[0m\n",
      "\u001b[0;32m~/opt/anaconda3/lib/python3.7/site-packages/sklearn/model_selection/_validation.py\u001b[0m in \u001b[0;36m_score\u001b[0;34m(estimator, X_test, y_test, scorer)\u001b[0m\n\u001b[1;32m    589\u001b[0m         \u001b[0mscores\u001b[0m \u001b[0;34m=\u001b[0m \u001b[0mscorer\u001b[0m\u001b[0;34m(\u001b[0m\u001b[0mestimator\u001b[0m\u001b[0;34m,\u001b[0m \u001b[0mX_test\u001b[0m\u001b[0;34m)\u001b[0m\u001b[0;34m\u001b[0m\u001b[0;34m\u001b[0m\u001b[0m\n\u001b[1;32m    590\u001b[0m     \u001b[0;32melse\u001b[0m\u001b[0;34m:\u001b[0m\u001b[0;34m\u001b[0m\u001b[0;34m\u001b[0m\u001b[0m\n\u001b[0;32m--> 591\u001b[0;31m         \u001b[0mscores\u001b[0m \u001b[0;34m=\u001b[0m \u001b[0mscorer\u001b[0m\u001b[0;34m(\u001b[0m\u001b[0mestimator\u001b[0m\u001b[0;34m,\u001b[0m \u001b[0mX_test\u001b[0m\u001b[0;34m,\u001b[0m \u001b[0my_test\u001b[0m\u001b[0;34m)\u001b[0m\u001b[0;34m\u001b[0m\u001b[0;34m\u001b[0m\u001b[0m\n\u001b[0m\u001b[1;32m    592\u001b[0m \u001b[0;34m\u001b[0m\u001b[0m\n\u001b[1;32m    593\u001b[0m     error_msg = (\"scoring must return a number, got %s (%s) \"\n",
      "\u001b[0;32m~/opt/anaconda3/lib/python3.7/site-packages/sklearn/metrics/_scorer.py\u001b[0m in \u001b[0;36m__call__\u001b[0;34m(self, estimator, *args, **kwargs)\u001b[0m\n\u001b[1;32m     85\u001b[0m             \u001b[0;32mif\u001b[0m \u001b[0misinstance\u001b[0m\u001b[0;34m(\u001b[0m\u001b[0mscorer\u001b[0m\u001b[0;34m,\u001b[0m \u001b[0m_BaseScorer\u001b[0m\u001b[0;34m)\u001b[0m\u001b[0;34m:\u001b[0m\u001b[0;34m\u001b[0m\u001b[0;34m\u001b[0m\u001b[0m\n\u001b[1;32m     86\u001b[0m                 score = scorer._score(cached_call, estimator,\n\u001b[0;32m---> 87\u001b[0;31m                                       *args, **kwargs)\n\u001b[0m\u001b[1;32m     88\u001b[0m             \u001b[0;32melse\u001b[0m\u001b[0;34m:\u001b[0m\u001b[0;34m\u001b[0m\u001b[0;34m\u001b[0m\u001b[0m\n\u001b[1;32m     89\u001b[0m                 \u001b[0mscore\u001b[0m \u001b[0;34m=\u001b[0m \u001b[0mscorer\u001b[0m\u001b[0;34m(\u001b[0m\u001b[0mestimator\u001b[0m\u001b[0;34m,\u001b[0m \u001b[0;34m*\u001b[0m\u001b[0margs\u001b[0m\u001b[0;34m,\u001b[0m \u001b[0;34m**\u001b[0m\u001b[0mkwargs\u001b[0m\u001b[0;34m)\u001b[0m\u001b[0;34m\u001b[0m\u001b[0;34m\u001b[0m\u001b[0m\n",
      "\u001b[0;32m~/opt/anaconda3/lib/python3.7/site-packages/sklearn/metrics/_scorer.py\u001b[0m in \u001b[0;36m_score\u001b[0;34m(self, method_caller, estimator, X, y_true, sample_weight)\u001b[0m\n\u001b[1;32m    203\u001b[0m         \"\"\"\n\u001b[1;32m    204\u001b[0m \u001b[0;34m\u001b[0m\u001b[0m\n\u001b[0;32m--> 205\u001b[0;31m         \u001b[0my_pred\u001b[0m \u001b[0;34m=\u001b[0m \u001b[0mmethod_caller\u001b[0m\u001b[0;34m(\u001b[0m\u001b[0mestimator\u001b[0m\u001b[0;34m,\u001b[0m \u001b[0;34m\"predict\"\u001b[0m\u001b[0;34m,\u001b[0m \u001b[0mX\u001b[0m\u001b[0;34m)\u001b[0m\u001b[0;34m\u001b[0m\u001b[0;34m\u001b[0m\u001b[0m\n\u001b[0m\u001b[1;32m    206\u001b[0m         \u001b[0;32mif\u001b[0m \u001b[0msample_weight\u001b[0m \u001b[0;32mis\u001b[0m \u001b[0;32mnot\u001b[0m \u001b[0;32mNone\u001b[0m\u001b[0;34m:\u001b[0m\u001b[0;34m\u001b[0m\u001b[0;34m\u001b[0m\u001b[0m\n\u001b[1;32m    207\u001b[0m             return self._sign * self._score_func(y_true, y_pred,\n",
      "\u001b[0;32m~/opt/anaconda3/lib/python3.7/site-packages/sklearn/metrics/_scorer.py\u001b[0m in \u001b[0;36m_cached_call\u001b[0;34m(cache, estimator, method, *args, **kwargs)\u001b[0m\n\u001b[1;32m     50\u001b[0m     \u001b[0;34m\"\"\"Call estimator with method and args and kwargs.\"\"\"\u001b[0m\u001b[0;34m\u001b[0m\u001b[0;34m\u001b[0m\u001b[0m\n\u001b[1;32m     51\u001b[0m     \u001b[0;32mif\u001b[0m \u001b[0mcache\u001b[0m \u001b[0;32mis\u001b[0m \u001b[0;32mNone\u001b[0m\u001b[0;34m:\u001b[0m\u001b[0;34m\u001b[0m\u001b[0;34m\u001b[0m\u001b[0m\n\u001b[0;32m---> 52\u001b[0;31m         \u001b[0;32mreturn\u001b[0m \u001b[0mgetattr\u001b[0m\u001b[0;34m(\u001b[0m\u001b[0mestimator\u001b[0m\u001b[0;34m,\u001b[0m \u001b[0mmethod\u001b[0m\u001b[0;34m)\u001b[0m\u001b[0;34m(\u001b[0m\u001b[0;34m*\u001b[0m\u001b[0margs\u001b[0m\u001b[0;34m,\u001b[0m \u001b[0;34m**\u001b[0m\u001b[0mkwargs\u001b[0m\u001b[0;34m)\u001b[0m\u001b[0;34m\u001b[0m\u001b[0;34m\u001b[0m\u001b[0m\n\u001b[0m\u001b[1;32m     53\u001b[0m \u001b[0;34m\u001b[0m\u001b[0m\n\u001b[1;32m     54\u001b[0m     \u001b[0;32mtry\u001b[0m\u001b[0;34m:\u001b[0m\u001b[0;34m\u001b[0m\u001b[0;34m\u001b[0m\u001b[0m\n",
      "\u001b[0;32m~/opt/anaconda3/lib/python3.7/site-packages/sklearn/neighbors/_classification.py\u001b[0m in \u001b[0;36mpredict\u001b[0;34m(self, X)\u001b[0m\n\u001b[1;32m    171\u001b[0m         \u001b[0mX\u001b[0m \u001b[0;34m=\u001b[0m \u001b[0mcheck_array\u001b[0m\u001b[0;34m(\u001b[0m\u001b[0mX\u001b[0m\u001b[0;34m,\u001b[0m \u001b[0maccept_sparse\u001b[0m\u001b[0;34m=\u001b[0m\u001b[0;34m'csr'\u001b[0m\u001b[0;34m)\u001b[0m\u001b[0;34m\u001b[0m\u001b[0;34m\u001b[0m\u001b[0m\n\u001b[1;32m    172\u001b[0m \u001b[0;34m\u001b[0m\u001b[0m\n\u001b[0;32m--> 173\u001b[0;31m         \u001b[0mneigh_dist\u001b[0m\u001b[0;34m,\u001b[0m \u001b[0mneigh_ind\u001b[0m \u001b[0;34m=\u001b[0m \u001b[0mself\u001b[0m\u001b[0;34m.\u001b[0m\u001b[0mkneighbors\u001b[0m\u001b[0;34m(\u001b[0m\u001b[0mX\u001b[0m\u001b[0;34m)\u001b[0m\u001b[0;34m\u001b[0m\u001b[0;34m\u001b[0m\u001b[0m\n\u001b[0m\u001b[1;32m    174\u001b[0m         \u001b[0mclasses_\u001b[0m \u001b[0;34m=\u001b[0m \u001b[0mself\u001b[0m\u001b[0;34m.\u001b[0m\u001b[0mclasses_\u001b[0m\u001b[0;34m\u001b[0m\u001b[0;34m\u001b[0m\u001b[0m\n\u001b[1;32m    175\u001b[0m         \u001b[0m_y\u001b[0m \u001b[0;34m=\u001b[0m \u001b[0mself\u001b[0m\u001b[0;34m.\u001b[0m\u001b[0m_y\u001b[0m\u001b[0;34m\u001b[0m\u001b[0;34m\u001b[0m\u001b[0m\n",
      "\u001b[0;32m~/opt/anaconda3/lib/python3.7/site-packages/sklearn/neighbors/_base.py\u001b[0m in \u001b[0;36mkneighbors\u001b[0;34m(self, X, n_neighbors, return_distance)\u001b[0m\n\u001b[1;32m    661\u001b[0m                 delayed_query(\n\u001b[1;32m    662\u001b[0m                     self._tree, X[s], n_neighbors, return_distance)\n\u001b[0;32m--> 663\u001b[0;31m                 \u001b[0;32mfor\u001b[0m \u001b[0ms\u001b[0m \u001b[0;32min\u001b[0m \u001b[0mgen_even_slices\u001b[0m\u001b[0;34m(\u001b[0m\u001b[0mX\u001b[0m\u001b[0;34m.\u001b[0m\u001b[0mshape\u001b[0m\u001b[0;34m[\u001b[0m\u001b[0;36m0\u001b[0m\u001b[0;34m]\u001b[0m\u001b[0;34m,\u001b[0m \u001b[0mn_jobs\u001b[0m\u001b[0;34m)\u001b[0m\u001b[0;34m\u001b[0m\u001b[0;34m\u001b[0m\u001b[0m\n\u001b[0m\u001b[1;32m    664\u001b[0m             )\n\u001b[1;32m    665\u001b[0m         \u001b[0;32melse\u001b[0m\u001b[0;34m:\u001b[0m\u001b[0;34m\u001b[0m\u001b[0;34m\u001b[0m\u001b[0m\n",
      "\u001b[0;32m~/opt/anaconda3/lib/python3.7/site-packages/joblib/parallel.py\u001b[0m in \u001b[0;36m__call__\u001b[0;34m(self, iterable)\u001b[0m\n\u001b[1;32m    919\u001b[0m             \u001b[0;31m# remaining jobs.\u001b[0m\u001b[0;34m\u001b[0m\u001b[0;34m\u001b[0m\u001b[0;34m\u001b[0m\u001b[0m\n\u001b[1;32m    920\u001b[0m             \u001b[0mself\u001b[0m\u001b[0;34m.\u001b[0m\u001b[0m_iterating\u001b[0m \u001b[0;34m=\u001b[0m \u001b[0;32mFalse\u001b[0m\u001b[0;34m\u001b[0m\u001b[0;34m\u001b[0m\u001b[0m\n\u001b[0;32m--> 921\u001b[0;31m             \u001b[0;32mif\u001b[0m \u001b[0mself\u001b[0m\u001b[0;34m.\u001b[0m\u001b[0mdispatch_one_batch\u001b[0m\u001b[0;34m(\u001b[0m\u001b[0miterator\u001b[0m\u001b[0;34m)\u001b[0m\u001b[0;34m:\u001b[0m\u001b[0;34m\u001b[0m\u001b[0;34m\u001b[0m\u001b[0m\n\u001b[0m\u001b[1;32m    922\u001b[0m                 \u001b[0mself\u001b[0m\u001b[0;34m.\u001b[0m\u001b[0m_iterating\u001b[0m \u001b[0;34m=\u001b[0m \u001b[0mself\u001b[0m\u001b[0;34m.\u001b[0m\u001b[0m_original_iterator\u001b[0m \u001b[0;32mis\u001b[0m \u001b[0;32mnot\u001b[0m \u001b[0;32mNone\u001b[0m\u001b[0;34m\u001b[0m\u001b[0;34m\u001b[0m\u001b[0m\n\u001b[1;32m    923\u001b[0m \u001b[0;34m\u001b[0m\u001b[0m\n",
      "\u001b[0;32m~/opt/anaconda3/lib/python3.7/site-packages/joblib/parallel.py\u001b[0m in \u001b[0;36mdispatch_one_batch\u001b[0;34m(self, iterator)\u001b[0m\n\u001b[1;32m    757\u001b[0m                 \u001b[0;32mreturn\u001b[0m \u001b[0;32mFalse\u001b[0m\u001b[0;34m\u001b[0m\u001b[0;34m\u001b[0m\u001b[0m\n\u001b[1;32m    758\u001b[0m             \u001b[0;32melse\u001b[0m\u001b[0;34m:\u001b[0m\u001b[0;34m\u001b[0m\u001b[0;34m\u001b[0m\u001b[0m\n\u001b[0;32m--> 759\u001b[0;31m                 \u001b[0mself\u001b[0m\u001b[0;34m.\u001b[0m\u001b[0m_dispatch\u001b[0m\u001b[0;34m(\u001b[0m\u001b[0mtasks\u001b[0m\u001b[0;34m)\u001b[0m\u001b[0;34m\u001b[0m\u001b[0;34m\u001b[0m\u001b[0m\n\u001b[0m\u001b[1;32m    760\u001b[0m                 \u001b[0;32mreturn\u001b[0m \u001b[0;32mTrue\u001b[0m\u001b[0;34m\u001b[0m\u001b[0;34m\u001b[0m\u001b[0m\n\u001b[1;32m    761\u001b[0m \u001b[0;34m\u001b[0m\u001b[0m\n",
      "\u001b[0;32m~/opt/anaconda3/lib/python3.7/site-packages/joblib/parallel.py\u001b[0m in \u001b[0;36m_dispatch\u001b[0;34m(self, batch)\u001b[0m\n\u001b[1;32m    714\u001b[0m         \u001b[0;32mwith\u001b[0m \u001b[0mself\u001b[0m\u001b[0;34m.\u001b[0m\u001b[0m_lock\u001b[0m\u001b[0;34m:\u001b[0m\u001b[0;34m\u001b[0m\u001b[0;34m\u001b[0m\u001b[0m\n\u001b[1;32m    715\u001b[0m             \u001b[0mjob_idx\u001b[0m \u001b[0;34m=\u001b[0m \u001b[0mlen\u001b[0m\u001b[0;34m(\u001b[0m\u001b[0mself\u001b[0m\u001b[0;34m.\u001b[0m\u001b[0m_jobs\u001b[0m\u001b[0;34m)\u001b[0m\u001b[0;34m\u001b[0m\u001b[0;34m\u001b[0m\u001b[0m\n\u001b[0;32m--> 716\u001b[0;31m             \u001b[0mjob\u001b[0m \u001b[0;34m=\u001b[0m \u001b[0mself\u001b[0m\u001b[0;34m.\u001b[0m\u001b[0m_backend\u001b[0m\u001b[0;34m.\u001b[0m\u001b[0mapply_async\u001b[0m\u001b[0;34m(\u001b[0m\u001b[0mbatch\u001b[0m\u001b[0;34m,\u001b[0m \u001b[0mcallback\u001b[0m\u001b[0;34m=\u001b[0m\u001b[0mcb\u001b[0m\u001b[0;34m)\u001b[0m\u001b[0;34m\u001b[0m\u001b[0;34m\u001b[0m\u001b[0m\n\u001b[0m\u001b[1;32m    717\u001b[0m             \u001b[0;31m# A job can complete so quickly than its callback is\u001b[0m\u001b[0;34m\u001b[0m\u001b[0;34m\u001b[0m\u001b[0;34m\u001b[0m\u001b[0m\n\u001b[1;32m    718\u001b[0m             \u001b[0;31m# called before we get here, causing self._jobs to\u001b[0m\u001b[0;34m\u001b[0m\u001b[0;34m\u001b[0m\u001b[0;34m\u001b[0m\u001b[0m\n",
      "\u001b[0;32m~/opt/anaconda3/lib/python3.7/site-packages/joblib/_parallel_backends.py\u001b[0m in \u001b[0;36mapply_async\u001b[0;34m(self, func, callback)\u001b[0m\n\u001b[1;32m    180\u001b[0m     \u001b[0;32mdef\u001b[0m \u001b[0mapply_async\u001b[0m\u001b[0;34m(\u001b[0m\u001b[0mself\u001b[0m\u001b[0;34m,\u001b[0m \u001b[0mfunc\u001b[0m\u001b[0;34m,\u001b[0m \u001b[0mcallback\u001b[0m\u001b[0;34m=\u001b[0m\u001b[0;32mNone\u001b[0m\u001b[0;34m)\u001b[0m\u001b[0;34m:\u001b[0m\u001b[0;34m\u001b[0m\u001b[0;34m\u001b[0m\u001b[0m\n\u001b[1;32m    181\u001b[0m         \u001b[0;34m\"\"\"Schedule a func to be run\"\"\"\u001b[0m\u001b[0;34m\u001b[0m\u001b[0;34m\u001b[0m\u001b[0m\n\u001b[0;32m--> 182\u001b[0;31m         \u001b[0mresult\u001b[0m \u001b[0;34m=\u001b[0m \u001b[0mImmediateResult\u001b[0m\u001b[0;34m(\u001b[0m\u001b[0mfunc\u001b[0m\u001b[0;34m)\u001b[0m\u001b[0;34m\u001b[0m\u001b[0;34m\u001b[0m\u001b[0m\n\u001b[0m\u001b[1;32m    183\u001b[0m         \u001b[0;32mif\u001b[0m \u001b[0mcallback\u001b[0m\u001b[0;34m:\u001b[0m\u001b[0;34m\u001b[0m\u001b[0;34m\u001b[0m\u001b[0m\n\u001b[1;32m    184\u001b[0m             \u001b[0mcallback\u001b[0m\u001b[0;34m(\u001b[0m\u001b[0mresult\u001b[0m\u001b[0;34m)\u001b[0m\u001b[0;34m\u001b[0m\u001b[0;34m\u001b[0m\u001b[0m\n",
      "\u001b[0;32m~/opt/anaconda3/lib/python3.7/site-packages/joblib/_parallel_backends.py\u001b[0m in \u001b[0;36m__init__\u001b[0;34m(self, batch)\u001b[0m\n\u001b[1;32m    547\u001b[0m         \u001b[0;31m# Don't delay the application, to avoid keeping the input\u001b[0m\u001b[0;34m\u001b[0m\u001b[0;34m\u001b[0m\u001b[0;34m\u001b[0m\u001b[0m\n\u001b[1;32m    548\u001b[0m         \u001b[0;31m# arguments in memory\u001b[0m\u001b[0;34m\u001b[0m\u001b[0;34m\u001b[0m\u001b[0;34m\u001b[0m\u001b[0m\n\u001b[0;32m--> 549\u001b[0;31m         \u001b[0mself\u001b[0m\u001b[0;34m.\u001b[0m\u001b[0mresults\u001b[0m \u001b[0;34m=\u001b[0m \u001b[0mbatch\u001b[0m\u001b[0;34m(\u001b[0m\u001b[0;34m)\u001b[0m\u001b[0;34m\u001b[0m\u001b[0;34m\u001b[0m\u001b[0m\n\u001b[0m\u001b[1;32m    550\u001b[0m \u001b[0;34m\u001b[0m\u001b[0m\n\u001b[1;32m    551\u001b[0m     \u001b[0;32mdef\u001b[0m \u001b[0mget\u001b[0m\u001b[0;34m(\u001b[0m\u001b[0mself\u001b[0m\u001b[0;34m)\u001b[0m\u001b[0;34m:\u001b[0m\u001b[0;34m\u001b[0m\u001b[0;34m\u001b[0m\u001b[0m\n",
      "\u001b[0;32m~/opt/anaconda3/lib/python3.7/site-packages/joblib/parallel.py\u001b[0m in \u001b[0;36m__call__\u001b[0;34m(self)\u001b[0m\n\u001b[1;32m    223\u001b[0m         \u001b[0;32mwith\u001b[0m \u001b[0mparallel_backend\u001b[0m\u001b[0;34m(\u001b[0m\u001b[0mself\u001b[0m\u001b[0;34m.\u001b[0m\u001b[0m_backend\u001b[0m\u001b[0;34m,\u001b[0m \u001b[0mn_jobs\u001b[0m\u001b[0;34m=\u001b[0m\u001b[0mself\u001b[0m\u001b[0;34m.\u001b[0m\u001b[0m_n_jobs\u001b[0m\u001b[0;34m)\u001b[0m\u001b[0;34m:\u001b[0m\u001b[0;34m\u001b[0m\u001b[0;34m\u001b[0m\u001b[0m\n\u001b[1;32m    224\u001b[0m             return [func(*args, **kwargs)\n\u001b[0;32m--> 225\u001b[0;31m                     for func, args, kwargs in self.items]\n\u001b[0m\u001b[1;32m    226\u001b[0m \u001b[0;34m\u001b[0m\u001b[0m\n\u001b[1;32m    227\u001b[0m     \u001b[0;32mdef\u001b[0m \u001b[0m__len__\u001b[0m\u001b[0;34m(\u001b[0m\u001b[0mself\u001b[0m\u001b[0;34m)\u001b[0m\u001b[0;34m:\u001b[0m\u001b[0;34m\u001b[0m\u001b[0;34m\u001b[0m\u001b[0m\n",
      "\u001b[0;32m~/opt/anaconda3/lib/python3.7/site-packages/joblib/parallel.py\u001b[0m in \u001b[0;36m<listcomp>\u001b[0;34m(.0)\u001b[0m\n\u001b[1;32m    223\u001b[0m         \u001b[0;32mwith\u001b[0m \u001b[0mparallel_backend\u001b[0m\u001b[0;34m(\u001b[0m\u001b[0mself\u001b[0m\u001b[0;34m.\u001b[0m\u001b[0m_backend\u001b[0m\u001b[0;34m,\u001b[0m \u001b[0mn_jobs\u001b[0m\u001b[0;34m=\u001b[0m\u001b[0mself\u001b[0m\u001b[0;34m.\u001b[0m\u001b[0m_n_jobs\u001b[0m\u001b[0;34m)\u001b[0m\u001b[0;34m:\u001b[0m\u001b[0;34m\u001b[0m\u001b[0;34m\u001b[0m\u001b[0m\n\u001b[1;32m    224\u001b[0m             return [func(*args, **kwargs)\n\u001b[0;32m--> 225\u001b[0;31m                     for func, args, kwargs in self.items]\n\u001b[0m\u001b[1;32m    226\u001b[0m \u001b[0;34m\u001b[0m\u001b[0m\n\u001b[1;32m    227\u001b[0m     \u001b[0;32mdef\u001b[0m \u001b[0m__len__\u001b[0m\u001b[0;34m(\u001b[0m\u001b[0mself\u001b[0m\u001b[0;34m)\u001b[0m\u001b[0;34m:\u001b[0m\u001b[0;34m\u001b[0m\u001b[0;34m\u001b[0m\u001b[0m\n",
      "\u001b[0;32m~/opt/anaconda3/lib/python3.7/site-packages/sklearn/neighbors/_base.py\u001b[0m in \u001b[0;36m_tree_query_parallel_helper\u001b[0;34m(tree, *args, **kwargs)\u001b[0m\n\u001b[1;32m    488\u001b[0m     \u001b[0munder\u001b[0m \u001b[0mPyPy\u001b[0m\u001b[0;34m.\u001b[0m\u001b[0;34m\u001b[0m\u001b[0;34m\u001b[0m\u001b[0m\n\u001b[1;32m    489\u001b[0m     \"\"\"\n\u001b[0;32m--> 490\u001b[0;31m     \u001b[0;32mreturn\u001b[0m \u001b[0mtree\u001b[0m\u001b[0;34m.\u001b[0m\u001b[0mquery\u001b[0m\u001b[0;34m(\u001b[0m\u001b[0;34m*\u001b[0m\u001b[0margs\u001b[0m\u001b[0;34m,\u001b[0m \u001b[0;34m**\u001b[0m\u001b[0mkwargs\u001b[0m\u001b[0;34m)\u001b[0m\u001b[0;34m\u001b[0m\u001b[0;34m\u001b[0m\u001b[0m\n\u001b[0m\u001b[1;32m    491\u001b[0m \u001b[0;34m\u001b[0m\u001b[0m\n\u001b[1;32m    492\u001b[0m \u001b[0;34m\u001b[0m\u001b[0m\n",
      "\u001b[0;31mKeyboardInterrupt\u001b[0m: "
     ]
    },
    {
     "data": {
      "application/javascript": [
       "\n",
       "            setTimeout(function() {\n",
       "                var nbb_cell_id = 22;\n",
       "                var nbb_unformatted_code = \"from sklearn import preprocessing\\nX_scaled = preprocessing.scale(X_train)\\n\\n# prepare models\\nmodels = []\\nmodels.append(('LR', LogisticRegression(solver='liblinear', max_iter=100, class_weight='balanced')))\\nmodels.append(('LDA', LinearDiscriminantAnalysis()))\\nmodels.append(('KNN', KNeighborsClassifier()))\\nmodels.append(('CART', DecisionTreeClassifier(class_weight='balanced')))\\nmodels.append(('NB', GaussianNB()))\\nmodels.append(('SVM', SVC(class_weight='balanced')))\\nmodels.append(('RF', RandomForestClassifier(class_weight='balanced')))\\nmodels.append(('XGBoost', XGBClassifier(scale_pos_weight=4)))\\n\\n# evaluate each model in turn\\nresults = []\\nnames = []\\nscoring='f1'\\n\\nprint('The results with balanced-weighting')\\nfor name, model in models:\\n    kfold = model_selection.KFold(n_splits=5)\\n    cv_results = model_selection.cross_val_score(model, X_scaled, Y_train, cv=kfold, scoring=scoring)\\n    results.append(cv_results)\\n    names.append(name)\\n    msg = \\\"%s: %f (%f)\\\" % (name, cv_results.mean(), cv_results.std())\\n    print(msg)\\n \\n\\n'''\\nThe results with balanced-weighting\\nLR: 0.335936 (0.007798)\\nLDA: 0.061024 (0.037630)\\nKNN: 0.152377 (0.031906)\\nCART: 0.223875 (0.018499)\\nNB: 0.285749 (0.012118)\\nSVM: 0.329350 (0.012078)\\nRF: 0.237863 (0.016613)\\nXGBoost: 0.329015 (0.014148)\\n'''\";\n",
       "                var nbb_formatted_code = \"from sklearn import preprocessing\\n\\nX_scaled = preprocessing.scale(X_train)\\n\\n# prepare models\\nmodels = []\\nmodels.append(\\n    (\\n        \\\"LR\\\",\\n        LogisticRegression(solver=\\\"liblinear\\\", max_iter=100, class_weight=\\\"balanced\\\"),\\n    )\\n)\\nmodels.append((\\\"LDA\\\", LinearDiscriminantAnalysis()))\\nmodels.append((\\\"KNN\\\", KNeighborsClassifier()))\\nmodels.append((\\\"CART\\\", DecisionTreeClassifier(class_weight=\\\"balanced\\\")))\\nmodels.append((\\\"NB\\\", GaussianNB()))\\nmodels.append((\\\"SVM\\\", SVC(class_weight=\\\"balanced\\\")))\\nmodels.append((\\\"RF\\\", RandomForestClassifier(class_weight=\\\"balanced\\\")))\\nmodels.append((\\\"XGBoost\\\", XGBClassifier(scale_pos_weight=4)))\\n\\n# evaluate each model in turn\\nresults = []\\nnames = []\\nscoring = \\\"f1\\\"\\n\\nprint(\\\"The results with balanced-weighting\\\")\\nfor name, model in models:\\n    kfold = model_selection.KFold(n_splits=5)\\n    cv_results = model_selection.cross_val_score(\\n        model, X_scaled, Y_train, cv=kfold, scoring=scoring\\n    )\\n    results.append(cv_results)\\n    names.append(name)\\n    msg = \\\"%s: %f (%f)\\\" % (name, cv_results.mean(), cv_results.std())\\n    print(msg)\\n\\n\\n\\\"\\\"\\\"\\nThe results with balanced-weighting\\nLR: 0.335936 (0.007798)\\nLDA: 0.061024 (0.037630)\\nKNN: 0.152377 (0.031906)\\nCART: 0.223875 (0.018499)\\nNB: 0.285749 (0.012118)\\nSVM: 0.329350 (0.012078)\\nRF: 0.237863 (0.016613)\\nXGBoost: 0.329015 (0.014148)\\n\\\"\\\"\\\"\";\n",
       "                var nbb_cells = Jupyter.notebook.get_cells();\n",
       "                for (var i = 0; i < nbb_cells.length; ++i) {\n",
       "                    if (nbb_cells[i].input_prompt_number == nbb_cell_id) {\n",
       "                        if (nbb_cells[i].get_text() == nbb_unformatted_code) {\n",
       "                             nbb_cells[i].set_text(nbb_formatted_code);\n",
       "                        }\n",
       "                        break;\n",
       "                    }\n",
       "                }\n",
       "            }, 500);\n",
       "            "
      ],
      "text/plain": [
       "<IPython.core.display.Javascript object>"
      ]
     },
     "metadata": {},
     "output_type": "display_data"
    }
   ],
   "source": [
    "X_scaled = preprocessing.scale(X_train)\n",
    "\n",
    "# prepare models\n",
    "models = []\n",
    "models.append(\n",
    "    (\n",
    "        \"LR\",\n",
    "        LogisticRegression(solver=\"liblinear\", max_iter=100, class_weight=\"balanced\"),\n",
    "    )\n",
    ")\n",
    "models.append((\"LDA\", LinearDiscriminantAnalysis()))\n",
    "models.append((\"KNN\", KNeighborsClassifier()))\n",
    "models.append((\"CART\", DecisionTreeClassifier(class_weight=\"balanced\")))\n",
    "models.append((\"NB\", GaussianNB()))\n",
    "models.append((\"SVM\", SVC(class_weight=\"balanced\")))\n",
    "models.append((\"RF\", RandomForestClassifier(class_weight=\"balanced\")))\n",
    "models.append((\"XGBoost\", XGBClassifier(scale_pos_weight=4)))\n",
    "\n",
    "# evaluate each model in turn\n",
    "results = []\n",
    "names = []\n",
    "scoring = \"f1\"\n",
    "\n",
    "print(\"The results with balanced-weighting\")\n",
    "for name, model in models:\n",
    "    kfold = model_selection.KFold(n_splits=5)\n",
    "    cv_results = model_selection.cross_val_score(\n",
    "        model, X_scaled, Y_train, cv=kfold, scoring=scoring\n",
    "    )\n",
    "    results.append(cv_results)\n",
    "    names.append(name)\n",
    "    msg = \"%s: %f (%f)\" % (name, cv_results.mean(), cv_results.std())\n",
    "    print(msg)\n",
    "\n",
    "\n",
    "\"\"\"\n",
    "The results with balanced-weighting\n",
    "LR: 0.335936 (0.007798)\n",
    "LDA: 0.061024 (0.037630)\n",
    "KNN: 0.152377 (0.031906)\n",
    "CART: 0.223875 (0.018499)\n",
    "NB: 0.285749 (0.012118)\n",
    "SVM: 0.329350 (0.012078)\n",
    "RF: 0.237863 (0.016613)\n",
    "XGBoost: 0.329015 (0.014148)\n",
    "\"\"\""
   ]
  },
  {
   "cell_type": "code",
   "execution_count": 23,
   "metadata": {},
   "outputs": [
    {
     "data": {
      "image/png": "[encoded data removed]",
      "text/plain": [
       "<Figure size 432x288 with 1 Axes>"
      ]
     },
     "metadata": {
      "needs_background": "light"
     },
     "output_type": "display_data"
    },
    {
     "data": {
      "application/javascript": [
       "\n",
       "            setTimeout(function() {\n",
       "                var nbb_cell_id = 23;\n",
       "                var nbb_unformatted_code = \"# boxplot algorithm comparison\\nfig = plt.figure()\\nfig.suptitle('Balanced Algorithm Comparison')\\nax = fig.add_subplot(111)\\nplt.boxplot(results)\\nax.set_xticklabels(names)\\nplt.show()\";\n",
       "                var nbb_formatted_code = \"# boxplot algorithm comparison\\nfig = plt.figure()\\nfig.suptitle(\\\"Balanced Algorithm Comparison\\\")\\nax = fig.add_subplot(111)\\nplt.boxplot(results)\\nax.set_xticklabels(names)\\nplt.show()\";\n",
       "                var nbb_cells = Jupyter.notebook.get_cells();\n",
       "                for (var i = 0; i < nbb_cells.length; ++i) {\n",
       "                    if (nbb_cells[i].input_prompt_number == nbb_cell_id) {\n",
       "                        if (nbb_cells[i].get_text() == nbb_unformatted_code) {\n",
       "                             nbb_cells[i].set_text(nbb_formatted_code);\n",
       "                        }\n",
       "                        break;\n",
       "                    }\n",
       "                }\n",
       "            }, 500);\n",
       "            "
      ],
      "text/plain": [
       "<IPython.core.display.Javascript object>"
      ]
     },
     "metadata": {},
     "output_type": "display_data"
    }
   ],
   "source": [
    "# boxplot algorithm comparison\n",
    "fig = plt.figure()\n",
    "fig.suptitle(\"Balanced Algorithm Comparison\")\n",
    "ax = fig.add_subplot(111)\n",
    "plt.boxplot(results)\n",
    "ax.set_xticklabels(names)\n",
    "plt.show()"
   ]
  },
  {
   "cell_type": "code",
   "execution_count": 24,
   "metadata": {},
   "outputs": [
    {
     "ename": "IndexError",
     "evalue": "list index out of range",
     "output_type": "error",
     "traceback": [
      "\u001b[0;31m---------------------------------------------------------------------------\u001b[0m",
      "\u001b[0;31mIndexError\u001b[0m                                Traceback (most recent call last)",
      "\u001b[0;32m<ipython-input-24-5e86cd1bc2ce>\u001b[0m in \u001b[0;36m<module>\u001b[0;34m\u001b[0m\n\u001b[1;32m     24\u001b[0m \u001b[0mmybox\u001b[0m \u001b[0;34m=\u001b[0m \u001b[0max\u001b[0m\u001b[0;34m.\u001b[0m\u001b[0martists\u001b[0m\u001b[0;34m[\u001b[0m\u001b[0;36m1\u001b[0m\u001b[0;34m]\u001b[0m\u001b[0;34m\u001b[0m\u001b[0;34m\u001b[0m\u001b[0m\n\u001b[1;32m     25\u001b[0m \u001b[0mmybox\u001b[0m\u001b[0;34m.\u001b[0m\u001b[0mset_facecolor\u001b[0m\u001b[0;34m(\u001b[0m\u001b[0;34m'lightblue'\u001b[0m\u001b[0;34m)\u001b[0m\u001b[0;34m\u001b[0m\u001b[0;34m\u001b[0m\u001b[0m\n\u001b[0;32m---> 26\u001b[0;31m \u001b[0mmybox\u001b[0m \u001b[0;34m=\u001b[0m \u001b[0max\u001b[0m\u001b[0;34m.\u001b[0m\u001b[0martists\u001b[0m\u001b[0;34m[\u001b[0m\u001b[0;36m2\u001b[0m\u001b[0;34m]\u001b[0m\u001b[0;34m\u001b[0m\u001b[0;34m\u001b[0m\u001b[0m\n\u001b[0m\u001b[1;32m     27\u001b[0m \u001b[0mmybox\u001b[0m\u001b[0;34m.\u001b[0m\u001b[0mset_facecolor\u001b[0m\u001b[0;34m(\u001b[0m\u001b[0;34m'lightblue'\u001b[0m\u001b[0;34m)\u001b[0m\u001b[0;34m\u001b[0m\u001b[0;34m\u001b[0m\u001b[0m\n\u001b[1;32m     28\u001b[0m \u001b[0mmybox\u001b[0m \u001b[0;34m=\u001b[0m \u001b[0max\u001b[0m\u001b[0;34m.\u001b[0m\u001b[0martists\u001b[0m\u001b[0;34m[\u001b[0m\u001b[0;36m3\u001b[0m\u001b[0;34m]\u001b[0m\u001b[0;34m\u001b[0m\u001b[0;34m\u001b[0m\u001b[0m\n",
      "\u001b[0;31mIndexError\u001b[0m: list index out of range"
     ]
    },
    {
     "data": {
      "image/png": "[encoded data removed]",
      "text/plain": [
       "<Figure size 576x595.44 with 1 Axes>"
      ]
     },
     "metadata": {},
     "output_type": "display_data"
    },
    {
     "data": {
      "application/javascript": [
       "\n",
       "            setTimeout(function() {\n",
       "                var nbb_cell_id = 24;\n",
       "                var nbb_unformatted_code = \"import seaborn as sns\\nimport matplotlib.pyplot as plt\\n\\n\\nsns.set(font_scale=3) \\nsns.set_style(\\\"whitegrid\\\")\\n\\nfig, ax = plt.subplots(figsize=(8, 8.27))\\n\\ntips = sns.load_dataset(\\\"tips\\\")\\nax = sns.boxplot(x= names, y= results)\\n\\nplt.xticks(rotation=45)\\n\\n# Select which box you want to change    \\nmybox = ax.artists[0]\\n\\n# Change the appearance of that box\\nmybox.set_facecolor('orangered')\\nmybox.set_edgecolor('black')\\n#mybox.set_linewidth(3)\\n\\n\\nmybox = ax.artists[1]\\nmybox.set_facecolor('lightblue')\\nmybox = ax.artists[2]\\nmybox.set_facecolor('lightblue')\\nmybox = ax.artists[3]\\nmybox.set_facecolor('lightblue')\\nmybox = ax.artists[4]\\nmybox.set_facecolor('lightblue')\\nmybox = ax.artists[5]\\nmybox.set_facecolor('lightblue')\\nmybox = ax.artists[6]\\nmybox.set_facecolor('lightblue')\\nmybox = ax.artists[7]\\nmybox.set_facecolor('lightblue')\";\n",
       "                var nbb_formatted_code = \"import seaborn as sns\\nimport matplotlib.pyplot as plt\\n\\n\\nsns.set(font_scale=3)\\nsns.set_style(\\\"whitegrid\\\")\\n\\nfig, ax = plt.subplots(figsize=(8, 8.27))\\n\\ntips = sns.load_dataset(\\\"tips\\\")\\nax = sns.boxplot(x=names, y=results)\\n\\nplt.xticks(rotation=45)\\n\\n# Select which box you want to change\\nmybox = ax.artists[0]\\n\\n# Change the appearance of that box\\nmybox.set_facecolor(\\\"orangered\\\")\\nmybox.set_edgecolor(\\\"black\\\")\\n# mybox.set_linewidth(3)\\n\\n\\nmybox = ax.artists[1]\\nmybox.set_facecolor(\\\"lightblue\\\")\\nmybox = ax.artists[2]\\nmybox.set_facecolor(\\\"lightblue\\\")\\nmybox = ax.artists[3]\\nmybox.set_facecolor(\\\"lightblue\\\")\\nmybox = ax.artists[4]\\nmybox.set_facecolor(\\\"lightblue\\\")\\nmybox = ax.artists[5]\\nmybox.set_facecolor(\\\"lightblue\\\")\\nmybox = ax.artists[6]\\nmybox.set_facecolor(\\\"lightblue\\\")\\nmybox = ax.artists[7]\\nmybox.set_facecolor(\\\"lightblue\\\")\";\n",
       "                var nbb_cells = Jupyter.notebook.get_cells();\n",
       "                for (var i = 0; i < nbb_cells.length; ++i) {\n",
       "                    if (nbb_cells[i].input_prompt_number == nbb_cell_id) {\n",
       "                        if (nbb_cells[i].get_text() == nbb_unformatted_code) {\n",
       "                             nbb_cells[i].set_text(nbb_formatted_code);\n",
       "                        }\n",
       "                        break;\n",
       "                    }\n",
       "                }\n",
       "            }, 500);\n",
       "            "
      ],
      "text/plain": [
       "<IPython.core.display.Javascript object>"
      ]
     },
     "metadata": {},
     "output_type": "display_data"
    }
   ],
   "source": [
    "sns.set(font_scale=3)\n",
    "sns.set_style(\"whitegrid\")\n",
    "\n",
    "fig, ax = plt.subplots(figsize=(8, 8.27))\n",
    "\n",
    "tips = sns.load_dataset(\"tips\")\n",
    "ax = sns.boxplot(x=names, y=results)\n",
    "\n",
    "plt.xticks(rotation=45)\n",
    "\n",
    "# Select which box you want to change\n",
    "mybox = ax.artists[0]\n",
    "\n",
    "# Change the appearance of that box\n",
    "mybox.set_facecolor(\"orangered\")\n",
    "mybox.set_edgecolor(\"black\")\n",
    "# mybox.set_linewidth(3)\n",
    "\n",
    "\n",
    "mybox = ax.artists[1]\n",
    "mybox.set_facecolor(\"lightblue\")\n",
    "mybox = ax.artists[2]\n",
    "mybox.set_facecolor(\"lightblue\")\n",
    "mybox = ax.artists[3]\n",
    "mybox.set_facecolor(\"lightblue\")\n",
    "mybox = ax.artists[4]\n",
    "mybox.set_facecolor(\"lightblue\")\n",
    "mybox = ax.artists[5]\n",
    "mybox.set_facecolor(\"lightblue\")\n",
    "mybox = ax.artists[6]\n",
    "mybox.set_facecolor(\"lightblue\")\n",
    "mybox = ax.artists[7]\n",
    "mybox.set_facecolor(\"lightblue\")"
   ]
  },
  {
   "cell_type": "code",
   "execution_count": 33,
   "metadata": {},
   "outputs": [
    {
     "ename": "NameError",
     "evalue": "name 'names_SMOTE' is not defined",
     "output_type": "error",
     "traceback": [
      "\u001b[0;31m---------------------------------------------------------------------------\u001b[0m",
      "\u001b[0;31mNameError\u001b[0m                                 Traceback (most recent call last)",
      "\u001b[0;32m<ipython-input-33-5c870260f9f0>\u001b[0m in \u001b[0;36m<module>\u001b[0;34m\u001b[0m\n\u001b[1;32m      8\u001b[0m \u001b[0;34m\u001b[0m\u001b[0m\n\u001b[1;32m      9\u001b[0m \u001b[0mtips\u001b[0m \u001b[0;34m=\u001b[0m \u001b[0msns\u001b[0m\u001b[0;34m.\u001b[0m\u001b[0mload_dataset\u001b[0m\u001b[0;34m(\u001b[0m\u001b[0;34m\"tips\"\u001b[0m\u001b[0;34m)\u001b[0m\u001b[0;34m\u001b[0m\u001b[0;34m\u001b[0m\u001b[0m\n\u001b[0;32m---> 10\u001b[0;31m \u001b[0max\u001b[0m \u001b[0;34m=\u001b[0m \u001b[0msns\u001b[0m\u001b[0;34m.\u001b[0m\u001b[0mboxplot\u001b[0m\u001b[0;34m(\u001b[0m\u001b[0mx\u001b[0m\u001b[0;34m=\u001b[0m \u001b[0mnames_SMOTE\u001b[0m\u001b[0;34m,\u001b[0m \u001b[0my\u001b[0m\u001b[0;34m=\u001b[0m \u001b[0mresults_SMOTE\u001b[0m\u001b[0;34m)\u001b[0m\u001b[0;34m\u001b[0m\u001b[0;34m\u001b[0m\u001b[0m\n\u001b[0m\u001b[1;32m     11\u001b[0m \u001b[0;34m\u001b[0m\u001b[0m\n\u001b[1;32m     12\u001b[0m \u001b[0mplt\u001b[0m\u001b[0;34m.\u001b[0m\u001b[0mxticks\u001b[0m\u001b[0;34m(\u001b[0m\u001b[0mrotation\u001b[0m\u001b[0;34m=\u001b[0m\u001b[0;36m45\u001b[0m\u001b[0;34m)\u001b[0m\u001b[0;34m\u001b[0m\u001b[0;34m\u001b[0m\u001b[0m\n",
      "\u001b[0;31mNameError\u001b[0m: name 'names_SMOTE' is not defined"
     ]
    },
    {
     "data": {
      "image/png": "[encoded data removed]",
      "text/plain": [
       "<Figure size 576x595.44 with 1 Axes>"
      ]
     },
     "metadata": {},
     "output_type": "display_data"
    },
    {
     "data": {
      "application/javascript": [
       "\n",
       "            setTimeout(function() {\n",
       "                var nbb_cell_id = 33;\n",
       "                var nbb_unformatted_code = \"# boxplot algorithm comparison\\n\\n\\nsns.set(font_scale=3) \\nsns.set_style(\\\"whitegrid\\\")\\nfig, ax = plt.subplots(figsize=(8, 8.27))\\n\\n\\ntips = sns.load_dataset(\\\"tips\\\")\\nax = sns.boxplot(x= names_SMOTE, y= results_SMOTE)\\n\\nplt.xticks(rotation=45)\\n\\n#fig = plt.figure()\\n#fig.suptitle('SMOTE Algorithm Comparison')\\n#ax = fig.add_subplot(111)\\n#plt.boxplot(results_SMOTE)\\n#ax.set_xticklabels(names_SMOTE)\\nplt.show()\";\n",
       "                var nbb_formatted_code = \"# boxplot algorithm comparison\\n\\n\\nsns.set(font_scale=3)\\nsns.set_style(\\\"whitegrid\\\")\\nfig, ax = plt.subplots(figsize=(8, 8.27))\\n\\n\\ntips = sns.load_dataset(\\\"tips\\\")\\nax = sns.boxplot(x=names_SMOTE, y=results_SMOTE)\\n\\nplt.xticks(rotation=45)\\n\\n# fig = plt.figure()\\n# fig.suptitle('SMOTE Algorithm Comparison')\\n# ax = fig.add_subplot(111)\\n# plt.boxplot(results_SMOTE)\\n# ax.set_xticklabels(names_SMOTE)\\nplt.show()\";\n",
       "                var nbb_cells = Jupyter.notebook.get_cells();\n",
       "                for (var i = 0; i < nbb_cells.length; ++i) {\n",
       "                    if (nbb_cells[i].input_prompt_number == nbb_cell_id) {\n",
       "                        if (nbb_cells[i].get_text() == nbb_unformatted_code) {\n",
       "                             nbb_cells[i].set_text(nbb_formatted_code);\n",
       "                        }\n",
       "                        break;\n",
       "                    }\n",
       "                }\n",
       "            }, 500);\n",
       "            "
      ],
      "text/plain": [
       "<IPython.core.display.Javascript object>"
      ]
     },
     "metadata": {},
     "output_type": "display_data"
    }
   ],
   "source": [
    "# boxplot algorithm comparison\n",
    "\n",
    "\n",
    "sns.set(font_scale=3)\n",
    "sns.set_style(\"whitegrid\")\n",
    "fig, ax = plt.subplots(figsize=(8, 8.27))\n",
    "\n",
    "\n",
    "tips = sns.load_dataset(\"tips\")\n",
    "ax = sns.boxplot(x=names_SMOTE, y=results_SMOTE)\n",
    "\n",
    "plt.xticks(rotation=45)\n",
    "\n",
    "# fig = plt.figure()\n",
    "# fig.suptitle('SMOTE Algorithm Comparison')\n",
    "# ax = fig.add_subplot(111)\n",
    "# plt.boxplot(results_SMOTE)\n",
    "# ax.set_xticklabels(names_SMOTE)\n",
    "plt.show()"
   ]
  },
  {
   "cell_type": "code",
   "execution_count": 34,
   "metadata": {},
   "outputs": [
    {
     "data": {
      "image/png": "[encoded data removed]",
      "text/plain": [
       "<Figure size 576x595.44 with 1 Axes>"
      ]
     },
     "metadata": {},
     "output_type": "display_data"
    },
    {
     "data": {
      "application/javascript": [
       "\n",
       "            setTimeout(function() {\n",
       "                var nbb_cell_id = 34;\n",
       "                var nbb_unformatted_code = \"# boxplot algorithm comparison\\nsns.set(font_scale=3)\\nsns.set_style(\\\"whitegrid\\\")\\nfig, ax = plt.subplots(figsize=(8, 8.27))\\n\\ntips = sns.load_dataset(\\\"tips\\\")\\nax = sns.boxplot(x=names, y=results)\\nplt.xticks(rotation=45)\\n# Select which box you want to change\\nmybox = ax.artists[0]\\n\\n\\n# fig = plt.figure()\\n# fig.suptitle('ADYSONs Algorithm Comparison')\\n# ax = fig.add_subplot(111)\\n# plt.boxplot(results_ADASYN)\\n# ax.set_xticklabels(names_ADASYN)\\n# plt.show()\";\n",
       "                var nbb_formatted_code = \"# boxplot algorithm comparison\\nsns.set(font_scale=3)\\nsns.set_style(\\\"whitegrid\\\")\\nfig, ax = plt.subplots(figsize=(8, 8.27))\\n\\ntips = sns.load_dataset(\\\"tips\\\")\\nax = sns.boxplot(x=names, y=results)\\nplt.xticks(rotation=45)\\n# Select which box you want to change\\nmybox = ax.artists[0]\\n\\n\\n# fig = plt.figure()\\n# fig.suptitle('ADYSONs Algorithm Comparison')\\n# ax = fig.add_subplot(111)\\n# plt.boxplot(results_ADASYN)\\n# ax.set_xticklabels(names_ADASYN)\\n# plt.show()\";\n",
       "                var nbb_cells = Jupyter.notebook.get_cells();\n",
       "                for (var i = 0; i < nbb_cells.length; ++i) {\n",
       "                    if (nbb_cells[i].input_prompt_number == nbb_cell_id) {\n",
       "                        if (nbb_cells[i].get_text() == nbb_unformatted_code) {\n",
       "                             nbb_cells[i].set_text(nbb_formatted_code);\n",
       "                        }\n",
       "                        break;\n",
       "                    }\n",
       "                }\n",
       "            }, 500);\n",
       "            "
      ],
      "text/plain": [
       "<IPython.core.display.Javascript object>"
      ]
     },
     "metadata": {},
     "output_type": "display_data"
    }
   ],
   "source": [
    "# boxplot algorithm comparison\n",
    "sns.set(font_scale=3)\n",
    "sns.set_style(\"whitegrid\")\n",
    "fig, ax = plt.subplots(figsize=(8, 8.27))\n",
    "\n",
    "tips = sns.load_dataset(\"tips\")\n",
    "ax = sns.boxplot(x=names, y=results)\n",
    "plt.xticks(rotation=45)\n",
    "# Select which box you want to change\n",
    "mybox = ax.artists[0]\n",
    "\n",
    "\n",
    "# fig = plt.figure()\n",
    "# fig.suptitle('ADYSONs Algorithm Comparison')\n",
    "# ax = fig.add_subplot(111)\n",
    "# plt.boxplot(results_ADASYN)\n",
    "# ax.set_xticklabels(names_ADASYN)\n",
    "# plt.show()"
   ]
  },
  {
   "cell_type": "code",
   "execution_count": 35,
   "metadata": {},
   "outputs": [
    {
     "name": "stdout",
     "output_type": "stream",
     "text": [
      "[[910 880]\n",
      " [116 288]]\n",
      "Accuracy of random forest on test set: 0.55\n",
      "Precision: 0.2465753424657534\n",
      "Recall: 0.7128712871287128\n",
      "F1: 0.366412213740458\n"
     ]
    },
    {
     "name": "stderr",
     "output_type": "stream",
     "text": [
      "/Users/Owner/opt/anaconda3/lib/python3.7/site-packages/sklearn/linear_model/_logistic.py:940: ConvergenceWarning: lbfgs failed to converge (status=1):\n",
      "STOP: TOTAL NO. of ITERATIONS REACHED LIMIT.\n",
      "\n",
      "Increase the number of iterations (max_iter) or scale the data as shown in:\n",
      "    https://scikit-learn.org/stable/modules/preprocessing.html\n",
      "Please also refer to the documentation for alternative solver options:\n",
      "    https://scikit-learn.org/stable/modules/linear_model.html#logistic-regression\n",
      "  extra_warning_msg=_LOGISTIC_SOLVER_CONVERGENCE_MSG)\n"
     ]
    },
    {
     "data": {
      "application/javascript": [
       "\n",
       "            setTimeout(function() {\n",
       "                var nbb_cell_id = 35;\n",
       "                var nbb_unformatted_code = \"rf = LogisticRegression(class_weight='balanced')\\n    \\nrf.fit(X_train, Y_train)\\n\\ny_pred = rf.predict(X_test)\\ny_pred = pd.Series(y_pred)\\n# Train the model on training data\\ncm = confusion_matrix(Y_test, y_pred)\\nprint(cm)\\n\\n# First pass run is not awful, but courld use improvement and hyperperamter model\\n# optimization\\nprint('Accuracy of random forest on test set: {:.2f}'.format(rf.score(X_test, Y_test)))\\nprint(\\\"Precision:\\\",metrics.precision_score(Y_test, y_pred))\\nprint(\\\"Recall:\\\",metrics.recall_score(Y_test, y_pred))\\nprint(\\\"F1:\\\",metrics.f1_score(Y_test, y_pred))        \";\n",
       "                var nbb_formatted_code = \"rf = LogisticRegression(class_weight=\\\"balanced\\\")\\n\\nrf.fit(X_train, Y_train)\\n\\ny_pred = rf.predict(X_test)\\ny_pred = pd.Series(y_pred)\\n# Train the model on training data\\ncm = confusion_matrix(Y_test, y_pred)\\nprint(cm)\\n\\n# First pass run is not awful, but courld use improvement and hyperperamter model\\n# optimization\\nprint(\\\"Accuracy of random forest on test set: {:.2f}\\\".format(rf.score(X_test, Y_test)))\\nprint(\\\"Precision:\\\", metrics.precision_score(Y_test, y_pred))\\nprint(\\\"Recall:\\\", metrics.recall_score(Y_test, y_pred))\\nprint(\\\"F1:\\\", metrics.f1_score(Y_test, y_pred))\";\n",
       "                var nbb_cells = Jupyter.notebook.get_cells();\n",
       "                for (var i = 0; i < nbb_cells.length; ++i) {\n",
       "                    if (nbb_cells[i].input_prompt_number == nbb_cell_id) {\n",
       "                        if (nbb_cells[i].get_text() == nbb_unformatted_code) {\n",
       "                             nbb_cells[i].set_text(nbb_formatted_code);\n",
       "                        }\n",
       "                        break;\n",
       "                    }\n",
       "                }\n",
       "            }, 500);\n",
       "            "
      ],
      "text/plain": [
       "<IPython.core.display.Javascript object>"
      ]
     },
     "metadata": {},
     "output_type": "display_data"
    }
   ],
   "source": [
    "rf = LogisticRegression(class_weight=\"balanced\")\n",
    "\n",
    "rf.fit(X_train, Y_train)\n",
    "\n",
    "y_pred = rf.predict(X_test)\n",
    "y_pred = pd.Series(y_pred)\n",
    "# Train the model on training data\n",
    "cm = confusion_matrix(Y_test, y_pred)\n",
    "print(cm)\n",
    "\n",
    "# First pass run is not awful, but courld use improvement and hyperperamter model\n",
    "# optimization\n",
    "print(\"Accuracy of random forest on test set: {:.2f}\".format(rf.score(X_test, Y_test)))\n",
    "print(\"Precision:\", metrics.precision_score(Y_test, y_pred))\n",
    "print(\"Recall:\", metrics.recall_score(Y_test, y_pred))\n",
    "print(\"F1:\", metrics.f1_score(Y_test, y_pred))"
   ]
  },
  {
   "cell_type": "code",
   "execution_count": 36,
   "metadata": {
    "scrolled": true
   },
   "outputs": [
    {
     "name": "stdout",
     "output_type": "stream",
     "text": [
      "Best Penalty: l2\n",
      "Best C: 21.544346900318832\n",
      "[[917 873]\n",
      " [117 287]]\n",
      "Accuracy of random forest on test set: 0.55\n",
      "Precision: 0.24741379310344827\n",
      "F1: 0.36700767263427114\n",
      "Recall: 0.7103960396039604\n"
     ]
    },
    {
     "data": {
      "application/javascript": [
       "\n",
       "            setTimeout(function() {\n",
       "                var nbb_cell_id = 36;\n",
       "                var nbb_unformatted_code = \"from sklearn.model_selection import GridSearchCV\\n\\n# Create logistic regression\\nlogistic = linear_model.LogisticRegression(\\n    solver=\\\"liblinear\\\", max_iter=1000, class_weight=\\\"balanced\\\"\\n)\\n# Create regularization penalty space\\npenalty = [\\\"l1\\\", \\\"l2\\\"]\\n# Create regularization hyperparameter space\\nC = np.logspace(0, 4, 10)\\n# Create hyperparameter options\\nhyperparameters = dict(C=C, penalty=penalty)\\n# Create grid search using 5-fold cross validation\\nclf = GridSearchCV(logistic, hyperparameters, cv=5, verbose=0)\\n# Fit grid search\\nbest_model = clf.fit(X_train, Y_train)\\n# View best hyperparameters\\nprint(\\\"Best Penalty:\\\", best_model.best_estimator_.get_params()[\\\"penalty\\\"])\\nprint(\\\"Best C:\\\", best_model.best_estimator_.get_params()[\\\"C\\\"])\\n# Predict target vector\\ny_pred = best_model.predict(X_test)\\ncm = confusion_matrix(Y_test, y_pred)\\nprint(cm)\\n\\n\\n# First pass run is not awful, but courld use improvement and hyperperamter model\\n# optimization\\nprint(\\n    \\\"Accuracy of random forest on test set: {:.2f}\\\".format(\\n        best_model.score(X_test, Y_test)\\n    )\\n)\\nprint(\\\"Precision:\\\", metrics.precision_score(Y_test, y_pred))\\nprint(\\\"F1:\\\", metrics.f1_score(Y_test, y_pred))\\nprint(\\\"Recall:\\\", metrics.recall_score(Y_test, y_pred))\";\n",
       "                var nbb_formatted_code = \"from sklearn.model_selection import GridSearchCV\\n\\n# Create logistic regression\\nlogistic = linear_model.LogisticRegression(\\n    solver=\\\"liblinear\\\", max_iter=1000, class_weight=\\\"balanced\\\"\\n)\\n# Create regularization penalty space\\npenalty = [\\\"l1\\\", \\\"l2\\\"]\\n# Create regularization hyperparameter space\\nC = np.logspace(0, 4, 10)\\n# Create hyperparameter options\\nhyperparameters = dict(C=C, penalty=penalty)\\n# Create grid search using 5-fold cross validation\\nclf = GridSearchCV(logistic, hyperparameters, cv=5, verbose=0)\\n# Fit grid search\\nbest_model = clf.fit(X_train, Y_train)\\n# View best hyperparameters\\nprint(\\\"Best Penalty:\\\", best_model.best_estimator_.get_params()[\\\"penalty\\\"])\\nprint(\\\"Best C:\\\", best_model.best_estimator_.get_params()[\\\"C\\\"])\\n# Predict target vector\\ny_pred = best_model.predict(X_test)\\ncm = confusion_matrix(Y_test, y_pred)\\nprint(cm)\\n\\n\\n# First pass run is not awful, but courld use improvement and hyperperamter model\\n# optimization\\nprint(\\n    \\\"Accuracy of random forest on test set: {:.2f}\\\".format(\\n        best_model.score(X_test, Y_test)\\n    )\\n)\\nprint(\\\"Precision:\\\", metrics.precision_score(Y_test, y_pred))\\nprint(\\\"F1:\\\", metrics.f1_score(Y_test, y_pred))\\nprint(\\\"Recall:\\\", metrics.recall_score(Y_test, y_pred))\";\n",
       "                var nbb_cells = Jupyter.notebook.get_cells();\n",
       "                for (var i = 0; i < nbb_cells.length; ++i) {\n",
       "                    if (nbb_cells[i].input_prompt_number == nbb_cell_id) {\n",
       "                        if (nbb_cells[i].get_text() == nbb_unformatted_code) {\n",
       "                             nbb_cells[i].set_text(nbb_formatted_code);\n",
       "                        }\n",
       "                        break;\n",
       "                    }\n",
       "                }\n",
       "            }, 500);\n",
       "            "
      ],
      "text/plain": [
       "<IPython.core.display.Javascript object>"
      ]
     },
     "metadata": {},
     "output_type": "display_data"
    }
   ],
   "source": [
    "from sklearn.model_selection import GridSearchCV\n",
    "\n",
    "# Create logistic regression\n",
    "logistic = linear_model.LogisticRegression(\n",
    "    solver=\"liblinear\", max_iter=1000, class_weight=\"balanced\"\n",
    ")\n",
    "# Create regularization penalty space\n",
    "penalty = [\"l1\", \"l2\"]\n",
    "# Create regularization hyperparameter space\n",
    "C = np.logspace(0, 4, 10)\n",
    "# Create hyperparameter options\n",
    "hyperparameters = dict(C=C, penalty=penalty)\n",
    "# Create grid search using 5-fold cross validation\n",
    "clf = GridSearchCV(logistic, hyperparameters, cv=5, verbose=0)\n",
    "# Fit grid search\n",
    "best_model = clf.fit(X_train, Y_train)\n",
    "# View best hyperparameters\n",
    "print(\"Best Penalty:\", best_model.best_estimator_.get_params()[\"penalty\"])\n",
    "print(\"Best C:\", best_model.best_estimator_.get_params()[\"C\"])\n",
    "# Predict target vector\n",
    "y_pred = best_model.predict(X_test)\n",
    "cm = confusion_matrix(Y_test, y_pred)\n",
    "print(cm)\n",
    "\n",
    "\n",
    "# First pass run is not awful, but courld use improvement and hyperperamter model\n",
    "# optimization\n",
    "print(\n",
    "    \"Accuracy of random forest on test set: {:.2f}\".format(\n",
    "        best_model.score(X_test, Y_test)\n",
    "    )\n",
    ")\n",
    "print(\"Precision:\", metrics.precision_score(Y_test, y_pred))\n",
    "print(\"F1:\", metrics.f1_score(Y_test, y_pred))\n",
    "print(\"Recall:\", metrics.recall_score(Y_test, y_pred))"
   ]
  },
  {
   "cell_type": "code",
   "execution_count": 37,
   "metadata": {
    "scrolled": true
   },
   "outputs": [
    {
     "data": {
      "text/plain": [
       "LogisticRegression(C=1.0, class_weight='balanced', dual=False,\n",
       "                   fit_intercept=True, intercept_scaling=1, l1_ratio=None,\n",
       "                   max_iter=1000, multi_class='auto', n_jobs=None, penalty='l2',\n",
       "                   random_state=None, solver='liblinear', tol=0.0001, verbose=0,\n",
       "                   warm_start=False)"
      ]
     },
     "execution_count": 37,
     "metadata": {},
     "output_type": "execute_result"
    },
    {
     "data": {
      "application/javascript": [
       "\n",
       "            setTimeout(function() {\n",
       "                var nbb_cell_id = 37;\n",
       "                var nbb_unformatted_code = \"# Best Penalty: l2 Best C: 1.0\\nlogistic = linear_model.LogisticRegression(\\n    solver=\\\"liblinear\\\", max_iter=1000, class_weight=\\\"balanced\\\", penalty=\\\"l2\\\"\\n)\\n\\nlogistic.fit(X_train, Y_train)\";\n",
       "                var nbb_formatted_code = \"# Best Penalty: l2 Best C: 1.0\\nlogistic = linear_model.LogisticRegression(\\n    solver=\\\"liblinear\\\", max_iter=1000, class_weight=\\\"balanced\\\", penalty=\\\"l2\\\"\\n)\\n\\nlogistic.fit(X_train, Y_train)\";\n",
       "                var nbb_cells = Jupyter.notebook.get_cells();\n",
       "                for (var i = 0; i < nbb_cells.length; ++i) {\n",
       "                    if (nbb_cells[i].input_prompt_number == nbb_cell_id) {\n",
       "                        if (nbb_cells[i].get_text() == nbb_unformatted_code) {\n",
       "                             nbb_cells[i].set_text(nbb_formatted_code);\n",
       "                        }\n",
       "                        break;\n",
       "                    }\n",
       "                }\n",
       "            }, 500);\n",
       "            "
      ],
      "text/plain": [
       "<IPython.core.display.Javascript object>"
      ]
     },
     "metadata": {},
     "output_type": "display_data"
    }
   ],
   "source": [
    "# Best Penalty: l2 Best C: 1.0\n",
    "logistic = linear_model.LogisticRegression(\n",
    "    solver=\"liblinear\", max_iter=1000, class_weight=\"balanced\", penalty=\"l2\"\n",
    ")\n",
    "\n",
    "logistic.fit(X_train, Y_train)"
   ]
  },
  {
   "cell_type": "code",
   "execution_count": 38,
   "metadata": {},
   "outputs": [
    {
     "data": {
      "application/javascript": [
       "\n",
       "            setTimeout(function() {\n",
       "                var nbb_cell_id = 38;\n",
       "                var nbb_unformatted_code = \"X_tester = X_test.iloc[\\n    0:,\\n]\";\n",
       "                var nbb_formatted_code = \"X_tester = X_test.iloc[\\n    0:,\\n]\";\n",
       "                var nbb_cells = Jupyter.notebook.get_cells();\n",
       "                for (var i = 0; i < nbb_cells.length; ++i) {\n",
       "                    if (nbb_cells[i].input_prompt_number == nbb_cell_id) {\n",
       "                        if (nbb_cells[i].get_text() == nbb_unformatted_code) {\n",
       "                             nbb_cells[i].set_text(nbb_formatted_code);\n",
       "                        }\n",
       "                        break;\n",
       "                    }\n",
       "                }\n",
       "            }, 500);\n",
       "            "
      ],
      "text/plain": [
       "<IPython.core.display.Javascript object>"
      ]
     },
     "metadata": {},
     "output_type": "display_data"
    }
   ],
   "source": [
    "X_tester = X_test.iloc[\n",
    "    0:,\n",
    "]"
   ]
  },
  {
   "cell_type": "code",
   "execution_count": 29,
   "metadata": {},
   "outputs": [
    {
     "data": {
      "text/html": [
       "<div>\n",
       "<style scoped>\n",
       "    .dataframe tbody tr th:only-of-type {\n",
       "        vertical-align: middle;\n",
       "    }\n",
       "\n",
       "    .dataframe tbody tr th {\n",
       "        vertical-align: top;\n",
       "    }\n",
       "\n",
       "    .dataframe thead th {\n",
       "        text-align: right;\n",
       "    }\n",
       "</style>\n",
       "<table border=\"1\" class=\"dataframe\">\n",
       "  <thead>\n",
       "    <tr style=\"text-align: right;\">\n",
       "      <th></th>\n",
       "      <th>Month1GamesPlayed</th>\n",
       "      <th>Month1Carpet</th>\n",
       "      <th>CumInjured</th>\n",
       "      <th>CumInjuredTimes</th>\n",
       "      <th>CumInjuredGames</th>\n",
       "      <th>Country_Argentina</th>\n",
       "      <th>Country_Australia</th>\n",
       "      <th>Country_Austria</th>\n",
       "      <th>Country_Belarus</th>\n",
       "      <th>Country_Brazil</th>\n",
       "      <th>...</th>\n",
       "      <th>Country_Romania</th>\n",
       "      <th>Country_Russia</th>\n",
       "      <th>Country_Serbia</th>\n",
       "      <th>Country_South Korea</th>\n",
       "      <th>Country_Sweden</th>\n",
       "      <th>Country_Switzerland</th>\n",
       "      <th>Country_Thailand</th>\n",
       "      <th>Country_Venezuela</th>\n",
       "      <th>Month1InjuredType_Severe</th>\n",
       "      <th>CumInjuredType_Moderate</th>\n",
       "    </tr>\n",
       "  </thead>\n",
       "  <tbody>\n",
       "    <tr>\n",
       "      <td>31</td>\n",
       "      <td>0.0</td>\n",
       "      <td>0</td>\n",
       "      <td>1</td>\n",
       "      <td>4</td>\n",
       "      <td>8267.0</td>\n",
       "      <td>0</td>\n",
       "      <td>1</td>\n",
       "      <td>0</td>\n",
       "      <td>0</td>\n",
       "      <td>0</td>\n",
       "      <td>...</td>\n",
       "      <td>0</td>\n",
       "      <td>0</td>\n",
       "      <td>0</td>\n",
       "      <td>0</td>\n",
       "      <td>0</td>\n",
       "      <td>0</td>\n",
       "      <td>0</td>\n",
       "      <td>0</td>\n",
       "      <td>0</td>\n",
       "      <td>0</td>\n",
       "    </tr>\n",
       "    <tr>\n",
       "      <td>32</td>\n",
       "      <td>189.0</td>\n",
       "      <td>0</td>\n",
       "      <td>1</td>\n",
       "      <td>4</td>\n",
       "      <td>8805.0</td>\n",
       "      <td>0</td>\n",
       "      <td>1</td>\n",
       "      <td>0</td>\n",
       "      <td>0</td>\n",
       "      <td>0</td>\n",
       "      <td>...</td>\n",
       "      <td>0</td>\n",
       "      <td>0</td>\n",
       "      <td>0</td>\n",
       "      <td>0</td>\n",
       "      <td>0</td>\n",
       "      <td>0</td>\n",
       "      <td>0</td>\n",
       "      <td>0</td>\n",
       "      <td>0</td>\n",
       "      <td>0</td>\n",
       "    </tr>\n",
       "    <tr>\n",
       "      <td>33</td>\n",
       "      <td>211.0</td>\n",
       "      <td>0</td>\n",
       "      <td>1</td>\n",
       "      <td>5</td>\n",
       "      <td>9506.0</td>\n",
       "      <td>0</td>\n",
       "      <td>1</td>\n",
       "      <td>0</td>\n",
       "      <td>0</td>\n",
       "      <td>0</td>\n",
       "      <td>...</td>\n",
       "      <td>0</td>\n",
       "      <td>0</td>\n",
       "      <td>0</td>\n",
       "      <td>0</td>\n",
       "      <td>0</td>\n",
       "      <td>0</td>\n",
       "      <td>0</td>\n",
       "      <td>0</td>\n",
       "      <td>0</td>\n",
       "      <td>0</td>\n",
       "    </tr>\n",
       "    <tr>\n",
       "      <td>34</td>\n",
       "      <td>296.0</td>\n",
       "      <td>0</td>\n",
       "      <td>1</td>\n",
       "      <td>5</td>\n",
       "      <td>10265.0</td>\n",
       "      <td>0</td>\n",
       "      <td>1</td>\n",
       "      <td>0</td>\n",
       "      <td>0</td>\n",
       "      <td>0</td>\n",
       "      <td>...</td>\n",
       "      <td>0</td>\n",
       "      <td>0</td>\n",
       "      <td>0</td>\n",
       "      <td>0</td>\n",
       "      <td>0</td>\n",
       "      <td>0</td>\n",
       "      <td>0</td>\n",
       "      <td>0</td>\n",
       "      <td>0</td>\n",
       "      <td>0</td>\n",
       "    </tr>\n",
       "    <tr>\n",
       "      <td>35</td>\n",
       "      <td>16.0</td>\n",
       "      <td>0</td>\n",
       "      <td>1</td>\n",
       "      <td>5</td>\n",
       "      <td>10411.0</td>\n",
       "      <td>0</td>\n",
       "      <td>1</td>\n",
       "      <td>0</td>\n",
       "      <td>0</td>\n",
       "      <td>0</td>\n",
       "      <td>...</td>\n",
       "      <td>0</td>\n",
       "      <td>0</td>\n",
       "      <td>0</td>\n",
       "      <td>0</td>\n",
       "      <td>0</td>\n",
       "      <td>0</td>\n",
       "      <td>0</td>\n",
       "      <td>0</td>\n",
       "      <td>0</td>\n",
       "      <td>0</td>\n",
       "    </tr>\n",
       "    <tr>\n",
       "      <td>...</td>\n",
       "      <td>...</td>\n",
       "      <td>...</td>\n",
       "      <td>...</td>\n",
       "      <td>...</td>\n",
       "      <td>...</td>\n",
       "      <td>...</td>\n",
       "      <td>...</td>\n",
       "      <td>...</td>\n",
       "      <td>...</td>\n",
       "      <td>...</td>\n",
       "      <td>...</td>\n",
       "      <td>...</td>\n",
       "      <td>...</td>\n",
       "      <td>...</td>\n",
       "      <td>...</td>\n",
       "      <td>...</td>\n",
       "      <td>...</td>\n",
       "      <td>...</td>\n",
       "      <td>...</td>\n",
       "      <td>...</td>\n",
       "      <td>...</td>\n",
       "    </tr>\n",
       "    <tr>\n",
       "      <td>16342</td>\n",
       "      <td>0.0</td>\n",
       "      <td>0</td>\n",
       "      <td>1</td>\n",
       "      <td>1</td>\n",
       "      <td>2271.0</td>\n",
       "      <td>0</td>\n",
       "      <td>0</td>\n",
       "      <td>0</td>\n",
       "      <td>0</td>\n",
       "      <td>0</td>\n",
       "      <td>...</td>\n",
       "      <td>0</td>\n",
       "      <td>0</td>\n",
       "      <td>0</td>\n",
       "      <td>0</td>\n",
       "      <td>0</td>\n",
       "      <td>0</td>\n",
       "      <td>0</td>\n",
       "      <td>0</td>\n",
       "      <td>0</td>\n",
       "      <td>0</td>\n",
       "    </tr>\n",
       "    <tr>\n",
       "      <td>16343</td>\n",
       "      <td>0.0</td>\n",
       "      <td>0</td>\n",
       "      <td>1</td>\n",
       "      <td>1</td>\n",
       "      <td>2271.0</td>\n",
       "      <td>0</td>\n",
       "      <td>0</td>\n",
       "      <td>0</td>\n",
       "      <td>0</td>\n",
       "      <td>0</td>\n",
       "      <td>...</td>\n",
       "      <td>0</td>\n",
       "      <td>0</td>\n",
       "      <td>0</td>\n",
       "      <td>0</td>\n",
       "      <td>0</td>\n",
       "      <td>0</td>\n",
       "      <td>0</td>\n",
       "      <td>0</td>\n",
       "      <td>0</td>\n",
       "      <td>0</td>\n",
       "    </tr>\n",
       "    <tr>\n",
       "      <td>16344</td>\n",
       "      <td>0.0</td>\n",
       "      <td>0</td>\n",
       "      <td>1</td>\n",
       "      <td>1</td>\n",
       "      <td>2271.0</td>\n",
       "      <td>0</td>\n",
       "      <td>0</td>\n",
       "      <td>0</td>\n",
       "      <td>0</td>\n",
       "      <td>0</td>\n",
       "      <td>...</td>\n",
       "      <td>0</td>\n",
       "      <td>0</td>\n",
       "      <td>0</td>\n",
       "      <td>0</td>\n",
       "      <td>0</td>\n",
       "      <td>0</td>\n",
       "      <td>0</td>\n",
       "      <td>0</td>\n",
       "      <td>0</td>\n",
       "      <td>0</td>\n",
       "    </tr>\n",
       "    <tr>\n",
       "      <td>16345</td>\n",
       "      <td>0.0</td>\n",
       "      <td>0</td>\n",
       "      <td>1</td>\n",
       "      <td>1</td>\n",
       "      <td>2271.0</td>\n",
       "      <td>0</td>\n",
       "      <td>0</td>\n",
       "      <td>0</td>\n",
       "      <td>0</td>\n",
       "      <td>0</td>\n",
       "      <td>...</td>\n",
       "      <td>0</td>\n",
       "      <td>0</td>\n",
       "      <td>0</td>\n",
       "      <td>0</td>\n",
       "      <td>0</td>\n",
       "      <td>0</td>\n",
       "      <td>0</td>\n",
       "      <td>0</td>\n",
       "      <td>0</td>\n",
       "      <td>0</td>\n",
       "    </tr>\n",
       "    <tr>\n",
       "      <td>16346</td>\n",
       "      <td>0.0</td>\n",
       "      <td>0</td>\n",
       "      <td>1</td>\n",
       "      <td>1</td>\n",
       "      <td>2271.0</td>\n",
       "      <td>0</td>\n",
       "      <td>0</td>\n",
       "      <td>0</td>\n",
       "      <td>0</td>\n",
       "      <td>0</td>\n",
       "      <td>...</td>\n",
       "      <td>0</td>\n",
       "      <td>0</td>\n",
       "      <td>0</td>\n",
       "      <td>0</td>\n",
       "      <td>0</td>\n",
       "      <td>0</td>\n",
       "      <td>0</td>\n",
       "      <td>0</td>\n",
       "      <td>0</td>\n",
       "      <td>0</td>\n",
       "    </tr>\n",
       "  </tbody>\n",
       "</table>\n",
       "<p>2194 rows × 26 columns</p>\n",
       "</div>"
      ],
      "text/plain": [
       "       Month1GamesPlayed  Month1Carpet  CumInjured  CumInjuredTimes  \\\n",
       "31                   0.0             0           1                4   \n",
       "32                 189.0             0           1                4   \n",
       "33                 211.0             0           1                5   \n",
       "34                 296.0             0           1                5   \n",
       "35                  16.0             0           1                5   \n",
       "...                  ...           ...         ...              ...   \n",
       "16342                0.0             0           1                1   \n",
       "16343                0.0             0           1                1   \n",
       "16344                0.0             0           1                1   \n",
       "16345                0.0             0           1                1   \n",
       "16346                0.0             0           1                1   \n",
       "\n",
       "       CumInjuredGames  Country_Argentina  Country_Australia  Country_Austria  \\\n",
       "31              8267.0                  0                  1                0   \n",
       "32              8805.0                  0                  1                0   \n",
       "33              9506.0                  0                  1                0   \n",
       "34             10265.0                  0                  1                0   \n",
       "35             10411.0                  0                  1                0   \n",
       "...                ...                ...                ...              ...   \n",
       "16342           2271.0                  0                  0                0   \n",
       "16343           2271.0                  0                  0                0   \n",
       "16344           2271.0                  0                  0                0   \n",
       "16345           2271.0                  0                  0                0   \n",
       "16346           2271.0                  0                  0                0   \n",
       "\n",
       "       Country_Belarus  Country_Brazil  ...  Country_Romania  Country_Russia  \\\n",
       "31                   0               0  ...                0               0   \n",
       "32                   0               0  ...                0               0   \n",
       "33                   0               0  ...                0               0   \n",
       "34                   0               0  ...                0               0   \n",
       "35                   0               0  ...                0               0   \n",
       "...                ...             ...  ...              ...             ...   \n",
       "16342                0               0  ...                0               0   \n",
       "16343                0               0  ...                0               0   \n",
       "16344                0               0  ...                0               0   \n",
       "16345                0               0  ...                0               0   \n",
       "16346                0               0  ...                0               0   \n",
       "\n",
       "       Country_Serbia  Country_South Korea  Country_Sweden  \\\n",
       "31                  0                    0               0   \n",
       "32                  0                    0               0   \n",
       "33                  0                    0               0   \n",
       "34                  0                    0               0   \n",
       "35                  0                    0               0   \n",
       "...               ...                  ...             ...   \n",
       "16342               0                    0               0   \n",
       "16343               0                    0               0   \n",
       "16344               0                    0               0   \n",
       "16345               0                    0               0   \n",
       "16346               0                    0               0   \n",
       "\n",
       "       Country_Switzerland  Country_Thailand  Country_Venezuela  \\\n",
       "31                       0                 0                  0   \n",
       "32                       0                 0                  0   \n",
       "33                       0                 0                  0   \n",
       "34                       0                 0                  0   \n",
       "35                       0                 0                  0   \n",
       "...                    ...               ...                ...   \n",
       "16342                    0                 0                  0   \n",
       "16343                    0                 0                  0   \n",
       "16344                    0                 0                  0   \n",
       "16345                    0                 0                  0   \n",
       "16346                    0                 0                  0   \n",
       "\n",
       "       Month1InjuredType_Severe  CumInjuredType_Moderate  \n",
       "31                            0                        0  \n",
       "32                            0                        0  \n",
       "33                            0                        0  \n",
       "34                            0                        0  \n",
       "35                            0                        0  \n",
       "...                         ...                      ...  \n",
       "16342                         0                        0  \n",
       "16343                         0                        0  \n",
       "16344                         0                        0  \n",
       "16345                         0                        0  \n",
       "16346                         0                        0  \n",
       "\n",
       "[2194 rows x 26 columns]"
      ]
     },
     "execution_count": 29,
     "metadata": {},
     "output_type": "execute_result"
    },
    {
     "data": {
      "application/javascript": [
       "\n",
       "            setTimeout(function() {\n",
       "                var nbb_cell_id = 29;\n",
       "                var nbb_unformatted_code = \"X_tester\";\n",
       "                var nbb_formatted_code = \"X_tester\";\n",
       "                var nbb_cells = Jupyter.notebook.get_cells();\n",
       "                for (var i = 0; i < nbb_cells.length; ++i) {\n",
       "                    if (nbb_cells[i].input_prompt_number == nbb_cell_id) {\n",
       "                        if (nbb_cells[i].get_text() == nbb_unformatted_code) {\n",
       "                             nbb_cells[i].set_text(nbb_formatted_code);\n",
       "                        }\n",
       "                        break;\n",
       "                    }\n",
       "                }\n",
       "            }, 500);\n",
       "            "
      ],
      "text/plain": [
       "<IPython.core.display.Javascript object>"
      ]
     },
     "metadata": {},
     "output_type": "display_data"
    }
   ],
   "source": [
    "X_tester"
   ]
  },
  {
   "cell_type": "code",
   "execution_count": 30,
   "metadata": {},
   "outputs": [
    {
     "data": {
      "text/plain": [
       "array([0, 1, 1, ..., 0, 0, 0])"
      ]
     },
     "execution_count": 30,
     "metadata": {},
     "output_type": "execute_result"
    },
    {
     "data": {
      "application/javascript": [
       "\n",
       "            setTimeout(function() {\n",
       "                var nbb_cell_id = 30;\n",
       "                var nbb_unformatted_code = \"logistic.predict(X_tester)\";\n",
       "                var nbb_formatted_code = \"logistic.predict(X_tester)\";\n",
       "                var nbb_cells = Jupyter.notebook.get_cells();\n",
       "                for (var i = 0; i < nbb_cells.length; ++i) {\n",
       "                    if (nbb_cells[i].input_prompt_number == nbb_cell_id) {\n",
       "                        if (nbb_cells[i].get_text() == nbb_unformatted_code) {\n",
       "                             nbb_cells[i].set_text(nbb_formatted_code);\n",
       "                        }\n",
       "                        break;\n",
       "                    }\n",
       "                }\n",
       "            }, 500);\n",
       "            "
      ],
      "text/plain": [
       "<IPython.core.display.Javascript object>"
      ]
     },
     "metadata": {},
     "output_type": "display_data"
    }
   ],
   "source": [
    "logistic.predict(X_tester)"
   ]
  },
  {
   "cell_type": "code",
   "execution_count": 31,
   "metadata": {},
   "outputs": [
    {
     "ename": "NameError",
     "evalue": "name 'pickle' is not defined",
     "output_type": "error",
     "traceback": [
      "\u001b[0;31m---------------------------------------------------------------------------\u001b[0m",
      "\u001b[0;31mNameError\u001b[0m                                 Traceback (most recent call last)",
      "\u001b[0;32m<ipython-input-31-a32d442c28bf>\u001b[0m in \u001b[0;36m<module>\u001b[0;34m\u001b[0m\n\u001b[1;32m      1\u001b[0m \u001b[0mfilename\u001b[0m \u001b[0;34m=\u001b[0m \u001b[0;34m'logistic_model.sav'\u001b[0m\u001b[0;34m\u001b[0m\u001b[0;34m\u001b[0m\u001b[0m\n\u001b[0;32m----> 2\u001b[0;31m \u001b[0mpickle\u001b[0m\u001b[0;34m.\u001b[0m\u001b[0mdump\u001b[0m\u001b[0;34m(\u001b[0m\u001b[0mlogistic\u001b[0m\u001b[0;34m,\u001b[0m \u001b[0mopen\u001b[0m\u001b[0;34m(\u001b[0m\u001b[0mfilename\u001b[0m\u001b[0;34m,\u001b[0m \u001b[0;34m'wb'\u001b[0m\u001b[0;34m)\u001b[0m\u001b[0;34m)\u001b[0m\u001b[0;34m\u001b[0m\u001b[0;34m\u001b[0m\u001b[0m\n\u001b[0m",
      "\u001b[0;31mNameError\u001b[0m: name 'pickle' is not defined"
     ]
    },
    {
     "data": {
      "application/javascript": [
       "\n",
       "            setTimeout(function() {\n",
       "                var nbb_cell_id = 31;\n",
       "                var nbb_unformatted_code = \"filename = 'logistic_model.sav'\\npickle.dump(logistic, open(filename, 'wb'))\";\n",
       "                var nbb_formatted_code = \"filename = \\\"logistic_model.sav\\\"\\npickle.dump(logistic, open(filename, \\\"wb\\\"))\";\n",
       "                var nbb_cells = Jupyter.notebook.get_cells();\n",
       "                for (var i = 0; i < nbb_cells.length; ++i) {\n",
       "                    if (nbb_cells[i].input_prompt_number == nbb_cell_id) {\n",
       "                        if (nbb_cells[i].get_text() == nbb_unformatted_code) {\n",
       "                             nbb_cells[i].set_text(nbb_formatted_code);\n",
       "                        }\n",
       "                        break;\n",
       "                    }\n",
       "                }\n",
       "            }, 500);\n",
       "            "
      ],
      "text/plain": [
       "<IPython.core.display.Javascript object>"
      ]
     },
     "metadata": {},
     "output_type": "display_data"
    }
   ],
   "source": [
    "filename = \"logistic_model.sav\"\n",
    "pickle.dump(logistic, open(filename, \"wb\"))"
   ]
  },
  {
   "cell_type": "code",
   "execution_count": 39,
   "metadata": {},
   "outputs": [
    {
     "name": "stdout",
     "output_type": "stream",
     "text": [
      "Month1GamesPlayed             97.512333\n",
      "Month1Carpet                   0.414798\n",
      "CumInjured                     0.478958\n",
      "CumInjuredTimes                3.324430\n",
      "CumInjuredGames             3747.207088\n",
      "Country_Argentina              0.111580\n",
      "Country_Australia              0.204882\n",
      "Country_Austria                0.115169\n",
      "Country_Belarus                0.115169\n",
      "Country_Brazil                 0.084641\n",
      "Country_Colombia               0.060894\n",
      "Country_Egypt                  0.048468\n",
      "Country_Estonia                0.069011\n",
      "Country_Israel                 0.065658\n",
      "Country_Kazakhstan             0.101479\n",
      "Country_Latvia                 0.065082\n",
      "Country_Romania                0.187995\n",
      "Country_Russia                 0.289007\n",
      "Country_Serbia                 0.144026\n",
      "Country_South Korea            0.080093\n",
      "Country_Sweden                 0.093054\n",
      "Country_Switzerland            0.142757\n",
      "Country_Thailand               0.079623\n",
      "Country_Venezuela              0.049242\n",
      "Month1InjuredType_Severe       0.105078\n",
      "CumInjuredType_Moderate        0.414487\n",
      "dtype: float64\n"
     ]
    },
    {
     "data": {
      "application/javascript": [
       "\n",
       "            setTimeout(function() {\n",
       "                var nbb_cell_id = 39;\n",
       "                var nbb_unformatted_code = \"coeff_list = logistic.coef_\\ncoeff_list\\n# Absolute or Square\\n# Standardized B coefficients\\nx = np.std(X_train, 0)\\nprint(np.std(X_train, 0))\";\n",
       "                var nbb_formatted_code = \"coeff_list = logistic.coef_\\ncoeff_list\\n# Absolute or Square\\n# Standardized B coefficients\\nx = np.std(X_train, 0)\\nprint(np.std(X_train, 0))\";\n",
       "                var nbb_cells = Jupyter.notebook.get_cells();\n",
       "                for (var i = 0; i < nbb_cells.length; ++i) {\n",
       "                    if (nbb_cells[i].input_prompt_number == nbb_cell_id) {\n",
       "                        if (nbb_cells[i].get_text() == nbb_unformatted_code) {\n",
       "                             nbb_cells[i].set_text(nbb_formatted_code);\n",
       "                        }\n",
       "                        break;\n",
       "                    }\n",
       "                }\n",
       "            }, 500);\n",
       "            "
      ],
      "text/plain": [
       "<IPython.core.display.Javascript object>"
      ]
     },
     "metadata": {},
     "output_type": "display_data"
    }
   ],
   "source": [
    "coeff_list = logistic.coef_\n",
    "coeff_list\n",
    "# Absolute or Square\n",
    "# Standardized B coefficients\n",
    "x = np.std(X_train, 0)\n",
    "print(np.std(X_train, 0))"
   ]
  },
  {
   "cell_type": "code",
   "execution_count": 40,
   "metadata": {},
   "outputs": [
    {
     "data": {
      "text/plain": [
       "array([], shape=(0, 26), dtype=float64)"
      ]
     },
     "execution_count": 40,
     "metadata": {},
     "output_type": "execute_result"
    },
    {
     "data": {
      "application/javascript": [
       "\n",
       "            setTimeout(function() {\n",
       "                var nbb_cell_id = 40;\n",
       "                var nbb_unformatted_code = \"x[0] * coeff_list[0:0]\";\n",
       "                var nbb_formatted_code = \"x[0] * coeff_list[0:0]\";\n",
       "                var nbb_cells = Jupyter.notebook.get_cells();\n",
       "                for (var i = 0; i < nbb_cells.length; ++i) {\n",
       "                    if (nbb_cells[i].input_prompt_number == nbb_cell_id) {\n",
       "                        if (nbb_cells[i].get_text() == nbb_unformatted_code) {\n",
       "                             nbb_cells[i].set_text(nbb_formatted_code);\n",
       "                        }\n",
       "                        break;\n",
       "                    }\n",
       "                }\n",
       "            }, 500);\n",
       "            "
      ],
      "text/plain": [
       "<IPython.core.display.Javascript object>"
      ]
     },
     "metadata": {},
     "output_type": "display_data"
    }
   ],
   "source": [
    "x[0] * coeff_list[0:0]"
   ]
  },
  {
   "cell_type": "code",
   "execution_count": 41,
   "metadata": {},
   "outputs": [
    {
     "name": "stdout",
     "output_type": "stream",
     "text": [
      "1\n",
      "<class 'numpy.ndarray'>\n",
      "26\n",
      "<class 'pandas.core.indexes.base.Index'>\n"
     ]
    },
    {
     "ename": "ValueError",
     "evalue": "cannot reshape array of size 26 into shape (25,1)",
     "output_type": "error",
     "traceback": [
      "\u001b[0;31m---------------------------------------------------------------------------\u001b[0m",
      "\u001b[0;31mValueError\u001b[0m                                Traceback (most recent call last)",
      "\u001b[0;32m<ipython-input-41-c5e5a01ce12d>\u001b[0m in \u001b[0;36m<module>\u001b[0;34m\u001b[0m\n\u001b[1;32m      6\u001b[0m \u001b[0;34m\u001b[0m\u001b[0m\n\u001b[1;32m      7\u001b[0m \u001b[0;31m#coeff_list[10:] == shape 0,25\u001b[0m\u001b[0;34m\u001b[0m\u001b[0;34m\u001b[0m\u001b[0;34m\u001b[0m\u001b[0m\n\u001b[0;32m----> 8\u001b[0;31m \u001b[0mcoeff_list\u001b[0m\u001b[0;34m.\u001b[0m\u001b[0mshape\u001b[0m \u001b[0;34m=\u001b[0m \u001b[0;34m(\u001b[0m\u001b[0;36m25\u001b[0m\u001b[0;34m,\u001b[0m\u001b[0;36m1\u001b[0m\u001b[0;34m)\u001b[0m\u001b[0;34m\u001b[0m\u001b[0;34m\u001b[0m\u001b[0m\n\u001b[0m\u001b[1;32m      9\u001b[0m \u001b[0;34m\u001b[0m\u001b[0m\n\u001b[1;32m     10\u001b[0m \u001b[0;34m\u001b[0m\u001b[0m\n",
      "\u001b[0;31mValueError\u001b[0m: cannot reshape array of size 26 into shape (25,1)"
     ]
    },
    {
     "data": {
      "application/javascript": [
       "\n",
       "            setTimeout(function() {\n",
       "                var nbb_cell_id = 41;\n",
       "                var nbb_unformatted_code = \"print(len(coeff_list))\\nprint(type(coeff_list))\\n\\nprint(len(X_train.columns))\\nprint(type(X_train.columns))\\n\\n#coeff_list[10:] == shape 0,25\\ncoeff_list.shape = (25,1)\";\n",
       "                var nbb_formatted_code = \"print(len(coeff_list))\\nprint(type(coeff_list))\\n\\nprint(len(X_train.columns))\\nprint(type(X_train.columns))\\n\\n# coeff_list[10:] == shape 0,25\\ncoeff_list.shape = (25, 1)\";\n",
       "                var nbb_cells = Jupyter.notebook.get_cells();\n",
       "                for (var i = 0; i < nbb_cells.length; ++i) {\n",
       "                    if (nbb_cells[i].input_prompt_number == nbb_cell_id) {\n",
       "                        if (nbb_cells[i].get_text() == nbb_unformatted_code) {\n",
       "                             nbb_cells[i].set_text(nbb_formatted_code);\n",
       "                        }\n",
       "                        break;\n",
       "                    }\n",
       "                }\n",
       "            }, 500);\n",
       "            "
      ],
      "text/plain": [
       "<IPython.core.display.Javascript object>"
      ]
     },
     "metadata": {},
     "output_type": "display_data"
    }
   ],
   "source": [
    "print(len(coeff_list))\n",
    "print(type(coeff_list))\n",
    "\n",
    "print(len(X_train.columns))\n",
    "print(type(X_train.columns))\n",
    "\n",
    "#coeff_list[10:] == shape 0,25\n",
    "coeff_list.shape = (25,1)\n",
    "\n",
    "\n",
    "\n"
   ]
  },
  {
   "cell_type": "code",
   "execution_count": 42,
   "metadata": {},
   "outputs": [
    {
     "data": {
      "text/plain": [
       "Index(['Month1GamesPlayed', 'Month1Carpet', 'CumInjured', 'CumInjuredTimes',\n",
       "       'CumInjuredGames', 'Country_Argentina', 'Country_Australia',\n",
       "       'Country_Austria', 'Country_Belarus', 'Country_Brazil',\n",
       "       'Country_Colombia', 'Country_Egypt', 'Country_Estonia',\n",
       "       'Country_Israel', 'Country_Kazakhstan', 'Country_Latvia',\n",
       "       'Country_Romania', 'Country_Russia', 'Country_Serbia',\n",
       "       'Country_South Korea', 'Country_Sweden', 'Country_Switzerland',\n",
       "       'Country_Thailand', 'Country_Venezuela', 'Month1InjuredType_Severe',\n",
       "       'CumInjuredType_Moderate'],\n",
       "      dtype='object')"
      ]
     },
     "execution_count": 42,
     "metadata": {},
     "output_type": "execute_result"
    },
    {
     "data": {
      "application/javascript": [
       "\n",
       "            setTimeout(function() {\n",
       "                var nbb_cell_id = 42;\n",
       "                var nbb_unformatted_code = \"X_train.columns\";\n",
       "                var nbb_formatted_code = \"X_train.columns\";\n",
       "                var nbb_cells = Jupyter.notebook.get_cells();\n",
       "                for (var i = 0; i < nbb_cells.length; ++i) {\n",
       "                    if (nbb_cells[i].input_prompt_number == nbb_cell_id) {\n",
       "                        if (nbb_cells[i].get_text() == nbb_unformatted_code) {\n",
       "                             nbb_cells[i].set_text(nbb_formatted_code);\n",
       "                        }\n",
       "                        break;\n",
       "                    }\n",
       "                }\n",
       "            }, 500);\n",
       "            "
      ],
      "text/plain": [
       "<IPython.core.display.Javascript object>"
      ]
     },
     "metadata": {},
     "output_type": "display_data"
    }
   ],
   "source": [
    "X_train.columns"
   ]
  },
  {
   "cell_type": "code",
   "execution_count": 43,
   "metadata": {},
   "outputs": [
    {
     "name": "stdout",
     "output_type": "stream",
     "text": [
      "[0.001805080413358999, -0.1572769040388151, 0.6511616686803923, 0.10670978132118113, -5.7995937368536574e-05, 0.12780949020795246, 0.01858666490827254, 0.12163143899655078, 0.09641004291199745, -0.0808435450835756, -0.10540492277765569, -0.11847205760060109, -0.01067028033410488, -0.13049244089238063, 0.11126849203297087, 0.05512145826310445, 0.3597012673344866, 0.19641564515196355, -0.1904003017654783, -0.31296803649912763, -0.19724370137196598, 0.29954249541900485, -0.08583616281059572, -0.1875439590141722, -0.23386918123934514, 0.06006079447764746]\n"
     ]
    },
    {
     "data": {
      "application/javascript": [
       "\n",
       "            setTimeout(function() {\n",
       "                var nbb_cell_id = 43;\n",
       "                var nbb_unformatted_code = \"#coeff_list = coeff_list.flatten\\n\\nflat_list = [item for sublist in coeff_list for item in sublist]\\nprint(flat_list)\";\n",
       "                var nbb_formatted_code = \"# coeff_list = coeff_list.flatten\\n\\nflat_list = [item for sublist in coeff_list for item in sublist]\\nprint(flat_list)\";\n",
       "                var nbb_cells = Jupyter.notebook.get_cells();\n",
       "                for (var i = 0; i < nbb_cells.length; ++i) {\n",
       "                    if (nbb_cells[i].input_prompt_number == nbb_cell_id) {\n",
       "                        if (nbb_cells[i].get_text() == nbb_unformatted_code) {\n",
       "                             nbb_cells[i].set_text(nbb_formatted_code);\n",
       "                        }\n",
       "                        break;\n",
       "                    }\n",
       "                }\n",
       "            }, 500);\n",
       "            "
      ],
      "text/plain": [
       "<IPython.core.display.Javascript object>"
      ]
     },
     "metadata": {},
     "output_type": "display_data"
    }
   ],
   "source": [
    "# coeff_list = coeff_list.flatten\n",
    "\n",
    "flat_list = [item for sublist in coeff_list for item in sublist]\n",
    "print(flat_list)"
   ]
  },
  {
   "cell_type": "code",
   "execution_count": 56,
   "metadata": {},
   "outputs": [],
   "source": [
    "data = {'Var':X_train.columns,\n",
    "        'Coeff':flat_list,\n",
    "       'NP': x}\n",
    "\n",
    "coeff_df = pd.DataFrame(data)"
   ]
  },
  {
   "cell_type": "code",
   "execution_count": 44,
   "metadata": {},
   "outputs": [
    {
     "ename": "NameError",
     "evalue": "name 'coeff_df' is not defined",
     "output_type": "error",
     "traceback": [
      "\u001b[0;31m---------------------------------------------------------------------------\u001b[0m",
      "\u001b[0;31mNameError\u001b[0m                                 Traceback (most recent call last)",
      "\u001b[0;32m<ipython-input-44-eb0706878162>\u001b[0m in \u001b[0;36m<module>\u001b[0;34m\u001b[0m\n\u001b[0;32m----> 1\u001b[0;31m \u001b[0mcoeff_df\u001b[0m\u001b[0;34m.\u001b[0m\u001b[0mhead\u001b[0m\u001b[0;34m(\u001b[0m\u001b[0;34m)\u001b[0m\u001b[0;34m\u001b[0m\u001b[0;34m\u001b[0m\u001b[0m\n\u001b[0m",
      "\u001b[0;31mNameError\u001b[0m: name 'coeff_df' is not defined"
     ]
    },
    {
     "data": {
      "application/javascript": [
       "\n",
       "            setTimeout(function() {\n",
       "                var nbb_cell_id = 44;\n",
       "                var nbb_unformatted_code = \"coeff_df.head()\";\n",
       "                var nbb_formatted_code = \"coeff_df.head()\";\n",
       "                var nbb_cells = Jupyter.notebook.get_cells();\n",
       "                for (var i = 0; i < nbb_cells.length; ++i) {\n",
       "                    if (nbb_cells[i].input_prompt_number == nbb_cell_id) {\n",
       "                        if (nbb_cells[i].get_text() == nbb_unformatted_code) {\n",
       "                             nbb_cells[i].set_text(nbb_formatted_code);\n",
       "                        }\n",
       "                        break;\n",
       "                    }\n",
       "                }\n",
       "            }, 500);\n",
       "            "
      ],
      "text/plain": [
       "<IPython.core.display.Javascript object>"
      ]
     },
     "metadata": {},
     "output_type": "display_data"
    }
   ],
   "source": [
    "coeff_df.head()"
   ]
  },
  {
   "cell_type": "code",
   "execution_count": 45,
   "metadata": {},
   "outputs": [
    {
     "ename": "NameError",
     "evalue": "name 'coeff_df' is not defined",
     "output_type": "error",
     "traceback": [
      "\u001b[0;31m---------------------------------------------------------------------------\u001b[0m",
      "\u001b[0;31mNameError\u001b[0m                                 Traceback (most recent call last)",
      "\u001b[0;32m<ipython-input-45-724da27c3a41>\u001b[0m in \u001b[0;36m<module>\u001b[0;34m\u001b[0m\n\u001b[1;32m     11\u001b[0m \u001b[0;34m\u001b[0m\u001b[0m\n\u001b[1;32m     12\u001b[0m \u001b[0;34m\u001b[0m\u001b[0m\n\u001b[0;32m---> 13\u001b[0;31m \u001b[0mcoeff_df\u001b[0m\u001b[0;34m[\u001b[0m\u001b[0;34m'Mean'\u001b[0m\u001b[0;34m]\u001b[0m \u001b[0;34m=\u001b[0m  \u001b[0md_mean\u001b[0m\u001b[0;34m\u001b[0m\u001b[0;34m\u001b[0m\u001b[0m\n\u001b[0m\u001b[1;32m     14\u001b[0m \u001b[0mcoeff_df\u001b[0m\u001b[0;34m[\u001b[0m\u001b[0;34m'Std'\u001b[0m\u001b[0;34m]\u001b[0m \u001b[0;34m=\u001b[0m  \u001b[0md_std\u001b[0m\u001b[0;34m\u001b[0m\u001b[0;34m\u001b[0m\u001b[0m\n",
      "\u001b[0;31mNameError\u001b[0m: name 'coeff_df' is not defined"
     ]
    },
    {
     "data": {
      "application/javascript": [
       "\n",
       "            setTimeout(function() {\n",
       "                var nbb_cell_id = 45;\n",
       "                var nbb_unformatted_code = \"# B standardizing the coefficients \\n# (B - sd)/mean\\nd_mean  = []\\nd_std = []\\nfor column in X_train.columns:\\n    mean = X_train[column].mean()\\n    d_mean.append(mean)\\n    std = X_train[column].std()\\n    d_std.append(std)\\n    \\n\\n    \\ncoeff_df['Mean'] =  d_mean   \\ncoeff_df['Std'] =  d_std  \";\n",
       "                var nbb_formatted_code = \"# B standardizing the coefficients\\n# (B - sd)/mean\\nd_mean = []\\nd_std = []\\nfor column in X_train.columns:\\n    mean = X_train[column].mean()\\n    d_mean.append(mean)\\n    std = X_train[column].std()\\n    d_std.append(std)\\n\\n\\ncoeff_df[\\\"Mean\\\"] = d_mean\\ncoeff_df[\\\"Std\\\"] = d_std\";\n",
       "                var nbb_cells = Jupyter.notebook.get_cells();\n",
       "                for (var i = 0; i < nbb_cells.length; ++i) {\n",
       "                    if (nbb_cells[i].input_prompt_number == nbb_cell_id) {\n",
       "                        if (nbb_cells[i].get_text() == nbb_unformatted_code) {\n",
       "                             nbb_cells[i].set_text(nbb_formatted_code);\n",
       "                        }\n",
       "                        break;\n",
       "                    }\n",
       "                }\n",
       "            }, 500);\n",
       "            "
      ],
      "text/plain": [
       "<IPython.core.display.Javascript object>"
      ]
     },
     "metadata": {},
     "output_type": "display_data"
    }
   ],
   "source": [
    "# B standardizing the coefficients\n",
    "# (B - sd)/mean\n",
    "d_mean = []\n",
    "d_std = []\n",
    "for column in X_train.columns:\n",
    "    mean = X_train[column].mean()\n",
    "    d_mean.append(mean)\n",
    "    std = X_train[column].std()\n",
    "    d_std.append(std)\n",
    "\n",
    "\n",
    "coeff_df[\"Mean\"] = d_mean\n",
    "coeff_df[\"Std\"] = d_std"
   ]
  },
  {
   "cell_type": "code",
   "execution_count": 46,
   "metadata": {},
   "outputs": [
    {
     "ename": "NameError",
     "evalue": "name 'coeff_df' is not defined",
     "output_type": "error",
     "traceback": [
      "\u001b[0;31m---------------------------------------------------------------------------\u001b[0m",
      "\u001b[0;31mNameError\u001b[0m                                 Traceback (most recent call last)",
      "\u001b[0;32m<ipython-input-46-5f6a81a067d0>\u001b[0m in \u001b[0;36m<module>\u001b[0;34m\u001b[0m\n\u001b[0;32m----> 1\u001b[0;31m \u001b[0mcoeff_df\u001b[0m\u001b[0;34m.\u001b[0m\u001b[0mhead\u001b[0m\u001b[0;34m(\u001b[0m\u001b[0;36m12\u001b[0m\u001b[0;34m)\u001b[0m\u001b[0;34m\u001b[0m\u001b[0;34m\u001b[0m\u001b[0m\n\u001b[0m",
      "\u001b[0;31mNameError\u001b[0m: name 'coeff_df' is not defined"
     ]
    },
    {
     "data": {
      "application/javascript": [
       "\n",
       "            setTimeout(function() {\n",
       "                var nbb_cell_id = 46;\n",
       "                var nbb_unformatted_code = \"coeff_df.head(12)\";\n",
       "                var nbb_formatted_code = \"coeff_df.head(12)\";\n",
       "                var nbb_cells = Jupyter.notebook.get_cells();\n",
       "                for (var i = 0; i < nbb_cells.length; ++i) {\n",
       "                    if (nbb_cells[i].input_prompt_number == nbb_cell_id) {\n",
       "                        if (nbb_cells[i].get_text() == nbb_unformatted_code) {\n",
       "                             nbb_cells[i].set_text(nbb_formatted_code);\n",
       "                        }\n",
       "                        break;\n",
       "                    }\n",
       "                }\n",
       "            }, 500);\n",
       "            "
      ],
      "text/plain": [
       "<IPython.core.display.Javascript object>"
      ]
     },
     "metadata": {},
     "output_type": "display_data"
    }
   ],
   "source": [
    "coeff_df.head(12)"
   ]
  },
  {
   "cell_type": "code",
   "execution_count": 47,
   "metadata": {},
   "outputs": [
    {
     "ename": "NameError",
     "evalue": "name 'coeff_df' is not defined",
     "output_type": "error",
     "traceback": [
      "\u001b[0;31m---------------------------------------------------------------------------\u001b[0m",
      "\u001b[0;31mNameError\u001b[0m                                 Traceback (most recent call last)",
      "\u001b[0;32m<ipython-input-47-1209e526cd00>\u001b[0m in \u001b[0;36m<module>\u001b[0;34m\u001b[0m\n\u001b[0;32m----> 1\u001b[0;31m \u001b[0mcoeff_df\u001b[0m\u001b[0;34m[\u001b[0m\u001b[0;34m'Standardized_B'\u001b[0m\u001b[0;34m]\u001b[0m \u001b[0;34m=\u001b[0m \u001b[0;34m(\u001b[0m\u001b[0mcoeff_df\u001b[0m\u001b[0;34m[\u001b[0m\u001b[0;34m'Coeff'\u001b[0m\u001b[0;34m]\u001b[0m \u001b[0;34m-\u001b[0m \u001b[0mcoeff_df\u001b[0m\u001b[0;34m[\u001b[0m\u001b[0;34m'Std'\u001b[0m\u001b[0;34m]\u001b[0m\u001b[0;34m)\u001b[0m\u001b[0;34m/\u001b[0m\u001b[0mcoeff_df\u001b[0m\u001b[0;34m[\u001b[0m\u001b[0;34m'Mean'\u001b[0m\u001b[0;34m]\u001b[0m\u001b[0;34m\u001b[0m\u001b[0;34m\u001b[0m\u001b[0m\n\u001b[0m",
      "\u001b[0;31mNameError\u001b[0m: name 'coeff_df' is not defined"
     ]
    },
    {
     "data": {
      "application/javascript": [
       "\n",
       "            setTimeout(function() {\n",
       "                var nbb_cell_id = 47;\n",
       "                var nbb_unformatted_code = \"coeff_df['Standardized_B'] = (coeff_df['Coeff'] - coeff_df['Std'])/coeff_df['Mean']\";\n",
       "                var nbb_formatted_code = \"coeff_df[\\\"Standardized_B\\\"] = (coeff_df[\\\"Coeff\\\"] - coeff_df[\\\"Std\\\"]) / coeff_df[\\\"Mean\\\"]\";\n",
       "                var nbb_cells = Jupyter.notebook.get_cells();\n",
       "                for (var i = 0; i < nbb_cells.length; ++i) {\n",
       "                    if (nbb_cells[i].input_prompt_number == nbb_cell_id) {\n",
       "                        if (nbb_cells[i].get_text() == nbb_unformatted_code) {\n",
       "                             nbb_cells[i].set_text(nbb_formatted_code);\n",
       "                        }\n",
       "                        break;\n",
       "                    }\n",
       "                }\n",
       "            }, 500);\n",
       "            "
      ],
      "text/plain": [
       "<IPython.core.display.Javascript object>"
      ]
     },
     "metadata": {},
     "output_type": "display_data"
    }
   ],
   "source": [
    "coeff_df['Standardized_B'] = (coeff_df['Coeff'] - coeff_df['Std'])/coeff_df['Mean']"
   ]
  },
  {
   "cell_type": "code",
   "execution_count": 48,
   "metadata": {},
   "outputs": [
    {
     "ename": "NameError",
     "evalue": "name 'coeff_df' is not defined",
     "output_type": "error",
     "traceback": [
      "\u001b[0;31m---------------------------------------------------------------------------\u001b[0m",
      "\u001b[0;31mNameError\u001b[0m                                 Traceback (most recent call last)",
      "\u001b[0;32m<ipython-input-48-c8917a5cc162>\u001b[0m in \u001b[0;36m<module>\u001b[0;34m\u001b[0m\n\u001b[1;32m      1\u001b[0m \u001b[0;31m# cols = ['Coeff']\u001b[0m\u001b[0;34m\u001b[0m\u001b[0;34m\u001b[0m\u001b[0;34m\u001b[0m\u001b[0m\n\u001b[0;32m----> 2\u001b[0;31m \u001b[0mcoeff_df\u001b[0m\u001b[0;34m=\u001b[0m \u001b[0mcoeff_df\u001b[0m\u001b[0;34m[\u001b[0m\u001b[0mabs\u001b[0m\u001b[0;34m(\u001b[0m\u001b[0mcoeff_df\u001b[0m\u001b[0;34m.\u001b[0m\u001b[0mCoeff\u001b[0m\u001b[0;34m)\u001b[0m \u001b[0;34m>\u001b[0m \u001b[0;36m0.08\u001b[0m\u001b[0;34m]\u001b[0m\u001b[0;34m\u001b[0m\u001b[0;34m\u001b[0m\u001b[0m\n\u001b[0m\u001b[1;32m      3\u001b[0m \u001b[0;34m\u001b[0m\u001b[0m\n\u001b[1;32m      4\u001b[0m \u001b[0;34m\u001b[0m\u001b[0m\n\u001b[1;32m      5\u001b[0m \u001b[0mcoeff_df\u001b[0m\u001b[0;34m\u001b[0m\u001b[0;34m\u001b[0m\u001b[0m\n",
      "\u001b[0;31mNameError\u001b[0m: name 'coeff_df' is not defined"
     ]
    },
    {
     "data": {
      "application/javascript": [
       "\n",
       "            setTimeout(function() {\n",
       "                var nbb_cell_id = 48;\n",
       "                var nbb_unformatted_code = \"# cols = ['Coeff']\\ncoeff_df= coeff_df[abs(coeff_df.Coeff) > 0.08]\\n\\n\\ncoeff_df\";\n",
       "                var nbb_formatted_code = \"# cols = ['Coeff']\\ncoeff_df = coeff_df[abs(coeff_df.Coeff) > 0.08]\\n\\n\\ncoeff_df\";\n",
       "                var nbb_cells = Jupyter.notebook.get_cells();\n",
       "                for (var i = 0; i < nbb_cells.length; ++i) {\n",
       "                    if (nbb_cells[i].input_prompt_number == nbb_cell_id) {\n",
       "                        if (nbb_cells[i].get_text() == nbb_unformatted_code) {\n",
       "                             nbb_cells[i].set_text(nbb_formatted_code);\n",
       "                        }\n",
       "                        break;\n",
       "                    }\n",
       "                }\n",
       "            }, 500);\n",
       "            "
      ],
      "text/plain": [
       "<IPython.core.display.Javascript object>"
      ]
     },
     "metadata": {},
     "output_type": "display_data"
    }
   ],
   "source": [
    "# cols = ['Coeff']\n",
    "coeff_df = coeff_df[abs(coeff_df.Coeff) > 0.08]\n",
    "\n",
    "\n",
    "coeff_df"
   ]
  },
  {
   "cell_type": "code",
   "execution_count": 49,
   "metadata": {},
   "outputs": [
    {
     "name": "stdout",
     "output_type": "stream",
     "text": [
      "Best Penalty: l1\n",
      "Best C: 7.742636826811269\n",
      "[[ 505 1285]\n",
      " [  41  363]]\n",
      "Accuracy of random forest on test set: 0.82\n",
      "Precision: 0.22026699029126215\n",
      "F1: 0.35380116959064334\n",
      "Recall: 0.8985148514851485\n",
      "[0.17410449734595326, -0.06717428959904706, 0.31728165109038264, 0.3501976187326158, -0.21645758343423888, 0.015126202771072057, -0.002682983477153123, 0.015357157952462262, 0.012336867572791248, -0.011040836270745409, -0.024530607044654627, -0.03649700415773, -0.0018374279839064387, -0.027761925893840203, 0.01406169932374854, 0.00845084231170604, 0.047968315812437316, 0.04988017355351481, -0.02482473669194198, -0.06671038443577801, -0.03055752153698089, 0.03482018390975633, -0.013400978115314635, -0.3098983554854067, -0.029694667524065826, 0.012358360986046618]\n"
     ]
    },
    {
     "ename": "NameError",
     "evalue": "name 'coeff_df' is not defined",
     "output_type": "error",
     "traceback": [
      "\u001b[0;31m---------------------------------------------------------------------------\u001b[0m",
      "\u001b[0;31mNameError\u001b[0m                                 Traceback (most recent call last)",
      "\u001b[0;32m<ipython-input-49-a3462524ea9a>\u001b[0m in \u001b[0;36m<module>\u001b[0;34m\u001b[0m\n\u001b[1;32m     61\u001b[0m \u001b[0;31m#barlist = plt.barh(y_pos, coeff_df.Coeff)\u001b[0m\u001b[0;34m\u001b[0m\u001b[0;34m\u001b[0m\u001b[0;34m\u001b[0m\u001b[0m\n\u001b[1;32m     62\u001b[0m \u001b[0;34m\u001b[0m\u001b[0m\n\u001b[0;32m---> 63\u001b[0;31m \u001b[0mbarlist\u001b[0m \u001b[0;34m=\u001b[0m \u001b[0mplt\u001b[0m\u001b[0;34m.\u001b[0m\u001b[0mbarh\u001b[0m\u001b[0;34m(\u001b[0m\u001b[0my_pos\u001b[0m\u001b[0;34m,\u001b[0m \u001b[0mcoeff_df\u001b[0m\u001b[0;34m.\u001b[0m\u001b[0mVar\u001b[0m\u001b[0;34m)\u001b[0m\u001b[0;34m\u001b[0m\u001b[0;34m\u001b[0m\u001b[0m\n\u001b[0m\u001b[1;32m     64\u001b[0m \u001b[0;34m\u001b[0m\u001b[0m\n\u001b[1;32m     65\u001b[0m \u001b[0;31m# Create names on the y-axis\u001b[0m\u001b[0;34m\u001b[0m\u001b[0;34m\u001b[0m\u001b[0;34m\u001b[0m\u001b[0m\n",
      "\u001b[0;31mNameError\u001b[0m: name 'coeff_df' is not defined"
     ]
    },
    {
     "data": {
      "image/png": "[encoded data removed]",
      "text/plain": [
       "<Figure size 576x595.44 with 1 Axes>"
      ]
     },
     "metadata": {},
     "output_type": "display_data"
    },
    {
     "data": {
      "application/javascript": [
       "\n",
       "            setTimeout(function() {\n",
       "                var nbb_cell_id = 49;\n",
       "                var nbb_unformatted_code = \"from sklearn import preprocessing\\n# standardize the data attributes\\nX_train_2 = preprocessing.scale(X_train)\\n\\n# Create logistic regression\\nlogistic = linear_model.LogisticRegression(solver='liblinear', max_iter=1000, class_weight='balanced')\\n# Create regularization penalty space\\npenalty = ['l1', 'l2']\\n# Create regularization hyperparameter space\\nC = np.logspace(0, 4, 10)\\n# Create hyperparameter options\\nhyperparameters = dict(C=C, penalty=penalty)\\n# Create grid search using 5-fold cross validation\\nclf = GridSearchCV(logistic, hyperparameters, cv=5, verbose=0)\\n# Fit grid search\\nbest_model = clf.fit(X_train / np.std(X_train, 0), Y_train)\\n# View best hyperparameters\\nprint('Best Penalty:', best_model.best_estimator_.get_params()['penalty'])\\nprint('Best C:', best_model.best_estimator_.get_params()['C'])\\n# Predict target vector\\ny_pred = best_model.predict(X_test / np.std(X_test, 0))\\ncm = confusion_matrix(Y_test, y_pred)\\nprint(cm)\\n\\n#m.fit(X / np.std(X, 0), y)\\n#print(m.coef_)\\n# First pass run is not awful, but courld use improvement and hyperperamter model\\n# optimization\\nprint('Accuracy of random forest on test set: {:.2f}'.format(best_model.score(X_test, Y_test)))\\nprint(\\\"Precision:\\\",metrics.precision_score(Y_test, y_pred))\\nprint(\\\"F1:\\\",metrics.f1_score(Y_test, y_pred))\\nprint(\\\"Recall:\\\",metrics.recall_score(Y_test, y_pred))\\n\\n\\n# Best Penalty: l2 Best C: 1.0\\nlogistic = linear_model.LogisticRegression(solver='liblinear', max_iter=1000, class_weight='balanced',\\n                                          penalty = 'l2')\\n\\nlogistic.fit(X_train / np.std(X_train, 0), Y_train)\\n\\n\\n\\n#coeff_list = coeff_list.flatten\\ncoeff_list = logistic.coef_\\nflat_list = [item for sublist in coeff_list for item in sublist]\\nprint(flat_list)\\n\\ndata2 = {'Var':X_train.columns,\\n        'Coeff':flat_list}\\n\\ncoeff_df2 = pd.DataFrame(data2)\\n\\n\\n\\n\\n\\nplt.subplots(figsize=(8, 8.27))\\n\\ny_pos = np.arange(len(coeff_df2.Var))\\n# Create horizontal bars\\n#barlist = plt.barh(y_pos, coeff_df.Coeff)\\n\\nbarlist = plt.barh(y_pos, coeff_df.Var)\\n\\n# Create names on the y-axis\\nplt.yticks(y_pos, coeff_df.Var)\\n\\n\\n#plt.suptitle('Coefficient', fontsize=14, fontweight='bold')\\n\\n# Show graphic\\nplt.yticks(fontsize=16)\\nplt.xlabel('Coefficients', fontsize=18)\\nplt.xticks(fontsize=18)\\nplt.show()\";\n",
       "                var nbb_formatted_code = \"from sklearn import preprocessing\\n\\n# standardize the data attributes\\nX_train_2 = preprocessing.scale(X_train)\\n\\n# Create logistic regression\\nlogistic = linear_model.LogisticRegression(\\n    solver=\\\"liblinear\\\", max_iter=1000, class_weight=\\\"balanced\\\"\\n)\\n# Create regularization penalty space\\npenalty = [\\\"l1\\\", \\\"l2\\\"]\\n# Create regularization hyperparameter space\\nC = np.logspace(0, 4, 10)\\n# Create hyperparameter options\\nhyperparameters = dict(C=C, penalty=penalty)\\n# Create grid search using 5-fold cross validation\\nclf = GridSearchCV(logistic, hyperparameters, cv=5, verbose=0)\\n# Fit grid search\\nbest_model = clf.fit(X_train / np.std(X_train, 0), Y_train)\\n# View best hyperparameters\\nprint(\\\"Best Penalty:\\\", best_model.best_estimator_.get_params()[\\\"penalty\\\"])\\nprint(\\\"Best C:\\\", best_model.best_estimator_.get_params()[\\\"C\\\"])\\n# Predict target vector\\ny_pred = best_model.predict(X_test / np.std(X_test, 0))\\ncm = confusion_matrix(Y_test, y_pred)\\nprint(cm)\\n\\n# m.fit(X / np.std(X, 0), y)\\n# print(m.coef_)\\n# First pass run is not awful, but courld use improvement and hyperperamter model\\n# optimization\\nprint(\\n    \\\"Accuracy of random forest on test set: {:.2f}\\\".format(\\n        best_model.score(X_test, Y_test)\\n    )\\n)\\nprint(\\\"Precision:\\\", metrics.precision_score(Y_test, y_pred))\\nprint(\\\"F1:\\\", metrics.f1_score(Y_test, y_pred))\\nprint(\\\"Recall:\\\", metrics.recall_score(Y_test, y_pred))\\n\\n\\n# Best Penalty: l2 Best C: 1.0\\nlogistic = linear_model.LogisticRegression(\\n    solver=\\\"liblinear\\\", max_iter=1000, class_weight=\\\"balanced\\\", penalty=\\\"l2\\\"\\n)\\n\\nlogistic.fit(X_train / np.std(X_train, 0), Y_train)\\n\\n\\n# coeff_list = coeff_list.flatten\\ncoeff_list = logistic.coef_\\nflat_list = [item for sublist in coeff_list for item in sublist]\\nprint(flat_list)\\n\\ndata2 = {\\\"Var\\\": X_train.columns, \\\"Coeff\\\": flat_list}\\n\\ncoeff_df2 = pd.DataFrame(data2)\\n\\n\\nplt.subplots(figsize=(8, 8.27))\\n\\ny_pos = np.arange(len(coeff_df2.Var))\\n# Create horizontal bars\\n# barlist = plt.barh(y_pos, coeff_df.Coeff)\\n\\nbarlist = plt.barh(y_pos, coeff_df.Var)\\n\\n# Create names on the y-axis\\nplt.yticks(y_pos, coeff_df.Var)\\n\\n\\n# plt.suptitle('Coefficient', fontsize=14, fontweight='bold')\\n\\n# Show graphic\\nplt.yticks(fontsize=16)\\nplt.xlabel(\\\"Coefficients\\\", fontsize=18)\\nplt.xticks(fontsize=18)\\nplt.show()\";\n",
       "                var nbb_cells = Jupyter.notebook.get_cells();\n",
       "                for (var i = 0; i < nbb_cells.length; ++i) {\n",
       "                    if (nbb_cells[i].input_prompt_number == nbb_cell_id) {\n",
       "                        if (nbb_cells[i].get_text() == nbb_unformatted_code) {\n",
       "                             nbb_cells[i].set_text(nbb_formatted_code);\n",
       "                        }\n",
       "                        break;\n",
       "                    }\n",
       "                }\n",
       "            }, 500);\n",
       "            "
      ],
      "text/plain": [
       "<IPython.core.display.Javascript object>"
      ]
     },
     "metadata": {},
     "output_type": "display_data"
    }
   ],
   "source": [
    "# standardize the data attributes\n",
    "X_train_2 = preprocessing.scale(X_train)\n",
    "\n",
    "# Create logistic regression\n",
    "logistic = linear_model.LogisticRegression(\n",
    "    solver=\"liblinear\", max_iter=1000, class_weight=\"balanced\"\n",
    ")\n",
    "# Create regularization penalty space\n",
    "penalty = [\"l1\", \"l2\"]\n",
    "# Create regularization hyperparameter space\n",
    "C = np.logspace(0, 4, 10)\n",
    "# Create hyperparameter options\n",
    "hyperparameters = dict(C=C, penalty=penalty)\n",
    "# Create grid search using 5-fold cross validation\n",
    "clf = GridSearchCV(logistic, hyperparameters, cv=5, verbose=0)\n",
    "# Fit grid search\n",
    "best_model = clf.fit(X_train / np.std(X_train, 0), Y_train)\n",
    "# View best hyperparameters\n",
    "print(\"Best Penalty:\", best_model.best_estimator_.get_params()[\"penalty\"])\n",
    "print(\"Best C:\", best_model.best_estimator_.get_params()[\"C\"])\n",
    "# Predict target vector\n",
    "y_pred = best_model.predict(X_test / np.std(X_test, 0))\n",
    "cm = confusion_matrix(Y_test, y_pred)\n",
    "print(cm)\n",
    "\n",
    "# m.fit(X / np.std(X, 0), y)\n",
    "# print(m.coef_)\n",
    "# First pass run is not awful, but courld use improvement and hyperperamter model\n",
    "# optimization\n",
    "print(\n",
    "    \"Accuracy of random forest on test set: {:.2f}\".format(\n",
    "        best_model.score(X_test, Y_test)\n",
    "    )\n",
    ")\n",
    "print(\"Precision:\", metrics.precision_score(Y_test, y_pred))\n",
    "print(\"F1:\", metrics.f1_score(Y_test, y_pred))\n",
    "print(\"Recall:\", metrics.recall_score(Y_test, y_pred))\n",
    "\n",
    "\n",
    "# Best Penalty: l2 Best C: 1.0\n",
    "logistic = linear_model.LogisticRegression(\n",
    "    solver=\"liblinear\", max_iter=1000, class_weight=\"balanced\", penalty=\"l2\"\n",
    ")\n",
    "\n",
    "logistic.fit(X_train / np.std(X_train, 0), Y_train)\n",
    "\n",
    "\n",
    "# coeff_list = coeff_list.flatten\n",
    "coeff_list = logistic.coef_\n",
    "flat_list = [item for sublist in coeff_list for item in sublist]\n",
    "print(flat_list)\n",
    "\n",
    "data2 = {\"Var\": X_train.columns, \"Coeff\": flat_list}\n",
    "\n",
    "coeff_df2 = pd.DataFrame(data2)\n",
    "\n",
    "\n",
    "plt.subplots(figsize=(8, 8.27))\n",
    "\n",
    "y_pos = np.arange(len(coeff_df2.Var))\n",
    "# Create horizontal bars\n",
    "# barlist = plt.barh(y_pos, coeff_df.Coeff)\n",
    "\n",
    "barlist = plt.barh(y_pos, coeff_df.Var)\n",
    "\n",
    "# Create names on the y-axis\n",
    "plt.yticks(y_pos, coeff_df.Var)\n",
    "\n",
    "\n",
    "# plt.suptitle('Coefficient', fontsize=14, fontweight='bold')\n",
    "\n",
    "# Show graphic\n",
    "plt.yticks(fontsize=16)\n",
    "plt.xlabel(\"Coefficients\", fontsize=18)\n",
    "plt.xticks(fontsize=18)\n",
    "plt.show()"
   ]
  },
  {
   "cell_type": "code",
   "execution_count": null,
   "metadata": {},
   "outputs": [],
   "source": []
  },
  {
   "cell_type": "code",
   "execution_count": null,
   "metadata": {},
   "outputs": [],
   "source": []
  },
  {
   "cell_type": "code",
   "execution_count": null,
   "metadata": {},
   "outputs": [],
   "source": []
  },
  {
   "cell_type": "code",
   "execution_count": 50,
   "metadata": {},
   "outputs": [
    {
     "ename": "NameError",
     "evalue": "name 'coeff_df' is not defined",
     "output_type": "error",
     "traceback": [
      "\u001b[0;31m---------------------------------------------------------------------------\u001b[0m",
      "\u001b[0;31mNameError\u001b[0m                                 Traceback (most recent call last)",
      "\u001b[0;32m<ipython-input-50-6218537acf1a>\u001b[0m in \u001b[0;36m<module>\u001b[0;34m\u001b[0m\n\u001b[1;32m      9\u001b[0m \u001b[0mplt\u001b[0m\u001b[0;34m.\u001b[0m\u001b[0msubplots\u001b[0m\u001b[0;34m(\u001b[0m\u001b[0mfigsize\u001b[0m\u001b[0;34m=\u001b[0m\u001b[0;34m(\u001b[0m\u001b[0;36m8\u001b[0m\u001b[0;34m,\u001b[0m \u001b[0;36m8.27\u001b[0m\u001b[0;34m)\u001b[0m\u001b[0;34m)\u001b[0m\u001b[0;34m\u001b[0m\u001b[0;34m\u001b[0m\u001b[0m\n\u001b[1;32m     10\u001b[0m \u001b[0;34m\u001b[0m\u001b[0m\n\u001b[0;32m---> 11\u001b[0;31m \u001b[0my_pos\u001b[0m \u001b[0;34m=\u001b[0m \u001b[0mnp\u001b[0m\u001b[0;34m.\u001b[0m\u001b[0marange\u001b[0m\u001b[0;34m(\u001b[0m\u001b[0mlen\u001b[0m\u001b[0;34m(\u001b[0m\u001b[0mcoeff_df\u001b[0m\u001b[0;34m.\u001b[0m\u001b[0mVar\u001b[0m\u001b[0;34m)\u001b[0m\u001b[0;34m)\u001b[0m\u001b[0;34m\u001b[0m\u001b[0;34m\u001b[0m\u001b[0m\n\u001b[0m\u001b[1;32m     12\u001b[0m \u001b[0;31m# Create horizontal bars\u001b[0m\u001b[0;34m\u001b[0m\u001b[0;34m\u001b[0m\u001b[0;34m\u001b[0m\u001b[0m\n\u001b[1;32m     13\u001b[0m \u001b[0mbarlist\u001b[0m \u001b[0;34m=\u001b[0m \u001b[0mplt\u001b[0m\u001b[0;34m.\u001b[0m\u001b[0mbarh\u001b[0m\u001b[0;34m(\u001b[0m\u001b[0my_pos\u001b[0m\u001b[0;34m,\u001b[0m \u001b[0mcoeff_df\u001b[0m\u001b[0;34m.\u001b[0m\u001b[0mStandardized_B\u001b[0m\u001b[0;34m)\u001b[0m\u001b[0;34m\u001b[0m\u001b[0;34m\u001b[0m\u001b[0m\n",
      "\u001b[0;31mNameError\u001b[0m: name 'coeff_df' is not defined"
     ]
    },
    {
     "data": {
      "image/png": "[encoded data removed]",
      "text/plain": [
       "<Figure size 576x595.44 with 1 Axes>"
      ]
     },
     "metadata": {},
     "output_type": "display_data"
    },
    {
     "data": {
      "application/javascript": [
       "\n",
       "            setTimeout(function() {\n",
       "                var nbb_cell_id = 50;\n",
       "                var nbb_unformatted_code = \"#coeff_df.plot(kind='bar', color=coeff_df.Coeff.apply(lambda x: 'b' if x>0 else 'y'));\\n#sns.set(font_scale=3) \\n#sns.set_style(\\\"whitegrid\\\")\\n#fig, ax = plt.subplots(figsize=(8, 8.27))\\n#tips = sns.load_dataset(\\\"tips\\\")\\n#ax = sns.boxplot(x= coeff_df.Var, y= coeff_df.Coeff)\\n#plt.xticks(rotation=45)\\n\\nplt.subplots(figsize=(8, 8.27))\\n\\ny_pos = np.arange(len(coeff_df.Var))\\n# Create horizontal bars\\nbarlist = plt.barh(y_pos, coeff_df.Standardized_B)\\n\\n\\n\\nbarlist[0].set_color('r')\\nbarlist[8].set_color('r')\\nbarlist[9].set_color('r')\\nbarlist[10].set_color('r')\\nbarlist[11].set_color('r')\\nbarlist[12].set_color('r')\\nbarlist[13].set_color('r')\\nbarlist[17].set_color('r')\\nbarlist[18].set_color('r')\\nbarlist[19].set_color('r')\\nbarlist[21].set_color('r')\\nbarlist[22].set_color('r')\\nbarlist[23].set_color('r')\\n\\n# Create names on the y-axis\\nplt.yticks(y_pos, coeff_df.Var)\\n\\n\\n#plt.suptitle('Coefficient', fontsize=14, fontweight='bold')\\n\\n# Show graphic\\nplt.yticks(fontsize=16)\\nplt.xlabel('Coefficients', fontsize=18)\\nplt.xticks(fontsize=18)\\nplt.show()\";\n",
       "                var nbb_formatted_code = \"# coeff_df.plot(kind='bar', color=coeff_df.Coeff.apply(lambda x: 'b' if x>0 else 'y'));\\n# sns.set(font_scale=3)\\n# sns.set_style(\\\"whitegrid\\\")\\n# fig, ax = plt.subplots(figsize=(8, 8.27))\\n# tips = sns.load_dataset(\\\"tips\\\")\\n# ax = sns.boxplot(x= coeff_df.Var, y= coeff_df.Coeff)\\n# plt.xticks(rotation=45)\\n\\nplt.subplots(figsize=(8, 8.27))\\n\\ny_pos = np.arange(len(coeff_df.Var))\\n# Create horizontal bars\\nbarlist = plt.barh(y_pos, coeff_df.Standardized_B)\\n\\n\\nbarlist[0].set_color(\\\"r\\\")\\nbarlist[8].set_color(\\\"r\\\")\\nbarlist[9].set_color(\\\"r\\\")\\nbarlist[10].set_color(\\\"r\\\")\\nbarlist[11].set_color(\\\"r\\\")\\nbarlist[12].set_color(\\\"r\\\")\\nbarlist[13].set_color(\\\"r\\\")\\nbarlist[17].set_color(\\\"r\\\")\\nbarlist[18].set_color(\\\"r\\\")\\nbarlist[19].set_color(\\\"r\\\")\\nbarlist[21].set_color(\\\"r\\\")\\nbarlist[22].set_color(\\\"r\\\")\\nbarlist[23].set_color(\\\"r\\\")\\n\\n# Create names on the y-axis\\nplt.yticks(y_pos, coeff_df.Var)\\n\\n\\n# plt.suptitle('Coefficient', fontsize=14, fontweight='bold')\\n\\n# Show graphic\\nplt.yticks(fontsize=16)\\nplt.xlabel(\\\"Coefficients\\\", fontsize=18)\\nplt.xticks(fontsize=18)\\nplt.show()\";\n",
       "                var nbb_cells = Jupyter.notebook.get_cells();\n",
       "                for (var i = 0; i < nbb_cells.length; ++i) {\n",
       "                    if (nbb_cells[i].input_prompt_number == nbb_cell_id) {\n",
       "                        if (nbb_cells[i].get_text() == nbb_unformatted_code) {\n",
       "                             nbb_cells[i].set_text(nbb_formatted_code);\n",
       "                        }\n",
       "                        break;\n",
       "                    }\n",
       "                }\n",
       "            }, 500);\n",
       "            "
      ],
      "text/plain": [
       "<IPython.core.display.Javascript object>"
      ]
     },
     "metadata": {},
     "output_type": "display_data"
    }
   ],
   "source": [
    "# coeff_df.plot(kind='bar', color=coeff_df.Coeff.apply(lambda x: 'b' if x>0 else 'y'));\n",
    "# sns.set(font_scale=3)\n",
    "# sns.set_style(\"whitegrid\")\n",
    "# fig, ax = plt.subplots(figsize=(8, 8.27))\n",
    "# tips = sns.load_dataset(\"tips\")\n",
    "# ax = sns.boxplot(x= coeff_df.Var, y= coeff_df.Coeff)\n",
    "# plt.xticks(rotation=45)\n",
    "\n",
    "plt.subplots(figsize=(8, 8.27))\n",
    "\n",
    "y_pos = np.arange(len(coeff_df.Var))\n",
    "# Create horizontal bars\n",
    "barlist = plt.barh(y_pos, coeff_df.Standardized_B)\n",
    "\n",
    "\n",
    "barlist[0].set_color(\"r\")\n",
    "barlist[8].set_color(\"r\")\n",
    "barlist[9].set_color(\"r\")\n",
    "barlist[10].set_color(\"r\")\n",
    "barlist[11].set_color(\"r\")\n",
    "barlist[12].set_color(\"r\")\n",
    "barlist[13].set_color(\"r\")\n",
    "barlist[17].set_color(\"r\")\n",
    "barlist[18].set_color(\"r\")\n",
    "barlist[19].set_color(\"r\")\n",
    "barlist[21].set_color(\"r\")\n",
    "barlist[22].set_color(\"r\")\n",
    "barlist[23].set_color(\"r\")\n",
    "\n",
    "# Create names on the y-axis\n",
    "plt.yticks(y_pos, coeff_df.Var)\n",
    "\n",
    "\n",
    "# plt.suptitle('Coefficient', fontsize=14, fontweight='bold')\n",
    "\n",
    "# Show graphic\n",
    "plt.yticks(fontsize=16)\n",
    "plt.xlabel(\"Coefficients\", fontsize=18)\n",
    "plt.xticks(fontsize=18)\n",
    "plt.show()"
   ]
  },
  {
   "cell_type": "code",
   "execution_count": 51,
   "metadata": {},
   "outputs": [
    {
     "data": {
      "text/plain": [
       "LogisticRegression(C=1.0, class_weight='balanced', dual=False,\n",
       "                   fit_intercept=True, intercept_scaling=1, l1_ratio=None,\n",
       "                   max_iter=1000, multi_class='auto', n_jobs=None, penalty='l1',\n",
       "                   random_state=None, solver='liblinear', tol=0.0001, verbose=0,\n",
       "                   warm_start=False)"
      ]
     },
     "execution_count": 51,
     "metadata": {},
     "output_type": "execute_result"
    },
    {
     "data": {
      "application/javascript": [
       "\n",
       "            setTimeout(function() {\n",
       "                var nbb_cell_id = 51;\n",
       "                var nbb_unformatted_code = \"logistic = linear_model.LogisticRegression(solver='liblinear', max_iter=1000, class_weight='balanced',\\n                                          penalty = 'l1')\\n\\nlogistic.fit(X_train, Y_train)\";\n",
       "                var nbb_formatted_code = \"logistic = linear_model.LogisticRegression(\\n    solver=\\\"liblinear\\\", max_iter=1000, class_weight=\\\"balanced\\\", penalty=\\\"l1\\\"\\n)\\n\\nlogistic.fit(X_train, Y_train)\";\n",
       "                var nbb_cells = Jupyter.notebook.get_cells();\n",
       "                for (var i = 0; i < nbb_cells.length; ++i) {\n",
       "                    if (nbb_cells[i].input_prompt_number == nbb_cell_id) {\n",
       "                        if (nbb_cells[i].get_text() == nbb_unformatted_code) {\n",
       "                             nbb_cells[i].set_text(nbb_formatted_code);\n",
       "                        }\n",
       "                        break;\n",
       "                    }\n",
       "                }\n",
       "            }, 500);\n",
       "            "
      ],
      "text/plain": [
       "<IPython.core.display.Javascript object>"
      ]
     },
     "metadata": {},
     "output_type": "display_data"
    }
   ],
   "source": [
    "logistic = linear_model.LogisticRegression(\n",
    "    solver=\"liblinear\", max_iter=1000, class_weight=\"balanced\", penalty=\"l1\"\n",
    ")\n",
    "\n",
    "logistic.fit(X_train, Y_train)"
   ]
  },
  {
   "cell_type": "code",
   "execution_count": 286,
   "metadata": {},
   "outputs": [],
   "source": [
    "import pickle\n",
    "filename = 'logistic_model.sav'\n",
    "pickle.dump(logistic, open(filename, 'wb'))"
   ]
  },
  {
   "cell_type": "code",
   "execution_count": 52,
   "metadata": {},
   "outputs": [
    {
     "ename": "NameError",
     "evalue": "name 'coeff_df' is not defined",
     "output_type": "error",
     "traceback": [
      "\u001b[0;31m---------------------------------------------------------------------------\u001b[0m",
      "\u001b[0;31mNameError\u001b[0m                                 Traceback (most recent call last)",
      "\u001b[0;32m<ipython-input-52-d787d7938933>\u001b[0m in \u001b[0;36m<module>\u001b[0;34m\u001b[0m\n\u001b[1;32m      1\u001b[0m \u001b[0mplt\u001b[0m\u001b[0;34m.\u001b[0m\u001b[0msubplots\u001b[0m\u001b[0;34m(\u001b[0m\u001b[0mfigsize\u001b[0m\u001b[0;34m=\u001b[0m\u001b[0;34m(\u001b[0m\u001b[0;36m8\u001b[0m\u001b[0;34m,\u001b[0m \u001b[0;36m8.27\u001b[0m\u001b[0;34m)\u001b[0m\u001b[0;34m)\u001b[0m\u001b[0;34m\u001b[0m\u001b[0;34m\u001b[0m\u001b[0m\n\u001b[1;32m      2\u001b[0m \u001b[0;34m\u001b[0m\u001b[0m\n\u001b[0;32m----> 3\u001b[0;31m \u001b[0my_pos\u001b[0m \u001b[0;34m=\u001b[0m \u001b[0mnp\u001b[0m\u001b[0;34m.\u001b[0m\u001b[0marange\u001b[0m\u001b[0;34m(\u001b[0m\u001b[0mlen\u001b[0m\u001b[0;34m(\u001b[0m\u001b[0mcoeff_df\u001b[0m\u001b[0;34m.\u001b[0m\u001b[0mVar\u001b[0m\u001b[0;34m)\u001b[0m\u001b[0;34m)\u001b[0m\u001b[0;34m\u001b[0m\u001b[0;34m\u001b[0m\u001b[0m\n\u001b[0m\u001b[1;32m      4\u001b[0m \u001b[0;31m# Create horizontal bars\u001b[0m\u001b[0;34m\u001b[0m\u001b[0;34m\u001b[0m\u001b[0;34m\u001b[0m\u001b[0m\n\u001b[1;32m      5\u001b[0m \u001b[0;31m#barlist = plt.barh(y_pos, coeff_df.Coeff)\u001b[0m\u001b[0;34m\u001b[0m\u001b[0;34m\u001b[0m\u001b[0;34m\u001b[0m\u001b[0m\n",
      "\u001b[0;31mNameError\u001b[0m: name 'coeff_df' is not defined"
     ]
    },
    {
     "data": {
      "image/png": "[encoded data removed]",
      "text/plain": [
       "<Figure size 576x595.44 with 1 Axes>"
      ]
     },
     "metadata": {},
     "output_type": "display_data"
    },
    {
     "data": {
      "application/javascript": [
       "\n",
       "            setTimeout(function() {\n",
       "                var nbb_cell_id = 52;\n",
       "                var nbb_unformatted_code = \"\\nplt.subplots(figsize=(8, 8.27))\\n\\ny_pos = np.arange(len(coeff_df.Var))\\n# Create horizontal bars\\n#barlist = plt.barh(y_pos, coeff_df.Coeff)\\n\\nbarlist = plt.barh(y_pos, coeff_df.Standardized_B)\\n\\n\\n\\nbarlist[1].set_color('r')\\nbarlist[2].set_color('r')\\nbarlist[3].set_color('r')\\nbarlist[4].set_color('r')\\nbarlist[7].set_color('r')\\nbarlist[8].set_color('r')\\nbarlist[12].set_color('r')\\nbarlist[15].set_color('r')\\n\\n\\n# Create names on the y-axis\\nplt.yticks(y_pos, coeff_df.Var)\\n\\n\\n#plt.suptitle('Coefficient', fontsize=14, fontweight='bold')\\n\\n# Show graphic\\nplt.yticks(fontsize=16)\\nplt.xlabel('Coefficients', fontsize=18)\\nplt.xticks(fontsize=18)\\nplt.show()\";\n",
       "                var nbb_formatted_code = \"plt.subplots(figsize=(8, 8.27))\\n\\ny_pos = np.arange(len(coeff_df.Var))\\n# Create horizontal bars\\n# barlist = plt.barh(y_pos, coeff_df.Coeff)\\n\\nbarlist = plt.barh(y_pos, coeff_df.Standardized_B)\\n\\n\\nbarlist[1].set_color(\\\"r\\\")\\nbarlist[2].set_color(\\\"r\\\")\\nbarlist[3].set_color(\\\"r\\\")\\nbarlist[4].set_color(\\\"r\\\")\\nbarlist[7].set_color(\\\"r\\\")\\nbarlist[8].set_color(\\\"r\\\")\\nbarlist[12].set_color(\\\"r\\\")\\nbarlist[15].set_color(\\\"r\\\")\\n\\n\\n# Create names on the y-axis\\nplt.yticks(y_pos, coeff_df.Var)\\n\\n\\n# plt.suptitle('Coefficient', fontsize=14, fontweight='bold')\\n\\n# Show graphic\\nplt.yticks(fontsize=16)\\nplt.xlabel(\\\"Coefficients\\\", fontsize=18)\\nplt.xticks(fontsize=18)\\nplt.show()\";\n",
       "                var nbb_cells = Jupyter.notebook.get_cells();\n",
       "                for (var i = 0; i < nbb_cells.length; ++i) {\n",
       "                    if (nbb_cells[i].input_prompt_number == nbb_cell_id) {\n",
       "                        if (nbb_cells[i].get_text() == nbb_unformatted_code) {\n",
       "                             nbb_cells[i].set_text(nbb_formatted_code);\n",
       "                        }\n",
       "                        break;\n",
       "                    }\n",
       "                }\n",
       "            }, 500);\n",
       "            "
      ],
      "text/plain": [
       "<IPython.core.display.Javascript object>"
      ]
     },
     "metadata": {},
     "output_type": "display_data"
    }
   ],
   "source": [
    "plt.subplots(figsize=(8, 8.27))\n",
    "\n",
    "y_pos = np.arange(len(coeff_df.Var))\n",
    "# Create horizontal bars\n",
    "# barlist = plt.barh(y_pos, coeff_df.Coeff)\n",
    "\n",
    "barlist = plt.barh(y_pos, coeff_df.Standardized_B)\n",
    "\n",
    "\n",
    "barlist[1].set_color(\"r\")\n",
    "barlist[2].set_color(\"r\")\n",
    "barlist[3].set_color(\"r\")\n",
    "barlist[4].set_color(\"r\")\n",
    "barlist[7].set_color(\"r\")\n",
    "barlist[8].set_color(\"r\")\n",
    "barlist[12].set_color(\"r\")\n",
    "barlist[15].set_color(\"r\")\n",
    "\n",
    "\n",
    "# Create names on the y-axis\n",
    "plt.yticks(y_pos, coeff_df.Var)\n",
    "\n",
    "\n",
    "# plt.suptitle('Coefficient', fontsize=14, fontweight='bold')\n",
    "\n",
    "# Show graphic\n",
    "plt.yticks(fontsize=16)\n",
    "plt.xlabel(\"Coefficients\", fontsize=18)\n",
    "plt.xticks(fontsize=18)\n",
    "plt.show()"
   ]
  },
  {
   "cell_type": "code",
   "execution_count": 53,
   "metadata": {},
   "outputs": [
    {
     "name": "stdout",
     "output_type": "stream",
     "text": [
      "[[  78 1712]\n",
      " [   8  396]]\n",
      "Accuracy of random forest on test set: 0.22\n",
      "Precision: 0.18785578747628084\n",
      "Recall: 0.31528662420382164\n",
      "F1: 0.9801980198019802\n"
     ]
    },
    {
     "data": {
      "application/javascript": [
       "\n",
       "            setTimeout(function() {\n",
       "                var nbb_cell_id = 53;\n",
       "                var nbb_unformatted_code = \"# The four best performers test against the test set\\n\\n#The results with balanced-weighting\\n#SVM: 0.789121 (0.047093)\\n# Instantiate model with 1000 decision trees\\nrf = SVC(class_weight='balanced')\\nrf.fit(X_train, Y_train)\\n\\ny_pred = rf.predict(X_test)\\ny_pred = pd.Series(y_pred)\\n# Train the model on training data\\ncm = confusion_matrix(Y_test, y_pred)\\nprint(cm)\\n\\n# First pass run is not awful, but courld use improvement and hyperperamter model\\n# optimization\\nprint('Accuracy of random forest on test set: {:.2f}'.format(rf.score(X_test, Y_test)))\\nprint(\\\"Precision:\\\",metrics.precision_score(Y_test, y_pred))\\nprint(\\\"Recall:\\\",metrics.f1_score(Y_test, y_pred))\\nprint(\\\"F1:\\\",metrics.recall_score(Y_test, y_pred))\";\n",
       "                var nbb_formatted_code = \"# The four best performers test against the test set\\n\\n# The results with balanced-weighting\\n# SVM: 0.789121 (0.047093)\\n# Instantiate model with 1000 decision trees\\nrf = SVC(class_weight=\\\"balanced\\\")\\nrf.fit(X_train, Y_train)\\n\\ny_pred = rf.predict(X_test)\\ny_pred = pd.Series(y_pred)\\n# Train the model on training data\\ncm = confusion_matrix(Y_test, y_pred)\\nprint(cm)\\n\\n# First pass run is not awful, but courld use improvement and hyperperamter model\\n# optimization\\nprint(\\\"Accuracy of random forest on test set: {:.2f}\\\".format(rf.score(X_test, Y_test)))\\nprint(\\\"Precision:\\\", metrics.precision_score(Y_test, y_pred))\\nprint(\\\"Recall:\\\", metrics.f1_score(Y_test, y_pred))\\nprint(\\\"F1:\\\", metrics.recall_score(Y_test, y_pred))\";\n",
       "                var nbb_cells = Jupyter.notebook.get_cells();\n",
       "                for (var i = 0; i < nbb_cells.length; ++i) {\n",
       "                    if (nbb_cells[i].input_prompt_number == nbb_cell_id) {\n",
       "                        if (nbb_cells[i].get_text() == nbb_unformatted_code) {\n",
       "                             nbb_cells[i].set_text(nbb_formatted_code);\n",
       "                        }\n",
       "                        break;\n",
       "                    }\n",
       "                }\n",
       "            }, 500);\n",
       "            "
      ],
      "text/plain": [
       "<IPython.core.display.Javascript object>"
      ]
     },
     "metadata": {},
     "output_type": "display_data"
    }
   ],
   "source": [
    "# The four best performers test against the test set\n",
    "\n",
    "# The results with balanced-weighting\n",
    "# SVM: 0.789121 (0.047093)\n",
    "# Instantiate model with 1000 decision trees\n",
    "rf = SVC(class_weight=\"balanced\")\n",
    "rf.fit(X_train, Y_train)\n",
    "\n",
    "y_pred = rf.predict(X_test)\n",
    "y_pred = pd.Series(y_pred)\n",
    "# Train the model on training data\n",
    "cm = confusion_matrix(Y_test, y_pred)\n",
    "print(cm)\n",
    "\n",
    "# First pass run is not awful, but courld use improvement and hyperperamter model\n",
    "# optimization\n",
    "print(\"Accuracy of random forest on test set: {:.2f}\".format(rf.score(X_test, Y_test)))\n",
    "print(\"Precision:\", metrics.precision_score(Y_test, y_pred))\n",
    "print(\"Recall:\", metrics.f1_score(Y_test, y_pred))\n",
    "print(\"F1:\", metrics.recall_score(Y_test, y_pred))"
   ]
  },
  {
   "cell_type": "code",
   "execution_count": 121,
   "metadata": {},
   "outputs": [
    {
     "name": "stdout",
     "output_type": "stream",
     "text": [
      "[[1828  286]\n",
      " [ 289   47]]\n",
      "Accuracy of random forest on test set: 0.75\n",
      "Precision: 0.14114114114114115\n",
      "Recall: 0.13988095238095238\n",
      "F1: 0.14050822122571005\n"
     ]
    },
    {
     "data": {
      "text/plain": [
       "0.7620408163265306"
      ]
     },
     "execution_count": 121,
     "metadata": {},
     "output_type": "execute_result"
    }
   ],
   "source": [
    "# Random Chance Model\n",
    "\n",
    "from sklearn.dummy import DummyClassifier\n",
    "\n",
    "dclf = DummyClassifier() \n",
    "dclf.fit(X_train, Y_train) \n",
    "\n",
    "y_pred = dclf.predict(X_test)\n",
    "y_pred = pd.Series(y_pred)\n",
    "# Train the model on training data\n",
    "cm = confusion_matrix(Y_test, y_pred)\n",
    "print(cm)\n",
    "\n",
    "# First pass run is not awful, but courld use improvement and hyperperamter model\n",
    "# optimization\n",
    "print('Accuracy of random forest on test set: {:.2f}'.format(dclf.score(X_test, Y_test)))\n",
    "print(\"Precision:\",metrics.precision_score(Y_test, y_pred))\n",
    "print(\"Recall:\",metrics.recall_score(Y_test, y_pred))\n",
    "print(\"F1:\",metrics.f1_score(Y_test, y_pred))   \n",
    "\n",
    "\n",
    "score = dclf.score(X_test, Y_test) \n",
    "\n",
    "score \n",
    "\n",
    "\n",
    "#listofzeros = [0] * (2114 + 223)\n",
    "# Randomly replace value of zeroes\n",
    "# 0 2114\n",
    "# 1 336\n",
    "#Y_test.count()"
   ]
  }
 ],
 "metadata": {
  "kernelspec": {
   "display_name": "Python 3",
   "language": "python",
   "name": "python3"
  },
  "language_info": {
   "codemirror_mode": {
    "name": "ipython",
    "version": 3
   },
   "file_extension": ".py",
   "mimetype": "text/x-python",
   "name": "python",
   "nbconvert_exporter": "python",
   "pygments_lexer": "ipython3",
   "version": "3.7.4"
  }
 },
 "nbformat": 4,
 "nbformat_minor": 2
}
